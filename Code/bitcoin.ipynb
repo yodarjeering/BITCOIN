{
 "cells": [
  {
   "cell_type": "markdown",
   "metadata": {},
   "source": [
    "# import"
   ]
  },
  {
   "cell_type": "code",
   "execution_count": 1,
   "metadata": {},
   "outputs": [],
   "source": [
    "import numpy as np\n",
    "import glob\n",
    "import pandas as pd\n",
    "import matplotlib.pyplot as plt\n",
    "from my_library.library import *\n",
    "from pprint import pprint\n",
    "import json\n",
    "import requests\n",
    "import sys\n",
    "path_ =  '/Users/Owner/Desktop/bitflyer_api'\n",
    "sys.path.append(path_)\n",
    "from settings import API_settings as bapi\n"
   ]
  },
  {
   "cell_type": "code",
   "execution_count": 13,
   "metadata": {},
   "outputs": [],
   "source": [
    "path_win1 = '/Users/Owner/Desktop/BitCoin/Data/btc_day_chart.csv'\n",
    "path_win2= '/Users/Owner/Desktop/BitCoin/Data/btc_min_chart.csv'"
   ]
  },
  {
   "cell_type": "code",
   "execution_count": 3,
   "metadata": {},
   "outputs": [],
   "source": [
    "def load_csv(load_path):\n",
    "    df = pd.read_csv(load_path, header=None)\n",
    "    df = df.rename(columns={\n",
    "    df.columns[0]:'day',\n",
    "    df.columns[1]:'open',\n",
    "    df.columns[2]:'high',\n",
    "    df.columns[3]:'low',\n",
    "    df.columns[4]:'close',\n",
    "    df.columns[5]:'volume'\n",
    "    })\n",
    "    df['day'] = pd.to_datetime(df['day'],format='%Y/%m/%d')\n",
    "    df.set_index('day',inplace=True)\n",
    "    return df"
   ]
  },
  {
   "cell_type": "code",
   "execution_count": 14,
   "metadata": {},
   "outputs": [],
   "source": [
    "df = load_csv(path_win2)"
   ]
  },
  {
   "cell_type": "code",
   "execution_count": null,
   "metadata": {},
   "outputs": [],
   "source": [
    "ts = TechnicalSimulation(hold_day=100)\n",
    "ts.simulate(df,start_year=2021,end_year=2022)"
   ]
  },
  {
   "cell_type": "markdown",
   "metadata": {},
   "source": [
    "# bitflyer api"
   ]
  },
  {
   "cell_type": "code",
   "execution_count": 2,
   "metadata": {},
   "outputs": [],
   "source": [
    "import ccxt\n",
    "import datetime"
   ]
  },
  {
   "cell_type": "code",
   "execution_count": 3,
   "metadata": {},
   "outputs": [],
   "source": [
    "bitflyer = ccxt.bitflyer({\n",
    "'apiKey': bapi.API_KEY,\n",
    "'secret': bapi.API_SECRET,\n",
    "})\n",
    "\n",
    "COIN = 'BTC'\n",
    "PAIR = 'BTCJPY28SEP2018'\n",
    "\n",
    "# ロット(単位はBTC)\n",
    "LOT = 0.001\n",
    "\n",
    "# 最小注文数(取引所の仕様に応じて設定)\n",
    "AMOUNT_MIN = 0.001\n",
    "\n",
    "# スプレッド閾値\n",
    "SPREAD_ENTRY = 0.0005  # 実効スプレッド(100%=1,1%=0.01)がこの値を上回ったらエントリー\n",
    "SPREAD_CANCEL = 0.0003 # 実効スプレッド(100%=1,1%=0.01)がこの値を下回ったら指値更新を停止\n",
    "\n",
    "# 数量X(この数量よりも下に指値をおく)\n",
    "AMOUNT_THRU = 0.01\n",
    "\n",
    "# 実効Ask/BidからDELTA離れた位置に指値をおく\n",
    "DELTA = 1"
   ]
  },
  {
   "cell_type": "code",
   "execution_count": 4,
   "metadata": {},
   "outputs": [],
   "source": [
    "\n",
    "#------------------------------------------------------------------------------#\n",
    "#log設定\n",
    "import logging\n",
    "logger = logging.getLogger('LoggingTest')\n",
    "logger.setLevel(10)\n",
    "fh = logging.FileHandler('log_mm_bf_' + datetime.datetime.now().strftime('%Y%m%d') + '_' + datetime.datetime.now().strftime('%H%M%S') + '.log')\n",
    "logger.addHandler(fh)\n",
    "sh = logging.StreamHandler()\n",
    "logger.addHandler(sh)\n",
    "formatter = logging.Formatter('%(asctime)s: %(message)s', datefmt=\"%Y-%m-%d %H:%M:%S\")\n",
    "fh.setFormatter(formatter)\n",
    "sh.setFormatter(formatter)\n",
    "\n",
    "#------------------------------------------------------------------------------#\n",
    "\n",
    "# JPY残高を参照する関数\n",
    "def get_asset():\n",
    "\n",
    "    while True:\n",
    "        try:\n",
    "            value = bitflyer.fetch_balance()\n",
    "            break\n",
    "        except Exception as e:\n",
    "            logger.info(e)\n",
    "            time.sleep(1)\n",
    "    return value\n",
    "\n"
   ]
  },
  {
   "cell_type": "code",
   "execution_count": 6,
   "metadata": {},
   "outputs": [],
   "source": [
    "# JPY証拠金を参照する関数\n",
    "def get_colla():\n",
    "\n",
    "    while True:\n",
    "        try:\n",
    "            value = bitflyer.privateGetGetcollateral()\n",
    "            break\n",
    "        except Exception as e:\n",
    "            logger.info(e)\n",
    "            time.sleep(1)\n",
    "    return value"
   ]
  },
  {
   "cell_type": "code",
   "execution_count": 7,
   "metadata": {},
   "outputs": [
    {
     "name": "stdout",
     "output_type": "stream",
     "text": [
      "{'asks': [['2825400.0', '1.913']], 'bids': [['2825084.0', '0.0885']]}\n"
     ]
    }
   ],
   "source": [
    "from pprint import pprint\n",
    "import json\n",
    "import requests\n",
    "BASE_URL = 'https://coincheck.com'\n",
    "url = BASE_URL + '/api/order_books'\n",
    "params = {\n",
    "    'limit': 1\n",
    "}\n",
    "r = requests.get(url, params=params)\n",
    "r = r.json()\n",
    "pprint(r)"
   ]
  },
  {
   "cell_type": "code",
   "execution_count": 16,
   "metadata": {},
   "outputs": [],
   "source": [
    "ask = float(r['asks'][0][0])\n",
    "bid = float(r['bids'][0][0])"
   ]
  },
  {
   "cell_type": "code",
   "execution_count": 17,
   "metadata": {},
   "outputs": [],
   "source": [
    "spread = (ask - bid )/bid"
   ]
  },
  {
   "cell_type": "code",
   "execution_count": 18,
   "metadata": {},
   "outputs": [
    {
     "data": {
      "text/plain": [
       "0.00011185508112325155"
      ]
     },
     "execution_count": 18,
     "metadata": {},
     "output_type": "execute_result"
    }
   ],
   "source": [
    "spread"
   ]
  },
  {
   "cell_type": "code",
   "execution_count": null,
   "metadata": {},
   "outputs": [],
   "source": []
  }
 ],
 "metadata": {
  "kernelspec": {
   "display_name": "Python 3.9.13 64-bit (windows store)",
   "language": "python",
   "name": "python3"
  },
  "language_info": {
   "codemirror_mode": {
    "name": "ipython",
    "version": 3
   },
   "file_extension": ".py",
   "mimetype": "text/x-python",
   "name": "python",
   "nbconvert_exporter": "python",
   "pygments_lexer": "ipython3",
   "version": "3.9.13"
  },
  "orig_nbformat": 4,
  "vscode": {
   "interpreter": {
    "hash": "d6ca01a9d29b8f49b2398e47ff0a4f0d82a4b97eff954d8fa800ff949016a671"
   }
  }
 },
 "nbformat": 4,
 "nbformat_minor": 2
}
