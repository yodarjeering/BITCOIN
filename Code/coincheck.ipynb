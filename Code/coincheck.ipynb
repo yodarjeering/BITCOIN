{
 "cells": [
  {
   "cell_type": "markdown",
   "metadata": {},
   "source": [
    "# import"
   ]
  },
  {
   "cell_type": "code",
   "execution_count": 40,
   "metadata": {},
   "outputs": [],
   "source": [
    "import numpy as np\n",
    "import glob\n",
    "import pandas as pd\n",
    "import matplotlib.pyplot as plt\n",
    "from my_library.library import *\n",
    "from pprint import pprint\n",
    "import json\n",
    "import requests\n",
    "import sys\n",
    "path_ =  '/Users/Owner/Desktop/coincheck_api'\n",
    "sys.path.append(path_)\n",
    "from settings_coincheck import API_settings as capi\n",
    "import ccxt\n",
    "import datetime\n",
    "import logging\n",
    "from pprint import pprint\n",
    "import json\n",
    "import requests\n",
    "import time\n",
    "from logging import getLogger,Formatter, StreamHandler, FileHandler, DEBUG, INFO"
   ]
  },
  {
   "cell_type": "code",
   "execution_count": 6,
   "metadata": {},
   "outputs": [],
   "source": [
    "API_KEY = capi.API_KEY\n",
    "API_SECRET = capi.API_SECRET\n",
    "SYMBOL = \"BTC/JPY\"\n",
    "\n",
    "coincheck = ccxt.coincheck({'apiKey':API_KEY,'secret':API_SECRET})"
   ]
  },
  {
   "cell_type": "code",
   "execution_count": null,
   "metadata": {},
   "outputs": [],
   "source": [
    "#　取引通貨情報\n",
    "def market_info():\n",
    "    result = coincheck.load_markets()\n",
    "    return result\n",
    "\n",
    "pprint(market_info())"
   ]
  },
  {
   "cell_type": "code",
   "execution_count": 30,
   "metadata": {},
   "outputs": [
    {
     "name": "stdout",
     "output_type": "stream",
     "text": [
      "{'ask': 2831300.0,\n",
      " 'askVolume': None,\n",
      " 'average': None,\n",
      " 'baseVolume': 2764.66301029,\n",
      " 'bid': 2830379.0,\n",
      " 'bidVolume': None,\n",
      " 'change': None,\n",
      " 'close': 2831300.0,\n",
      " 'datetime': '2022-08-30T07:58:43.000Z',\n",
      " 'high': 2853303.0,\n",
      " 'info': {'ask': '2831300.0',\n",
      "          'bid': '2830379.0',\n",
      "          'high': '2853303.0',\n",
      "          'last': '2831300.0',\n",
      "          'low': '2740376.0',\n",
      "          'timestamp': '1661846323',\n",
      "          'volume': '2764.66301029'},\n",
      " 'last': 2831300.0,\n",
      " 'low': 2740376.0,\n",
      " 'open': None,\n",
      " 'percentage': None,\n",
      " 'previousClose': None,\n",
      " 'quoteVolume': None,\n",
      " 'symbol': 'BTC/JPY',\n",
      " 'timestamp': 1661846323000,\n",
      " 'vwap': None}\n"
     ]
    }
   ],
   "source": [
    "def ticker_info(SYMBOL):\n",
    "    result = coincheck.fetch_ticker(symbol=SYMBOL)\n",
    "    return result\n",
    "\n",
    "pprint(ticker_info(SYMBOL))\n",
    "board = ticker_info(SYMBOL)\n",
    "ask = board['ask']\n",
    "bid = board['bid']"
   ]
  },
  {
   "cell_type": "code",
   "execution_count": 38,
   "metadata": {},
   "outputs": [
    {
     "name": "stdout",
     "output_type": "stream",
     "text": [
      "Wall time: 0 ns\n"
     ]
    }
   ],
   "source": [
    "time"
   ]
  },
  {
   "cell_type": "code",
   "execution_count": 44,
   "metadata": {},
   "outputs": [
    {
     "name": "stdout",
     "output_type": "stream",
     "text": [
      "-------------------\n",
      "ask 2830498.0\n",
      "bid 2830001.0\n",
      "spread 0.00017561831250236307\n",
      "-------------------\n",
      "ask 2830498.0\n",
      "bid 2830001.0\n",
      "spread 0.00017561831250236307\n",
      "-------------------\n",
      "ask 2830498.0\n",
      "bid 2830001.0\n",
      "spread 0.00017561831250236307\n",
      "-------------------\n",
      "ask 2830498.0\n",
      "bid 2830001.0\n",
      "spread 0.00017561831250236307\n",
      "-------------------\n",
      "ask 2829943.0\n",
      "bid 2829241.0\n",
      "spread 0.00024812308318732833\n",
      "-------------------\n",
      "ask 2829943.0\n",
      "bid 2829241.0\n",
      "spread 0.00024812308318732833\n",
      "-------------------\n",
      "ask 2829943.0\n",
      "bid 2829241.0\n",
      "spread 0.00024812308318732833\n",
      "-------------------\n",
      "ask 2829943.0\n",
      "bid 2829241.0\n",
      "spread 0.00024812308318732833\n",
      "-------------------\n",
      "ask 2829943.0\n",
      "bid 2829241.0\n",
      "spread 0.00024812308318732833\n",
      "-------------------\n",
      "ask 2829943.0\n",
      "bid 2829241.0\n",
      "spread 0.00024812308318732833\n",
      "-------------------\n",
      "ask 2829694.0\n",
      "bid 2829240.0\n",
      "spread 0.00016046712191259845\n"
     ]
    },
    {
     "ename": "KeyboardInterrupt",
     "evalue": "",
     "output_type": "error",
     "traceback": [
      "\u001b[1;31m---------------------------------------------------------------------------\u001b[0m",
      "\u001b[1;31mKeyboardInterrupt\u001b[0m                         Traceback (most recent call last)",
      "\u001b[1;32m~\\AppData\\Local\\Temp/ipykernel_5944/3117160108.py\u001b[0m in \u001b[0;36m<module>\u001b[1;34m\u001b[0m\n\u001b[0;32m      8\u001b[0m     \u001b[0mprint\u001b[0m\u001b[1;33m(\u001b[0m\u001b[1;34m\"bid\"\u001b[0m\u001b[1;33m,\u001b[0m\u001b[0mbid\u001b[0m\u001b[1;33m)\u001b[0m\u001b[1;33m\u001b[0m\u001b[1;33m\u001b[0m\u001b[0m\n\u001b[0;32m      9\u001b[0m     \u001b[0mprint\u001b[0m\u001b[1;33m(\u001b[0m\u001b[1;34m\"spread\"\u001b[0m\u001b[1;33m,\u001b[0m\u001b[0mspread\u001b[0m\u001b[1;33m)\u001b[0m\u001b[1;33m\u001b[0m\u001b[1;33m\u001b[0m\u001b[0m\n\u001b[1;32m---> 10\u001b[1;33m     \u001b[0mtime\u001b[0m\u001b[1;33m.\u001b[0m\u001b[0msleep\u001b[0m\u001b[1;33m(\u001b[0m\u001b[1;36m2\u001b[0m\u001b[1;33m)\u001b[0m\u001b[1;33m\u001b[0m\u001b[1;33m\u001b[0m\u001b[0m\n\u001b[0m",
      "\u001b[1;31mKeyboardInterrupt\u001b[0m: "
     ]
    }
   ],
   "source": [
    "while True:\n",
    "    board = ticker_info(SYMBOL)\n",
    "    ask = board['ask']\n",
    "    bid = board['bid']\n",
    "    spread = (ask - bid)/bid\n",
    "    print(\"-------------------\")\n",
    "    print(\"ask\",ask)\n",
    "    print(\"bid\",bid)\n",
    "    print(\"spread\",spread)\n",
    "    time.sleep(2)"
   ]
  },
  {
   "cell_type": "code",
   "execution_count": 123,
   "metadata": {},
   "outputs": [
    {
     "name": "stdout",
     "output_type": "stream",
     "text": [
      "{'BTC': {'free': 0.005, 'total': 0.005, 'used': 0.0},\n",
      " 'ETC': {'free': 0.0, 'total': 0.0, 'used': 0.0},\n",
      " 'JPY': {'free': 35936.56, 'total': 35936.56, 'used': 0.0},\n",
      " 'MONA': {'free': 0.0, 'total': 0.0, 'used': 0.0},\n",
      " 'free': {'BTC': 0.005, 'ETC': 0.0, 'JPY': 35936.56, 'MONA': 0.0},\n",
      " 'info': {'bat': '0.0',\n",
      "          'bat_debt': '0.0',\n",
      "          'bat_lend_in_use': '0.0',\n",
      "          'bat_lent': '0.0',\n",
      "          'bat_reserved': '0.0',\n",
      "          'bch': '0.0',\n",
      "          'bch_debt': '0.0',\n",
      "          'bch_lend_in_use': '0.0',\n",
      "          'bch_lent': '0.0',\n",
      "          'bch_reserved': '0.0',\n",
      "          'btc': '0.005',\n",
      "          'btc_debt': '0.0',\n",
      "          'btc_lend_in_use': '0.0',\n",
      "          'btc_lent': '0.0',\n",
      "          'btc_reserved': '0.0',\n",
      "          'enj': '0.0',\n",
      "          'enj_debt': '0.0',\n",
      "          'enj_lend_in_use': '0.0',\n",
      "          'enj_lent': '0.0',\n",
      "          'enj_reserved': '0.0',\n",
      "          'etc': '0.0',\n",
      "          'etc_debt': '0.0',\n",
      "          'etc_lend_in_use': '0.0',\n",
      "          'etc_lent': '0.0',\n",
      "          'etc_reserved': '0.0',\n",
      "          'eth': '0.0',\n",
      "          'eth_debt': '0.0',\n",
      "          'eth_lend_in_use': '0.0',\n",
      "          'eth_lent': '0.0',\n",
      "          'eth_reserved': '0.0',\n",
      "          'iost': '0.0',\n",
      "          'iost_debt': '0.0',\n",
      "          'iost_lend_in_use': '0.0',\n",
      "          'iost_lent': '0.0',\n",
      "          'iost_reserved': '0.0',\n",
      "          'jpy': '35936.56',\n",
      "          'jpy_debt': '0.0',\n",
      "          'jpy_lend_in_use': '0.0',\n",
      "          'jpy_lent': '0.0',\n",
      "          'jpy_reserved': '0.0',\n",
      "          'lsk': '0.0',\n",
      "          'lsk_debt': '0.0',\n",
      "          'lsk_lend_in_use': '0.0',\n",
      "          'lsk_lent': '0.0',\n",
      "          'lsk_reserved': '0.0',\n",
      "          'ltc': '0.0',\n",
      "          'ltc_debt': '0.0',\n",
      "          'ltc_lend_in_use': '0.0',\n",
      "          'ltc_lent': '0.0',\n",
      "          'ltc_reserved': '0.0',\n",
      "          'mona': '0.0',\n",
      "          'mona_debt': '0.0',\n",
      "          'mona_lend_in_use': '0.0',\n",
      "          'mona_lent': '0.0',\n",
      "          'mona_reserved': '0.0',\n",
      "          'omg': '0.0',\n",
      "          'omg_debt': '0.0',\n",
      "          'omg_lend_in_use': '0.0',\n",
      "          'omg_lent': '0.0',\n",
      "          'omg_reserved': '0.0',\n",
      "          'plt': '0.0',\n",
      "          'plt_debt': '0.0',\n",
      "          'plt_lend_in_use': '0.0',\n",
      "          'plt_lent': '0.0',\n",
      "          'plt_reserved': '0.0',\n",
      "          'qtum': '0.0',\n",
      "          'qtum_debt': '0.0',\n",
      "          'qtum_lend_in_use': '0.0',\n",
      "          'qtum_lent': '0.0',\n",
      "          'qtum_reserved': '0.0',\n",
      "          'sand': '0.0',\n",
      "          'sand_debt': '0.0',\n",
      "          'sand_lend_in_use': '0.0',\n",
      "          'sand_lent': '0.0',\n",
      "          'sand_reserved': '0.0',\n",
      "          'success': True,\n",
      "          'xem': '0.0',\n",
      "          'xem_debt': '0.0',\n",
      "          'xem_lend_in_use': '0.0',\n",
      "          'xem_lent': '0.0',\n",
      "          'xem_reserved': '0.0',\n",
      "          'xlm': '0.0',\n",
      "          'xlm_debt': '0.0',\n",
      "          'xlm_lend_in_use': '0.0',\n",
      "          'xlm_lent': '0.0',\n",
      "          'xlm_reserved': '0.0',\n",
      "          'xrp': '0.0',\n",
      "          'xrp_debt': '0.0',\n",
      "          'xrp_lend_in_use': '0.0',\n",
      "          'xrp_lent': '0.0',\n",
      "          'xrp_reserved': '0.0',\n",
      "          'xym': '0.0',\n",
      "          'xym_debt': '0.0',\n",
      "          'xym_lend_in_use': '0.0',\n",
      "          'xym_lent': '0.0',\n",
      "          'xym_reserved': '0.0'},\n",
      " 'total': {'BTC': 0.005, 'ETC': 0.0, 'JPY': 35936.56, 'MONA': 0.0},\n",
      " 'used': {'BTC': 0.0, 'ETC': 0.0, 'JPY': 0.0, 'MONA': 0.0}}\n"
     ]
    }
   ],
   "source": [
    "def balance_info():\n",
    "    result = coincheck.fetchBalance()\n",
    "    return result\n",
    "\n",
    "\n",
    "pprint(balance_info())"
   ]
  },
  {
   "cell_type": "code",
   "execution_count": 64,
   "metadata": {},
   "outputs": [
    {
     "data": {
      "text/plain": [
       "2829694.0"
      ]
     },
     "execution_count": 64,
     "metadata": {},
     "output_type": "execute_result"
    }
   ],
   "source": [
    "ask"
   ]
  },
  {
   "cell_type": "code",
   "execution_count": 65,
   "metadata": {},
   "outputs": [
    {
     "data": {
      "text/plain": [
       "2829240.0"
      ]
     },
     "execution_count": 65,
     "metadata": {},
     "output_type": "execute_result"
    }
   ],
   "source": [
    "bid"
   ]
  },
  {
   "cell_type": "markdown",
   "metadata": {},
   "source": [
    "# 売買　コード"
   ]
  },
  {
   "cell_type": "code",
   "execution_count": 72,
   "metadata": {},
   "outputs": [
    {
     "name": "stdout",
     "output_type": "stream",
     "text": [
      "{'id': '4942415462',\n",
      " 'info': {'amount': '0.005',\n",
      "          'created_at': '2022-08-30T08:34:15.000Z',\n",
      "          'id': '4942415462',\n",
      "          'market_buy_amount': None,\n",
      "          'order_type': 'sell',\n",
      "          'pair': 'btc_jpy',\n",
      "          'rate': '2826116.0',\n",
      "          'stop_loss_rate': None,\n",
      "          'success': True}}\n"
     ]
    }
   ],
   "source": [
    "# 引数情報\n",
    "board = ticker_info(SYMBOL)\n",
    "\n",
    "order_symbol = 'BTC/JPY'   # 取引通貨\n",
    "type_value   = 'limit'     # 注文タイプ（limit:指値注文, market:成行注文）\n",
    "side_value   = 'sell'       # 買い(buy) or 売り(sell)\n",
    "price_value  = board['bid'] - 1     # 指値価格[円/BTC]\n",
    "amount_value = 0.005       # 取引数量[BTC]\n",
    "\n",
    "\n",
    "# 注文コード\n",
    "order = coincheck.create_order(\n",
    "                symbol = order_symbol,  # 取引通貨\n",
    "                type = type_value,      # 注文タイプ\n",
    "                side= side_value,       # 買 or 売\n",
    "                amount= amount_value,   # 取引数量\n",
    "                price=price_value,      # 指値価格\n",
    "                )\n",
    "\n",
    "# 結果出力\n",
    "pprint(order)"
   ]
  },
  {
   "cell_type": "code",
   "execution_count": 71,
   "metadata": {},
   "outputs": [
    {
     "name": "stdout",
     "output_type": "stream",
     "text": [
      "{'id': '4942404971', 'success': True}\n"
     ]
    }
   ],
   "source": [
    "def OrderCancel(order_id, symbol):\n",
    "    result = coincheck.cancel_order(\n",
    "                    symbol = symbol,  # 取引通貨\n",
    "                    id = order_id,    # 注文ID\n",
    "                    )\n",
    "    return result\n",
    "\n",
    "# 引数情報\n",
    "order_id = order['id']\n",
    "symbol =   'BTC/JPY'\n",
    "\n",
    "# 出力\n",
    "pprint(OrderCancel(order_id,symbol))"
   ]
  },
  {
   "cell_type": "markdown",
   "metadata": {},
   "source": [
    "# 未約定のorderの注文照会\n"
   ]
  },
  {
   "cell_type": "code",
   "execution_count": 81,
   "metadata": {},
   "outputs": [
    {
     "data": {
      "text/plain": [
       "True"
      ]
     },
     "execution_count": 81,
     "metadata": {},
     "output_type": "execute_result"
    }
   ],
   "source": [
    "OpenOrder(symbol) == []"
   ]
  },
  {
   "cell_type": "code",
   "execution_count": 210,
   "metadata": {},
   "outputs": [
    {
     "name": "stdout",
     "output_type": "stream",
     "text": [
      "[]\n"
     ]
    }
   ],
   "source": [
    "def OpenOrder(symbol):\n",
    "    result = coincheck.fetchOpenOrders(symbol = symbol)\n",
    "    return result\n",
    "\n",
    "# 引数情報\n",
    "symbol = 'BTC/JPY'\n",
    "\n",
    "# 出力\n",
    "pprint(OpenOrder(symbol))"
   ]
  },
  {
   "cell_type": "code",
   "execution_count": 87,
   "metadata": {},
   "outputs": [
    {
     "name": "stdout",
     "output_type": "stream",
     "text": [
      "[]\n"
     ]
    }
   ],
   "source": [
    "def Yakujo(symbol):\n",
    "    result = coincheck.fetchMyTrades(symbol = symbol)\n",
    "    return result\n",
    "\n",
    "# 引数情報\n",
    "symbol = 'BTC/JPY'\n",
    "\n",
    "# 出力\n",
    "pprint(Yakujo(symbol))"
   ]
  },
  {
   "cell_type": "code",
   "execution_count": 76,
   "metadata": {},
   "outputs": [],
   "source": [
    "def buy(price_value):\n",
    "    order_symbol = 'BTC/JPY'   # 取引通貨\n",
    "    type_value   = 'limit'     # 注文タイプ（limit:指値注文, market:成行注文）\n",
    "    side_value   = 'buy'       # 買い(buy) or 売り(sell)\n",
    "    amount_value = 0.005       # 取引数量[BTC]\n",
    "\n",
    "\n",
    "    # 注文コード\n",
    "    order = coincheck.create_order(\n",
    "                    symbol = order_symbol,  # 取引通貨\n",
    "                    type = type_value,      # 注文タイプ\n",
    "                    side= side_value,       # 買 or 売\n",
    "                    amount= amount_value,   # 取引数量\n",
    "                    price=price_value,      # 指値価格\n",
    "                    )\n",
    "    return  order\n",
    "\n",
    "def sell(price_value):\n",
    "    order_symbol = 'BTC/JPY'   # 取引通貨\n",
    "    type_value   = 'limit'     # 注文タイプ（limit:指値注文, market:成行注文）\n",
    "    side_value   = 'sell'       # 買い(buy) or 売り(sell)\n",
    "    amount_value = 0.005       # 取引数量[BTC]\n",
    "\n",
    "\n",
    "    # 注文コード\n",
    "    order = coincheck.create_order(\n",
    "                    symbol = order_symbol,  # 取引通貨\n",
    "                    type = type_value,      # 注文タイプ\n",
    "                    side= side_value,       # 買 or 売\n",
    "                    amount= amount_value,   # 取引数量\n",
    "                    price=price_value,      # 指値価格\n",
    "                    )\n",
    "    return  order\n",
    "    \n",
    "\n",
    "\n"
   ]
  },
  {
   "cell_type": "code",
   "execution_count": 93,
   "metadata": {},
   "outputs": [],
   "source": [
    "symbol = 'BTC/JPY'\n",
    "board = ticker_info(symbol)\n",
    "\n",
    "buy_price = board['bid'] + 1\n",
    "sell_price = board['ask'] - 1\n",
    "\n",
    "order_buy = buy(buy_price)"
   ]
  },
  {
   "cell_type": "code",
   "execution_count": 107,
   "metadata": {},
   "outputs": [
    {
     "data": {
      "text/plain": [
       "[]"
      ]
     },
     "execution_count": 107,
     "metadata": {},
     "output_type": "execute_result"
    }
   ],
   "source": [
    "order_now = OpenOrder(symbol)\n",
    "order_now\n"
   ]
  },
  {
   "cell_type": "code",
   "execution_count": 109,
   "metadata": {},
   "outputs": [
    {
     "data": {
      "text/plain": [
       "0"
      ]
     },
     "execution_count": 109,
     "metadata": {},
     "output_type": "execute_result"
    }
   ],
   "source": [
    "len([])"
   ]
  },
  {
   "cell_type": "code",
   "execution_count": null,
   "metadata": {},
   "outputs": [],
   "source": [
    "\n",
    "order_now = OpenOrder(symbol)\n",
    "\n",
    "if len(order_now)==0:\n",
    "    is_buy = True\n",
    "    is_sell = True\n",
    "elif len(order_now)==1:\n",
    "    side = order_now[0]['side']\n",
    "    if side == 'buy':\n",
    "        is_sell = True\n",
    "    elif side == 'sell':\n",
    "        is_buy = True\n",
    "elif len(order_now)==2:\n",
    "    pass"
   ]
  },
  {
   "cell_type": "code",
   "execution_count": 111,
   "metadata": {},
   "outputs": [
    {
     "name": "stdout",
     "output_type": "stream",
     "text": [
      "coincheck {\"success\":false,\"error\":\"Failed to cancel the order.\"}\n"
     ]
    }
   ],
   "source": [
    "try:\n",
    "    order_id = order_buy['id']\n",
    "    order_cancel = OrderCancel(order_id,symbol)\n",
    "except Exception as e:\n",
    "    print(e)\n",
    "\n",
    "# キャンセルできないときは売れたと仮定\n",
    "# OpenOrder(symbol)"
   ]
  },
  {
   "cell_type": "code",
   "execution_count": 209,
   "metadata": {},
   "outputs": [
    {
     "data": {
      "text/plain": [
       "[]"
      ]
     },
     "execution_count": 209,
     "metadata": {},
     "output_type": "execute_result"
    }
   ],
   "source": [
    "coincheck.fetch_my_trades(symbol)"
   ]
  },
  {
   "cell_type": "code",
   "execution_count": 217,
   "metadata": {},
   "outputs": [
    {
     "data": {
      "text/plain": [
       "[]"
      ]
     },
     "execution_count": 217,
     "metadata": {},
     "output_type": "execute_result"
    }
   ],
   "source": [
    "order_now = OpenOrder(symbol)\n",
    "order_now"
   ]
  },
  {
   "cell_type": "code",
   "execution_count": 212,
   "metadata": {},
   "outputs": [],
   "source": [
    "board = ticker_info(symbol)\n",
    "buy_price = board['bid'] + 1\n",
    "sell_price = board['ask'] - 1\n",
    "order_sell = sell(sell_price)\n",
    "# order_buy = buy(buy_price)"
   ]
  },
  {
   "cell_type": "code",
   "execution_count": 179,
   "metadata": {},
   "outputs": [
    {
     "name": "stdout",
     "output_type": "stream",
     "text": [
      "0.005\n",
      "{'free': 35647.8284, 'total': 35647.8284, 'used': 0.0}\n"
     ]
    }
   ],
   "source": [
    "pprint(balance_info()['BTC']['free'])\n",
    "pprint(balance_info()['JPY'])"
   ]
  },
  {
   "cell_type": "code",
   "execution_count": 180,
   "metadata": {},
   "outputs": [
    {
     "data": {
      "text/plain": [
       "-316593.0"
      ]
     },
     "execution_count": 180,
     "metadata": {},
     "output_type": "execute_result"
    }
   ],
   "source": [
    "profit"
   ]
  },
  {
   "cell_type": "code",
   "execution_count": 171,
   "metadata": {},
   "outputs": [
    {
     "data": {
      "text/plain": [
       "0"
      ]
     },
     "execution_count": 171,
     "metadata": {},
     "output_type": "execute_result"
    }
   ],
   "source": [
    "loop_count"
   ]
  },
  {
   "cell_type": "code",
   "execution_count": 170,
   "metadata": {},
   "outputs": [
    {
     "data": {
      "text/plain": [
       "12"
      ]
     },
     "execution_count": 170,
     "metadata": {},
     "output_type": "execute_result"
    }
   ],
   "source": [
    "trade_count"
   ]
  },
  {
   "cell_type": "code",
   "execution_count": 245,
   "metadata": {},
   "outputs": [
    {
     "data": {
      "text/plain": [
       "'BTC/JPY'"
      ]
     },
     "execution_count": 245,
     "metadata": {},
     "output_type": "execute_result"
    }
   ],
   "source": [
    "symbol "
   ]
  },
  {
   "cell_type": "code",
   "execution_count": 246,
   "metadata": {},
   "outputs": [],
   "source": [
    "def get_status():\n",
    "    symbol = 'BTC/JPY'\n",
    "    order_now = OpenOrder(symbol)\n",
    "    is_buy = False\n",
    "    is_sell = False    \n",
    "    if len(order_now)==0:\n",
    "        is_buy = True\n",
    "        is_sell = True\n",
    "    elif len(order_now)==1:\n",
    "        side = order_now[0]['side']\n",
    "        if side == 'buy':\n",
    "            is_sell = True\n",
    "        elif side == 'sell':\n",
    "            is_buy = True\n",
    "    elif len(order_now)==2:\n",
    "        pass\n",
    "    \n",
    "    return is_buy, is_sell"
   ]
  },
  {
   "cell_type": "code",
   "execution_count": 234,
   "metadata": {},
   "outputs": [
    {
     "data": {
      "text/plain": [
       "[]"
      ]
     },
     "execution_count": 234,
     "metadata": {},
     "output_type": "execute_result"
    }
   ],
   "source": [
    "order_now = OpenOrder(symbol)\n",
    "order_now"
   ]
  },
  {
   "cell_type": "code",
   "execution_count": 182,
   "metadata": {},
   "outputs": [
    {
     "data": {
      "text/plain": [
       "-1582.9650000000001"
      ]
     },
     "execution_count": 182,
     "metadata": {},
     "output_type": "execute_result"
    }
   ],
   "source": [
    "profit*0.005"
   ]
  },
  {
   "cell_type": "code",
   "execution_count": 224,
   "metadata": {},
   "outputs": [
    {
     "data": {
      "text/plain": [
       "2820155.0"
      ]
     },
     "execution_count": 224,
     "metadata": {},
     "output_type": "execute_result"
    }
   ],
   "source": [
    "buy_price"
   ]
  },
  {
   "cell_type": "code",
   "execution_count": 225,
   "metadata": {},
   "outputs": [
    {
     "data": {
      "text/plain": [
       "2820899.0"
      ]
     },
     "execution_count": 225,
     "metadata": {},
     "output_type": "execute_result"
    }
   ],
   "source": [
    "sell_price"
   ]
  },
  {
   "cell_type": "code",
   "execution_count": 223,
   "metadata": {},
   "outputs": [
    {
     "data": {
      "text/plain": [
       "{'symbol': 'BTC/JPY',\n",
       " 'timestamp': 1661920226000,\n",
       " 'datetime': '2022-08-31T04:30:26.000Z',\n",
       " 'high': 2853303.0,\n",
       " 'low': 2715000.0,\n",
       " 'bid': 2820154.0,\n",
       " 'bidVolume': None,\n",
       " 'ask': 2820900.0,\n",
       " 'askVolume': None,\n",
       " 'vwap': None,\n",
       " 'open': None,\n",
       " 'close': 2820395.0,\n",
       " 'last': 2820395.0,\n",
       " 'previousClose': None,\n",
       " 'change': None,\n",
       " 'percentage': None,\n",
       " 'average': None,\n",
       " 'baseVolume': 3209.38026834,\n",
       " 'quoteVolume': None,\n",
       " 'info': {'last': '2820395.0',\n",
       "  'bid': '2820154.0',\n",
       "  'ask': '2820900.0',\n",
       "  'high': '2853303.0',\n",
       "  'low': '2715000.0',\n",
       "  'volume': '3209.38026834',\n",
       "  'timestamp': '1661920226'}}"
      ]
     },
     "execution_count": 223,
     "metadata": {},
     "output_type": "execute_result"
    }
   ],
   "source": [
    "board = ticker_info(symbol)\n",
    "buy_price = board['bid'] + 1\n",
    "sell_price = board['ask'] - 1\n",
    "board"
   ]
  },
  {
   "cell_type": "code",
   "execution_count": 237,
   "metadata": {},
   "outputs": [
    {
     "data": {
      "text/plain": [
       "[]"
      ]
     },
     "execution_count": 237,
     "metadata": {},
     "output_type": "execute_result"
    }
   ],
   "source": [
    "OpenOrder(symbol)"
   ]
  },
  {
   "cell_type": "code",
   "execution_count": 226,
   "metadata": {},
   "outputs": [
    {
     "data": {
      "text/plain": [
       "0.0003003258553259085"
      ]
     },
     "execution_count": 226,
     "metadata": {},
     "output_type": "execute_result"
    }
   ],
   "source": [
    "board = ticker_info(symbol)\n",
    "ask = board['ask']\n",
    "bid = board['bid']\n",
    "(ask-bid)/bid"
   ]
  },
  {
   "cell_type": "code",
   "execution_count": 238,
   "metadata": {},
   "outputs": [
    {
     "data": {
      "text/plain": [
       "443"
      ]
     },
     "execution_count": 238,
     "metadata": {},
     "output_type": "execute_result"
    }
   ],
   "source": [
    "buy_price"
   ]
  },
  {
   "cell_type": "code",
   "execution_count": 262,
   "metadata": {},
   "outputs": [
    {
     "data": {
      "text/plain": [
       "{'info': {'success': True,\n",
       "  'jpy': '35658.3384',\n",
       "  'btc': '0.005',\n",
       "  'eth': '0.0',\n",
       "  'etc': '0.0',\n",
       "  'lsk': '0.0',\n",
       "  'xrp': '0.0',\n",
       "  'xem': '0.0',\n",
       "  'ltc': '0.0',\n",
       "  'bch': '0.0',\n",
       "  'mona': '0.0',\n",
       "  'xlm': '0.0',\n",
       "  'qtum': '0.0',\n",
       "  'bat': '0.0',\n",
       "  'iost': '0.0',\n",
       "  'enj': '0.0',\n",
       "  'omg': '0.0',\n",
       "  'plt': '0.0',\n",
       "  'sand': '0.0',\n",
       "  'xym': '0.0',\n",
       "  'jpy_reserved': '0.0',\n",
       "  'btc_reserved': '0.0',\n",
       "  'eth_reserved': '0.0',\n",
       "  'etc_reserved': '0.0',\n",
       "  'lsk_reserved': '0.0',\n",
       "  'xrp_reserved': '0.0',\n",
       "  'xem_reserved': '0.0',\n",
       "  'ltc_reserved': '0.0',\n",
       "  'bch_reserved': '0.0',\n",
       "  'mona_reserved': '0.0',\n",
       "  'xlm_reserved': '0.0',\n",
       "  'qtum_reserved': '0.0',\n",
       "  'bat_reserved': '0.0',\n",
       "  'iost_reserved': '0.0',\n",
       "  'enj_reserved': '0.0',\n",
       "  'omg_reserved': '0.0',\n",
       "  'plt_reserved': '0.0',\n",
       "  'sand_reserved': '0.0',\n",
       "  'xym_reserved': '0.0',\n",
       "  'jpy_lend_in_use': '0.0',\n",
       "  'btc_lend_in_use': '0.0',\n",
       "  'eth_lend_in_use': '0.0',\n",
       "  'etc_lend_in_use': '0.0',\n",
       "  'lsk_lend_in_use': '0.0',\n",
       "  'xrp_lend_in_use': '0.0',\n",
       "  'xem_lend_in_use': '0.0',\n",
       "  'ltc_lend_in_use': '0.0',\n",
       "  'bch_lend_in_use': '0.0',\n",
       "  'mona_lend_in_use': '0.0',\n",
       "  'xlm_lend_in_use': '0.0',\n",
       "  'qtum_lend_in_use': '0.0',\n",
       "  'bat_lend_in_use': '0.0',\n",
       "  'iost_lend_in_use': '0.0',\n",
       "  'enj_lend_in_use': '0.0',\n",
       "  'omg_lend_in_use': '0.0',\n",
       "  'plt_lend_in_use': '0.0',\n",
       "  'sand_lend_in_use': '0.0',\n",
       "  'xym_lend_in_use': '0.0',\n",
       "  'jpy_lent': '0.0',\n",
       "  'btc_lent': '0.0',\n",
       "  'eth_lent': '0.0',\n",
       "  'etc_lent': '0.0',\n",
       "  'lsk_lent': '0.0',\n",
       "  'xrp_lent': '0.0',\n",
       "  'xem_lent': '0.0',\n",
       "  'ltc_lent': '0.0',\n",
       "  'bch_lent': '0.0',\n",
       "  'mona_lent': '0.0',\n",
       "  'xlm_lent': '0.0',\n",
       "  'qtum_lent': '0.0',\n",
       "  'bat_lent': '0.0',\n",
       "  'iost_lent': '0.0',\n",
       "  'enj_lent': '0.0',\n",
       "  'omg_lent': '0.0',\n",
       "  'plt_lent': '0.0',\n",
       "  'sand_lent': '0.0',\n",
       "  'xym_lent': '0.0',\n",
       "  'jpy_debt': '0.0',\n",
       "  'btc_debt': '0.0',\n",
       "  'eth_debt': '0.0',\n",
       "  'etc_debt': '0.0',\n",
       "  'lsk_debt': '0.0',\n",
       "  'xrp_debt': '0.0',\n",
       "  'xem_debt': '0.0',\n",
       "  'ltc_debt': '0.0',\n",
       "  'bch_debt': '0.0',\n",
       "  'mona_debt': '0.0',\n",
       "  'xlm_debt': '0.0',\n",
       "  'qtum_debt': '0.0',\n",
       "  'bat_debt': '0.0',\n",
       "  'iost_debt': '0.0',\n",
       "  'enj_debt': '0.0',\n",
       "  'omg_debt': '0.0',\n",
       "  'plt_debt': '0.0',\n",
       "  'sand_debt': '0.0',\n",
       "  'xym_debt': '0.0'},\n",
       " 'BTC': {'free': 0.005, 'used': 0.0, 'total': 0.005},\n",
       " 'ETC': {'free': 0.0, 'used': 0.0, 'total': 0.0},\n",
       " 'JPY': {'free': 35658.3384, 'used': 0.0, 'total': 35658.3384},\n",
       " 'MONA': {'free': 0.0, 'used': 0.0, 'total': 0.0},\n",
       " 'free': {'BTC': 0.005, 'ETC': 0.0, 'JPY': 35658.3384, 'MONA': 0.0},\n",
       " 'used': {'BTC': 0.0, 'ETC': 0.0, 'JPY': 0.0, 'MONA': 0.0},\n",
       " 'total': {'BTC': 0.005, 'ETC': 0.0, 'JPY': 35658.3384, 'MONA': 0.0}}"
      ]
     },
     "execution_count": 262,
     "metadata": {},
     "output_type": "execute_result"
    }
   ],
   "source": [
    "balance_info()"
   ]
  },
  {
   "cell_type": "code",
   "execution_count": 261,
   "metadata": {},
   "outputs": [
    {
     "data": {
      "text/plain": [
       "[]"
      ]
     },
     "execution_count": 261,
     "metadata": {},
     "output_type": "execute_result"
    }
   ],
   "source": [
    "OpenOrder(symbol)"
   ]
  },
  {
   "cell_type": "code",
   "execution_count": 258,
   "metadata": {},
   "outputs": [
    {
     "name": "stderr",
     "output_type": "stream",
     "text": [
      "2022-08-31 18:51:02,809:27:INFO:Trade Start\n",
      "2022-08-31 18:51:02,809:27:INFO:Trade Start\n",
      "Trade Start\n",
      "Trade Start\n",
      "Trade Start\n",
      "Trade Start\n",
      "Trade Start\n",
      "2022-08-31 18:51:02,809:27:INFO:Trade Start\n",
      "2022-08-31 18:51:02,809:27:INFO:Trade Start\n",
      "2022-08-31 18:51:02,809:27:INFO:Trade Start\n",
      "2022-08-31 18:51:02,809:27:INFO:Trade Start\n",
      "2022-08-31 18:51:02,809:27:INFO:Trade Start\n",
      "2022-08-31 18:51:02,809:27:INFO:Trade Start\n",
      "2022-08-31 18:51:02,809:27:INFO:Trade Start\n",
      "2022-08-31 18:51:20,987:50:INFO:entry\n",
      "2022-08-31 18:51:20,987:50:INFO:entry\n",
      "entry\n",
      "entry\n",
      "entry\n",
      "entry\n",
      "entry\n",
      "2022-08-31 18:51:20,987:50:INFO:entry\n",
      "2022-08-31 18:51:20,987:50:INFO:entry\n",
      "2022-08-31 18:51:20,987:50:INFO:entry\n",
      "2022-08-31 18:51:20,987:50:INFO:entry\n",
      "2022-08-31 18:51:20,987:50:INFO:entry\n",
      "2022-08-31 18:51:20,987:50:INFO:entry\n",
      "2022-08-31 18:51:20,987:50:INFO:entry\n",
      "2022-08-31 18:51:29,082:91:INFO:Update sell price\n",
      "2022-08-31 18:51:29,082:91:INFO:Update sell price\n",
      "Update sell price\n",
      "Update sell price\n",
      "Update sell price\n",
      "Update sell price\n",
      "Update sell price\n",
      "2022-08-31 18:51:29,082:91:INFO:Update sell price\n",
      "2022-08-31 18:51:29,082:91:INFO:Update sell price\n",
      "2022-08-31 18:51:29,082:91:INFO:Update sell price\n",
      "2022-08-31 18:51:29,082:91:INFO:Update sell price\n",
      "2022-08-31 18:51:29,082:91:INFO:Update sell price\n",
      "2022-08-31 18:51:29,082:91:INFO:Update sell price\n",
      "2022-08-31 18:51:29,082:91:INFO:Update sell price\n",
      "2022-08-31 18:51:38,210:91:INFO:Update sell price\n",
      "2022-08-31 18:51:38,210:91:INFO:Update sell price\n",
      "Update sell price\n",
      "Update sell price\n",
      "Update sell price\n",
      "Update sell price\n",
      "Update sell price\n",
      "2022-08-31 18:51:38,210:91:INFO:Update sell price\n",
      "2022-08-31 18:51:38,210:91:INFO:Update sell price\n",
      "2022-08-31 18:51:38,210:91:INFO:Update sell price\n",
      "2022-08-31 18:51:38,210:91:INFO:Update sell price\n",
      "2022-08-31 18:51:38,210:91:INFO:Update sell price\n",
      "2022-08-31 18:51:38,210:91:INFO:Update sell price\n",
      "2022-08-31 18:51:38,210:91:INFO:Update sell price\n",
      "2022-08-31 18:51:47,348:91:INFO:Update sell price\n",
      "2022-08-31 18:51:47,348:91:INFO:Update sell price\n",
      "Update sell price\n",
      "Update sell price\n",
      "Update sell price\n",
      "Update sell price\n",
      "Update sell price\n",
      "2022-08-31 18:51:47,348:91:INFO:Update sell price\n",
      "2022-08-31 18:51:47,348:91:INFO:Update sell price\n",
      "2022-08-31 18:51:47,348:91:INFO:Update sell price\n",
      "2022-08-31 18:51:47,348:91:INFO:Update sell price\n",
      "2022-08-31 18:51:47,348:91:INFO:Update sell price\n",
      "2022-08-31 18:51:47,348:91:INFO:Update sell price\n",
      "2022-08-31 18:51:47,348:91:INFO:Update sell price\n",
      "2022-08-31 18:51:56,453:91:INFO:Update sell price\n",
      "2022-08-31 18:51:56,453:91:INFO:Update sell price\n",
      "Update sell price\n",
      "Update sell price\n",
      "Update sell price\n",
      "Update sell price\n",
      "Update sell price\n",
      "2022-08-31 18:51:56,453:91:INFO:Update sell price\n",
      "2022-08-31 18:51:56,453:91:INFO:Update sell price\n",
      "2022-08-31 18:51:56,453:91:INFO:Update sell price\n",
      "2022-08-31 18:51:56,453:91:INFO:Update sell price\n",
      "2022-08-31 18:51:56,453:91:INFO:Update sell price\n",
      "2022-08-31 18:51:56,453:91:INFO:Update sell price\n",
      "2022-08-31 18:51:56,453:91:INFO:Update sell price\n",
      "2022-08-31 18:52:05,559:91:INFO:Update sell price\n",
      "2022-08-31 18:52:05,559:91:INFO:Update sell price\n",
      "Update sell price\n",
      "Update sell price\n",
      "Update sell price\n",
      "Update sell price\n",
      "Update sell price\n",
      "2022-08-31 18:52:05,559:91:INFO:Update sell price\n",
      "2022-08-31 18:52:05,559:91:INFO:Update sell price\n",
      "2022-08-31 18:52:05,559:91:INFO:Update sell price\n",
      "2022-08-31 18:52:05,559:91:INFO:Update sell price\n",
      "2022-08-31 18:52:05,559:91:INFO:Update sell price\n",
      "2022-08-31 18:52:05,559:91:INFO:Update sell price\n",
      "2022-08-31 18:52:05,559:91:INFO:Update sell price\n",
      "2022-08-31 18:52:14,675:91:INFO:Update sell price\n",
      "2022-08-31 18:52:14,675:91:INFO:Update sell price\n",
      "Update sell price\n",
      "Update sell price\n",
      "Update sell price\n",
      "Update sell price\n",
      "Update sell price\n",
      "2022-08-31 18:52:14,675:91:INFO:Update sell price\n",
      "2022-08-31 18:52:14,675:91:INFO:Update sell price\n",
      "2022-08-31 18:52:14,675:91:INFO:Update sell price\n",
      "2022-08-31 18:52:14,675:91:INFO:Update sell price\n",
      "2022-08-31 18:52:14,675:91:INFO:Update sell price\n",
      "2022-08-31 18:52:14,675:91:INFO:Update sell price\n",
      "2022-08-31 18:52:14,675:91:INFO:Update sell price\n",
      "2022-08-31 18:52:23,768:91:INFO:Update sell price\n",
      "2022-08-31 18:52:23,768:91:INFO:Update sell price\n",
      "Update sell price\n",
      "Update sell price\n",
      "Update sell price\n",
      "Update sell price\n",
      "Update sell price\n",
      "2022-08-31 18:52:23,768:91:INFO:Update sell price\n",
      "2022-08-31 18:52:23,768:91:INFO:Update sell price\n",
      "2022-08-31 18:52:23,768:91:INFO:Update sell price\n",
      "2022-08-31 18:52:23,768:91:INFO:Update sell price\n",
      "2022-08-31 18:52:23,768:91:INFO:Update sell price\n",
      "2022-08-31 18:52:23,768:91:INFO:Update sell price\n",
      "2022-08-31 18:52:23,768:91:INFO:Update sell price\n",
      "2022-08-31 18:52:32,867:91:INFO:Update sell price\n",
      "2022-08-31 18:52:32,867:91:INFO:Update sell price\n",
      "Update sell price\n",
      "Update sell price\n",
      "Update sell price\n",
      "Update sell price\n",
      "Update sell price\n",
      "2022-08-31 18:52:32,867:91:INFO:Update sell price\n",
      "2022-08-31 18:52:32,867:91:INFO:Update sell price\n",
      "2022-08-31 18:52:32,867:91:INFO:Update sell price\n",
      "2022-08-31 18:52:32,867:91:INFO:Update sell price\n",
      "2022-08-31 18:52:32,867:91:INFO:Update sell price\n",
      "2022-08-31 18:52:32,867:91:INFO:Update sell price\n",
      "2022-08-31 18:52:32,867:91:INFO:Update sell price\n",
      "2022-08-31 18:52:41,977:91:INFO:Update sell price\n",
      "2022-08-31 18:52:41,977:91:INFO:Update sell price\n",
      "Update sell price\n",
      "Update sell price\n",
      "Update sell price\n",
      "Update sell price\n",
      "Update sell price\n",
      "2022-08-31 18:52:41,977:91:INFO:Update sell price\n",
      "2022-08-31 18:52:41,977:91:INFO:Update sell price\n",
      "2022-08-31 18:52:41,977:91:INFO:Update sell price\n",
      "2022-08-31 18:52:41,977:91:INFO:Update sell price\n",
      "2022-08-31 18:52:41,977:91:INFO:Update sell price\n",
      "2022-08-31 18:52:41,977:91:INFO:Update sell price\n",
      "2022-08-31 18:52:41,977:91:INFO:Update sell price\n",
      "2022-08-31 18:52:51,103:91:INFO:Update sell price\n",
      "2022-08-31 18:52:51,103:91:INFO:Update sell price\n",
      "Update sell price\n",
      "Update sell price\n",
      "Update sell price\n",
      "Update sell price\n",
      "Update sell price\n",
      "2022-08-31 18:52:51,103:91:INFO:Update sell price\n",
      "2022-08-31 18:52:51,103:91:INFO:Update sell price\n",
      "2022-08-31 18:52:51,103:91:INFO:Update sell price\n",
      "2022-08-31 18:52:51,103:91:INFO:Update sell price\n",
      "2022-08-31 18:52:51,103:91:INFO:Update sell price\n",
      "2022-08-31 18:52:51,103:91:INFO:Update sell price\n",
      "2022-08-31 18:52:51,103:91:INFO:Update sell price\n",
      "2022-08-31 18:53:00,243:91:INFO:Update sell price\n",
      "2022-08-31 18:53:00,243:91:INFO:Update sell price\n",
      "Update sell price\n",
      "Update sell price\n",
      "Update sell price\n",
      "Update sell price\n",
      "Update sell price\n",
      "2022-08-31 18:53:00,243:91:INFO:Update sell price\n",
      "2022-08-31 18:53:00,243:91:INFO:Update sell price\n",
      "2022-08-31 18:53:00,243:91:INFO:Update sell price\n",
      "2022-08-31 18:53:00,243:91:INFO:Update sell price\n",
      "2022-08-31 18:53:00,243:91:INFO:Update sell price\n",
      "2022-08-31 18:53:00,243:91:INFO:Update sell price\n",
      "2022-08-31 18:53:00,243:91:INFO:Update sell price\n",
      "2022-08-31 18:53:09,358:91:INFO:Update sell price\n",
      "2022-08-31 18:53:09,358:91:INFO:Update sell price\n",
      "Update sell price\n",
      "Update sell price\n",
      "Update sell price\n",
      "Update sell price\n",
      "Update sell price\n",
      "2022-08-31 18:53:09,358:91:INFO:Update sell price\n",
      "2022-08-31 18:53:09,358:91:INFO:Update sell price\n",
      "2022-08-31 18:53:09,358:91:INFO:Update sell price\n",
      "2022-08-31 18:53:09,358:91:INFO:Update sell price\n",
      "2022-08-31 18:53:09,358:91:INFO:Update sell price\n",
      "2022-08-31 18:53:09,358:91:INFO:Update sell price\n",
      "2022-08-31 18:53:09,358:91:INFO:Update sell price\n",
      "2022-08-31 18:53:18,496:91:INFO:Update sell price\n",
      "2022-08-31 18:53:18,496:91:INFO:Update sell price\n",
      "Update sell price\n",
      "Update sell price\n",
      "Update sell price\n",
      "Update sell price\n",
      "Update sell price\n",
      "2022-08-31 18:53:18,496:91:INFO:Update sell price\n",
      "2022-08-31 18:53:18,496:91:INFO:Update sell price\n",
      "2022-08-31 18:53:18,496:91:INFO:Update sell price\n",
      "2022-08-31 18:53:18,496:91:INFO:Update sell price\n",
      "2022-08-31 18:53:18,496:91:INFO:Update sell price\n",
      "2022-08-31 18:53:18,496:91:INFO:Update sell price\n",
      "2022-08-31 18:53:18,496:91:INFO:Update sell price\n",
      "2022-08-31 18:53:27,605:91:INFO:Update sell price\n",
      "2022-08-31 18:53:27,605:91:INFO:Update sell price\n",
      "Update sell price\n",
      "Update sell price\n",
      "Update sell price\n",
      "Update sell price\n",
      "Update sell price\n",
      "2022-08-31 18:53:27,605:91:INFO:Update sell price\n",
      "2022-08-31 18:53:27,605:91:INFO:Update sell price\n",
      "2022-08-31 18:53:27,605:91:INFO:Update sell price\n",
      "2022-08-31 18:53:27,605:91:INFO:Update sell price\n",
      "2022-08-31 18:53:27,605:91:INFO:Update sell price\n",
      "2022-08-31 18:53:27,605:91:INFO:Update sell price\n",
      "2022-08-31 18:53:27,605:91:INFO:Update sell price\n",
      "2022-08-31 18:53:36,722:91:INFO:Update sell price\n",
      "2022-08-31 18:53:36,722:91:INFO:Update sell price\n",
      "Update sell price\n",
      "Update sell price\n",
      "Update sell price\n",
      "Update sell price\n",
      "Update sell price\n",
      "2022-08-31 18:53:36,722:91:INFO:Update sell price\n",
      "2022-08-31 18:53:36,722:91:INFO:Update sell price\n",
      "2022-08-31 18:53:36,722:91:INFO:Update sell price\n",
      "2022-08-31 18:53:36,722:91:INFO:Update sell price\n",
      "2022-08-31 18:53:36,722:91:INFO:Update sell price\n",
      "2022-08-31 18:53:36,722:91:INFO:Update sell price\n",
      "2022-08-31 18:53:36,722:91:INFO:Update sell price\n",
      "2022-08-31 18:53:45,838:91:INFO:Update sell price\n",
      "2022-08-31 18:53:45,838:91:INFO:Update sell price\n",
      "Update sell price\n",
      "Update sell price\n",
      "Update sell price\n",
      "Update sell price\n",
      "Update sell price\n",
      "2022-08-31 18:53:45,838:91:INFO:Update sell price\n",
      "2022-08-31 18:53:45,838:91:INFO:Update sell price\n",
      "2022-08-31 18:53:45,838:91:INFO:Update sell price\n",
      "2022-08-31 18:53:45,838:91:INFO:Update sell price\n",
      "2022-08-31 18:53:45,838:91:INFO:Update sell price\n",
      "2022-08-31 18:53:45,838:91:INFO:Update sell price\n",
      "2022-08-31 18:53:45,838:91:INFO:Update sell price\n",
      "2022-08-31 18:53:54,949:91:INFO:Update sell price\n",
      "2022-08-31 18:53:54,949:91:INFO:Update sell price\n",
      "Update sell price\n",
      "Update sell price\n",
      "Update sell price\n",
      "Update sell price\n",
      "Update sell price\n",
      "2022-08-31 18:53:54,949:91:INFO:Update sell price\n",
      "2022-08-31 18:53:54,949:91:INFO:Update sell price\n",
      "2022-08-31 18:53:54,949:91:INFO:Update sell price\n",
      "2022-08-31 18:53:54,949:91:INFO:Update sell price\n",
      "2022-08-31 18:53:54,949:91:INFO:Update sell price\n",
      "2022-08-31 18:53:54,949:91:INFO:Update sell price\n",
      "2022-08-31 18:53:54,949:91:INFO:Update sell price\n",
      "2022-08-31 18:54:04,145:91:INFO:Update sell price\n",
      "2022-08-31 18:54:04,145:91:INFO:Update sell price\n",
      "Update sell price\n",
      "Update sell price\n",
      "Update sell price\n",
      "Update sell price\n",
      "Update sell price\n",
      "2022-08-31 18:54:04,145:91:INFO:Update sell price\n",
      "2022-08-31 18:54:04,145:91:INFO:Update sell price\n",
      "2022-08-31 18:54:04,145:91:INFO:Update sell price\n",
      "2022-08-31 18:54:04,145:91:INFO:Update sell price\n",
      "2022-08-31 18:54:04,145:91:INFO:Update sell price\n",
      "2022-08-31 18:54:04,145:91:INFO:Update sell price\n",
      "2022-08-31 18:54:04,145:91:INFO:Update sell price\n",
      "2022-08-31 18:54:13,247:91:INFO:Update sell price\n",
      "2022-08-31 18:54:13,247:91:INFO:Update sell price\n",
      "Update sell price\n",
      "Update sell price\n",
      "Update sell price\n",
      "Update sell price\n",
      "Update sell price\n",
      "2022-08-31 18:54:13,247:91:INFO:Update sell price\n",
      "2022-08-31 18:54:13,247:91:INFO:Update sell price\n",
      "2022-08-31 18:54:13,247:91:INFO:Update sell price\n",
      "2022-08-31 18:54:13,247:91:INFO:Update sell price\n",
      "2022-08-31 18:54:13,247:91:INFO:Update sell price\n",
      "2022-08-31 18:54:13,247:91:INFO:Update sell price\n",
      "2022-08-31 18:54:13,247:91:INFO:Update sell price\n",
      "2022-08-31 18:54:22,367:91:INFO:Update sell price\n",
      "2022-08-31 18:54:22,367:91:INFO:Update sell price\n",
      "Update sell price\n",
      "Update sell price\n",
      "Update sell price\n",
      "Update sell price\n",
      "Update sell price\n",
      "2022-08-31 18:54:22,367:91:INFO:Update sell price\n",
      "2022-08-31 18:54:22,367:91:INFO:Update sell price\n",
      "2022-08-31 18:54:22,367:91:INFO:Update sell price\n",
      "2022-08-31 18:54:22,367:91:INFO:Update sell price\n",
      "2022-08-31 18:54:22,367:91:INFO:Update sell price\n",
      "2022-08-31 18:54:22,367:91:INFO:Update sell price\n",
      "2022-08-31 18:54:22,367:91:INFO:Update sell price\n",
      "2022-08-31 18:54:28,412:62:INFO:Done trade\n",
      "2022-08-31 18:54:28,412:62:INFO:Done trade\n",
      "Done trade\n",
      "Done trade\n",
      "Done trade\n",
      "Done trade\n",
      "Done trade\n",
      "2022-08-31 18:54:28,412:62:INFO:Done trade\n",
      "2022-08-31 18:54:28,412:62:INFO:Done trade\n",
      "2022-08-31 18:54:28,412:62:INFO:Done trade\n",
      "2022-08-31 18:54:28,412:62:INFO:Done trade\n",
      "2022-08-31 18:54:28,412:62:INFO:Done trade\n",
      "2022-08-31 18:54:28,412:62:INFO:Done trade\n",
      "2022-08-31 18:54:28,412:62:INFO:Done trade\n",
      "2022-08-31 18:54:28,418:63:INFO:sell price :2809497\n",
      "2022-08-31 18:54:28,418:63:INFO:sell price :2809497\n",
      "sell price :2809497\n",
      "sell price :2809497\n",
      "sell price :2809497\n",
      "sell price :2809497\n",
      "sell price :2809497\n",
      "2022-08-31 18:54:28,418:63:INFO:sell price :2809497\n",
      "2022-08-31 18:54:28,418:63:INFO:sell price :2809497\n",
      "2022-08-31 18:54:28,418:63:INFO:sell price :2809497\n",
      "2022-08-31 18:54:28,418:63:INFO:sell price :2809497\n",
      "2022-08-31 18:54:28,418:63:INFO:sell price :2809497\n",
      "2022-08-31 18:54:28,418:63:INFO:sell price :2809497\n",
      "2022-08-31 18:54:28,418:63:INFO:sell price :2809497\n",
      "2022-08-31 18:54:28,424:64:INFO:buy price  :2809317\n",
      "2022-08-31 18:54:28,424:64:INFO:buy price  :2809317\n",
      "buy price  :2809317\n",
      "buy price  :2809317\n",
      "buy price  :2809317\n",
      "buy price  :2809317\n",
      "buy price  :2809317\n",
      "2022-08-31 18:54:28,424:64:INFO:buy price  :2809317\n",
      "2022-08-31 18:54:28,424:64:INFO:buy price  :2809317\n",
      "2022-08-31 18:54:28,424:64:INFO:buy price  :2809317\n",
      "2022-08-31 18:54:28,424:64:INFO:buy price  :2809317\n",
      "2022-08-31 18:54:28,424:64:INFO:buy price  :2809317\n",
      "2022-08-31 18:54:28,424:64:INFO:buy price  :2809317\n",
      "2022-08-31 18:54:28,424:64:INFO:buy price  :2809317\n",
      "2022-08-31 18:54:28,430:65:INFO:profit     :0.9\n",
      "2022-08-31 18:54:28,430:65:INFO:profit     :0.9\n",
      "profit     :0.9\n",
      "profit     :0.9\n",
      "profit     :0.9\n",
      "profit     :0.9\n",
      "profit     :0.9\n",
      "2022-08-31 18:54:28,430:65:INFO:profit     :0.9\n",
      "2022-08-31 18:54:28,430:65:INFO:profit     :0.9\n",
      "2022-08-31 18:54:28,430:65:INFO:profit     :0.9\n",
      "2022-08-31 18:54:28,430:65:INFO:profit     :0.9\n",
      "2022-08-31 18:54:28,430:65:INFO:profit     :0.9\n",
      "2022-08-31 18:54:28,430:65:INFO:profit     :0.9\n",
      "2022-08-31 18:54:28,430:65:INFO:profit     :0.9\n",
      "2022-08-31 18:56:01,883:50:INFO:entry\n",
      "2022-08-31 18:56:01,883:50:INFO:entry\n",
      "entry\n",
      "entry\n",
      "entry\n",
      "entry\n",
      "entry\n",
      "2022-08-31 18:56:01,883:50:INFO:entry\n",
      "2022-08-31 18:56:01,883:50:INFO:entry\n",
      "2022-08-31 18:56:01,883:50:INFO:entry\n",
      "2022-08-31 18:56:01,883:50:INFO:entry\n",
      "2022-08-31 18:56:01,883:50:INFO:entry\n",
      "2022-08-31 18:56:01,883:50:INFO:entry\n",
      "2022-08-31 18:56:01,883:50:INFO:entry\n",
      "2022-08-31 18:56:10,002:91:INFO:Update sell price\n",
      "2022-08-31 18:56:10,002:91:INFO:Update sell price\n",
      "Update sell price\n",
      "Update sell price\n",
      "Update sell price\n",
      "Update sell price\n",
      "Update sell price\n",
      "2022-08-31 18:56:10,002:91:INFO:Update sell price\n",
      "2022-08-31 18:56:10,002:91:INFO:Update sell price\n",
      "2022-08-31 18:56:10,002:91:INFO:Update sell price\n",
      "2022-08-31 18:56:10,002:91:INFO:Update sell price\n",
      "2022-08-31 18:56:10,002:91:INFO:Update sell price\n",
      "2022-08-31 18:56:10,002:91:INFO:Update sell price\n",
      "2022-08-31 18:56:10,002:91:INFO:Update sell price\n",
      "2022-08-31 18:56:19,163:91:INFO:Update sell price\n",
      "2022-08-31 18:56:19,163:91:INFO:Update sell price\n",
      "Update sell price\n",
      "Update sell price\n",
      "Update sell price\n",
      "Update sell price\n",
      "Update sell price\n",
      "2022-08-31 18:56:19,163:91:INFO:Update sell price\n",
      "2022-08-31 18:56:19,163:91:INFO:Update sell price\n",
      "2022-08-31 18:56:19,163:91:INFO:Update sell price\n",
      "2022-08-31 18:56:19,163:91:INFO:Update sell price\n",
      "2022-08-31 18:56:19,163:91:INFO:Update sell price\n",
      "2022-08-31 18:56:19,163:91:INFO:Update sell price\n",
      "2022-08-31 18:56:19,163:91:INFO:Update sell price\n",
      "2022-08-31 18:56:28,300:91:INFO:Update sell price\n",
      "2022-08-31 18:56:28,300:91:INFO:Update sell price\n",
      "Update sell price\n",
      "Update sell price\n",
      "Update sell price\n",
      "Update sell price\n",
      "Update sell price\n",
      "2022-08-31 18:56:28,300:91:INFO:Update sell price\n",
      "2022-08-31 18:56:28,300:91:INFO:Update sell price\n",
      "2022-08-31 18:56:28,300:91:INFO:Update sell price\n",
      "2022-08-31 18:56:28,300:91:INFO:Update sell price\n",
      "2022-08-31 18:56:28,300:91:INFO:Update sell price\n",
      "2022-08-31 18:56:28,300:91:INFO:Update sell price\n",
      "2022-08-31 18:56:28,300:91:INFO:Update sell price\n",
      "2022-08-31 18:56:37,402:91:INFO:Update sell price\n",
      "2022-08-31 18:56:37,402:91:INFO:Update sell price\n",
      "Update sell price\n",
      "Update sell price\n",
      "Update sell price\n",
      "Update sell price\n",
      "Update sell price\n",
      "2022-08-31 18:56:37,402:91:INFO:Update sell price\n",
      "2022-08-31 18:56:37,402:91:INFO:Update sell price\n",
      "2022-08-31 18:56:37,402:91:INFO:Update sell price\n",
      "2022-08-31 18:56:37,402:91:INFO:Update sell price\n",
      "2022-08-31 18:56:37,402:91:INFO:Update sell price\n",
      "2022-08-31 18:56:37,402:91:INFO:Update sell price\n",
      "2022-08-31 18:56:37,402:91:INFO:Update sell price\n",
      "2022-08-31 18:56:46,505:91:INFO:Update sell price\n",
      "2022-08-31 18:56:46,505:91:INFO:Update sell price\n",
      "Update sell price\n",
      "Update sell price\n",
      "Update sell price\n",
      "Update sell price\n",
      "Update sell price\n",
      "2022-08-31 18:56:46,505:91:INFO:Update sell price\n",
      "2022-08-31 18:56:46,505:91:INFO:Update sell price\n",
      "2022-08-31 18:56:46,505:91:INFO:Update sell price\n",
      "2022-08-31 18:56:46,505:91:INFO:Update sell price\n",
      "2022-08-31 18:56:46,505:91:INFO:Update sell price\n",
      "2022-08-31 18:56:46,505:91:INFO:Update sell price\n",
      "2022-08-31 18:56:46,505:91:INFO:Update sell price\n",
      "2022-08-31 18:56:55,650:91:INFO:Update sell price\n",
      "2022-08-31 18:56:55,650:91:INFO:Update sell price\n",
      "Update sell price\n",
      "Update sell price\n",
      "Update sell price\n",
      "Update sell price\n",
      "Update sell price\n",
      "2022-08-31 18:56:55,650:91:INFO:Update sell price\n",
      "2022-08-31 18:56:55,650:91:INFO:Update sell price\n",
      "2022-08-31 18:56:55,650:91:INFO:Update sell price\n",
      "2022-08-31 18:56:55,650:91:INFO:Update sell price\n",
      "2022-08-31 18:56:55,650:91:INFO:Update sell price\n",
      "2022-08-31 18:56:55,650:91:INFO:Update sell price\n",
      "2022-08-31 18:56:55,650:91:INFO:Update sell price\n",
      "2022-08-31 18:57:04,756:91:INFO:Update sell price\n",
      "2022-08-31 18:57:04,756:91:INFO:Update sell price\n",
      "Update sell price\n",
      "Update sell price\n",
      "Update sell price\n",
      "Update sell price\n",
      "Update sell price\n",
      "2022-08-31 18:57:04,756:91:INFO:Update sell price\n",
      "2022-08-31 18:57:04,756:91:INFO:Update sell price\n",
      "2022-08-31 18:57:04,756:91:INFO:Update sell price\n",
      "2022-08-31 18:57:04,756:91:INFO:Update sell price\n",
      "2022-08-31 18:57:04,756:91:INFO:Update sell price\n",
      "2022-08-31 18:57:04,756:91:INFO:Update sell price\n",
      "2022-08-31 18:57:04,756:91:INFO:Update sell price\n",
      "2022-08-31 18:57:13,862:91:INFO:Update sell price\n",
      "2022-08-31 18:57:13,862:91:INFO:Update sell price\n",
      "Update sell price\n",
      "Update sell price\n",
      "Update sell price\n",
      "Update sell price\n",
      "Update sell price\n",
      "2022-08-31 18:57:13,862:91:INFO:Update sell price\n",
      "2022-08-31 18:57:13,862:91:INFO:Update sell price\n",
      "2022-08-31 18:57:13,862:91:INFO:Update sell price\n",
      "2022-08-31 18:57:13,862:91:INFO:Update sell price\n",
      "2022-08-31 18:57:13,862:91:INFO:Update sell price\n",
      "2022-08-31 18:57:13,862:91:INFO:Update sell price\n",
      "2022-08-31 18:57:13,862:91:INFO:Update sell price\n",
      "2022-08-31 18:57:22,970:91:INFO:Update sell price\n",
      "2022-08-31 18:57:22,970:91:INFO:Update sell price\n",
      "Update sell price\n",
      "Update sell price\n",
      "Update sell price\n",
      "Update sell price\n",
      "Update sell price\n",
      "2022-08-31 18:57:22,970:91:INFO:Update sell price\n",
      "2022-08-31 18:57:22,970:91:INFO:Update sell price\n",
      "2022-08-31 18:57:22,970:91:INFO:Update sell price\n",
      "2022-08-31 18:57:22,970:91:INFO:Update sell price\n",
      "2022-08-31 18:57:22,970:91:INFO:Update sell price\n",
      "2022-08-31 18:57:22,970:91:INFO:Update sell price\n",
      "2022-08-31 18:57:22,970:91:INFO:Update sell price\n",
      "2022-08-31 18:57:32,086:91:INFO:Update sell price\n",
      "2022-08-31 18:57:32,086:91:INFO:Update sell price\n",
      "Update sell price\n",
      "Update sell price\n",
      "Update sell price\n",
      "Update sell price\n",
      "Update sell price\n",
      "2022-08-31 18:57:32,086:91:INFO:Update sell price\n",
      "2022-08-31 18:57:32,086:91:INFO:Update sell price\n",
      "2022-08-31 18:57:32,086:91:INFO:Update sell price\n",
      "2022-08-31 18:57:32,086:91:INFO:Update sell price\n",
      "2022-08-31 18:57:32,086:91:INFO:Update sell price\n",
      "2022-08-31 18:57:32,086:91:INFO:Update sell price\n",
      "2022-08-31 18:57:32,086:91:INFO:Update sell price\n"
     ]
    },
    {
     "ename": "TypeError",
     "evalue": "unsupported operand type(s) for +: 'ExchangeError' and 'str'",
     "output_type": "error",
     "traceback": [
      "\u001b[1;31m---------------------------------------------------------------------------\u001b[0m",
      "\u001b[1;31mHTTPError\u001b[0m                                 Traceback (most recent call last)",
      "\u001b[1;32m~\\AppData\\Local\\Packages\\PythonSoftwareFoundation.Python.3.9_qbz5n2kfra8p0\\LocalCache\\local-packages\\Python39\\site-packages\\ccxt\\base\\exchange.py\u001b[0m in \u001b[0;36mfetch\u001b[1;34m(self, url, method, headers, body)\u001b[0m\n\u001b[0;32m    619\u001b[0m             \u001b[0mself\u001b[0m\u001b[1;33m.\u001b[0m\u001b[0mlogger\u001b[0m\u001b[1;33m.\u001b[0m\u001b[0mdebug\u001b[0m\u001b[1;33m(\u001b[0m\u001b[1;34m\"%s %s, Response: %s %s %s\"\u001b[0m\u001b[1;33m,\u001b[0m \u001b[0mmethod\u001b[0m\u001b[1;33m,\u001b[0m \u001b[0murl\u001b[0m\u001b[1;33m,\u001b[0m \u001b[0mhttp_status_code\u001b[0m\u001b[1;33m,\u001b[0m \u001b[0mheaders\u001b[0m\u001b[1;33m,\u001b[0m \u001b[0mhttp_response\u001b[0m\u001b[1;33m)\u001b[0m\u001b[1;33m\u001b[0m\u001b[1;33m\u001b[0m\u001b[0m\n\u001b[1;32m--> 620\u001b[1;33m             \u001b[0mresponse\u001b[0m\u001b[1;33m.\u001b[0m\u001b[0mraise_for_status\u001b[0m\u001b[1;33m(\u001b[0m\u001b[1;33m)\u001b[0m\u001b[1;33m\u001b[0m\u001b[1;33m\u001b[0m\u001b[0m\n\u001b[0m\u001b[0;32m    621\u001b[0m \u001b[1;33m\u001b[0m\u001b[0m\n",
      "\u001b[1;32m~\\AppData\\Local\\Packages\\PythonSoftwareFoundation.Python.3.9_qbz5n2kfra8p0\\LocalCache\\local-packages\\Python39\\site-packages\\requests\\models.py\u001b[0m in \u001b[0;36mraise_for_status\u001b[1;34m(self)\u001b[0m\n\u001b[0;32m    952\u001b[0m         \u001b[1;32mif\u001b[0m \u001b[0mhttp_error_msg\u001b[0m\u001b[1;33m:\u001b[0m\u001b[1;33m\u001b[0m\u001b[1;33m\u001b[0m\u001b[0m\n\u001b[1;32m--> 953\u001b[1;33m             \u001b[1;32mraise\u001b[0m \u001b[0mHTTPError\u001b[0m\u001b[1;33m(\u001b[0m\u001b[0mhttp_error_msg\u001b[0m\u001b[1;33m,\u001b[0m \u001b[0mresponse\u001b[0m\u001b[1;33m=\u001b[0m\u001b[0mself\u001b[0m\u001b[1;33m)\u001b[0m\u001b[1;33m\u001b[0m\u001b[1;33m\u001b[0m\u001b[0m\n\u001b[0m\u001b[0;32m    954\u001b[0m \u001b[1;33m\u001b[0m\u001b[0m\n",
      "\u001b[1;31mHTTPError\u001b[0m: 400 Client Error: Bad Request for url: https://coincheck.com/api/exchange/orders/4945809524",
      "\nDuring handling of the above exception, another exception occurred:\n",
      "\u001b[1;31mExchangeError\u001b[0m                             Traceback (most recent call last)",
      "\u001b[1;32m~\\AppData\\Local\\Temp/ipykernel_5944/168205562.py\u001b[0m in \u001b[0;36m<module>\u001b[1;34m\u001b[0m\n\u001b[0;32m     87\u001b[0m                     \u001b[0morder_id\u001b[0m \u001b[1;33m=\u001b[0m \u001b[0morder_sell\u001b[0m\u001b[1;33m[\u001b[0m\u001b[1;34m'id'\u001b[0m\u001b[1;33m]\u001b[0m\u001b[1;33m\u001b[0m\u001b[1;33m\u001b[0m\u001b[0m\n\u001b[1;32m---> 88\u001b[1;33m                     \u001b[0morder_cancel\u001b[0m \u001b[1;33m=\u001b[0m \u001b[0mOrderCancel\u001b[0m\u001b[1;33m(\u001b[0m\u001b[0morder_id\u001b[0m\u001b[1;33m,\u001b[0m\u001b[0msymbol\u001b[0m\u001b[1;33m)\u001b[0m\u001b[1;33m\u001b[0m\u001b[1;33m\u001b[0m\u001b[0m\n\u001b[0m\u001b[0;32m     89\u001b[0m                     \u001b[0morder_sell\u001b[0m \u001b[1;33m=\u001b[0m \u001b[0msell\u001b[0m\u001b[1;33m(\u001b[0m\u001b[0msell_price_tmp\u001b[0m\u001b[1;33m)\u001b[0m\u001b[1;33m\u001b[0m\u001b[1;33m\u001b[0m\u001b[0m\n",
      "\u001b[1;32m~\\AppData\\Local\\Temp/ipykernel_5944/3682873211.py\u001b[0m in \u001b[0;36mOrderCancel\u001b[1;34m(order_id, symbol)\u001b[0m\n\u001b[0;32m      1\u001b[0m \u001b[1;32mdef\u001b[0m \u001b[0mOrderCancel\u001b[0m\u001b[1;33m(\u001b[0m\u001b[0morder_id\u001b[0m\u001b[1;33m,\u001b[0m \u001b[0msymbol\u001b[0m\u001b[1;33m)\u001b[0m\u001b[1;33m:\u001b[0m\u001b[1;33m\u001b[0m\u001b[1;33m\u001b[0m\u001b[0m\n\u001b[1;32m----> 2\u001b[1;33m     result = coincheck.cancel_order(\n\u001b[0m\u001b[0;32m      3\u001b[0m                     \u001b[0msymbol\u001b[0m \u001b[1;33m=\u001b[0m \u001b[0msymbol\u001b[0m\u001b[1;33m,\u001b[0m  \u001b[1;31m# 取引通貨\u001b[0m\u001b[1;33m\u001b[0m\u001b[1;33m\u001b[0m\u001b[0m\n",
      "\u001b[1;32m~\\AppData\\Local\\Packages\\PythonSoftwareFoundation.Python.3.9_qbz5n2kfra8p0\\LocalCache\\local-packages\\Python39\\site-packages\\ccxt\\coincheck.py\u001b[0m in \u001b[0;36mcancel_order\u001b[1;34m(self, id, symbol, params)\u001b[0m\n\u001b[0;32m    591\u001b[0m         }\n\u001b[1;32m--> 592\u001b[1;33m         \u001b[1;32mreturn\u001b[0m \u001b[0mself\u001b[0m\u001b[1;33m.\u001b[0m\u001b[0mprivateDeleteExchangeOrdersId\u001b[0m\u001b[1;33m(\u001b[0m\u001b[0mself\u001b[0m\u001b[1;33m.\u001b[0m\u001b[0mextend\u001b[0m\u001b[1;33m(\u001b[0m\u001b[0mrequest\u001b[0m\u001b[1;33m,\u001b[0m \u001b[0mparams\u001b[0m\u001b[1;33m)\u001b[0m\u001b[1;33m)\u001b[0m\u001b[1;33m\u001b[0m\u001b[1;33m\u001b[0m\u001b[0m\n\u001b[0m\u001b[0;32m    593\u001b[0m \u001b[1;33m\u001b[0m\u001b[0m\n",
      "\u001b[1;32m~\\AppData\\Local\\Packages\\PythonSoftwareFoundation.Python.3.9_qbz5n2kfra8p0\\LocalCache\\local-packages\\Python39\\site-packages\\ccxt\\base\\exchange.py\u001b[0m in \u001b[0;36minner\u001b[1;34m(_self, params, context)\u001b[0m\n\u001b[0;32m    499\u001b[0m                     \u001b[0minner_kwargs\u001b[0m\u001b[1;33m[\u001b[0m\u001b[1;34m'context'\u001b[0m\u001b[1;33m]\u001b[0m \u001b[1;33m=\u001b[0m \u001b[0mparams\u001b[0m\u001b[1;33m\u001b[0m\u001b[1;33m\u001b[0m\u001b[0m\n\u001b[1;32m--> 500\u001b[1;33m                 \u001b[1;32mreturn\u001b[0m \u001b[0mentry\u001b[0m\u001b[1;33m(\u001b[0m\u001b[0m_self\u001b[0m\u001b[1;33m,\u001b[0m \u001b[1;33m**\u001b[0m\u001b[0minner_kwargs\u001b[0m\u001b[1;33m)\u001b[0m\u001b[1;33m\u001b[0m\u001b[1;33m\u001b[0m\u001b[0m\n\u001b[0m\u001b[0;32m    501\u001b[0m             \u001b[1;32mreturn\u001b[0m \u001b[0minner\u001b[0m\u001b[1;33m\u001b[0m\u001b[1;33m\u001b[0m\u001b[0m\n",
      "\u001b[1;32m~\\AppData\\Local\\Packages\\PythonSoftwareFoundation.Python.3.9_qbz5n2kfra8p0\\LocalCache\\local-packages\\Python39\\site-packages\\ccxt\\base\\exchange.py\u001b[0m in \u001b[0;36mrequest\u001b[1;34m(self, path, api, method, params, headers, body, config, context)\u001b[0m\n\u001b[0;32m   2609\u001b[0m     \u001b[1;32mdef\u001b[0m \u001b[0mrequest\u001b[0m\u001b[1;33m(\u001b[0m\u001b[0mself\u001b[0m\u001b[1;33m,\u001b[0m \u001b[0mpath\u001b[0m\u001b[1;33m,\u001b[0m \u001b[0mapi\u001b[0m\u001b[1;33m=\u001b[0m\u001b[1;34m'public'\u001b[0m\u001b[1;33m,\u001b[0m \u001b[0mmethod\u001b[0m\u001b[1;33m=\u001b[0m\u001b[1;34m'GET'\u001b[0m\u001b[1;33m,\u001b[0m \u001b[0mparams\u001b[0m\u001b[1;33m=\u001b[0m\u001b[1;33m{\u001b[0m\u001b[1;33m}\u001b[0m\u001b[1;33m,\u001b[0m \u001b[0mheaders\u001b[0m\u001b[1;33m=\u001b[0m\u001b[1;32mNone\u001b[0m\u001b[1;33m,\u001b[0m \u001b[0mbody\u001b[0m\u001b[1;33m=\u001b[0m\u001b[1;32mNone\u001b[0m\u001b[1;33m,\u001b[0m \u001b[0mconfig\u001b[0m\u001b[1;33m=\u001b[0m\u001b[1;33m{\u001b[0m\u001b[1;33m}\u001b[0m\u001b[1;33m,\u001b[0m \u001b[0mcontext\u001b[0m\u001b[1;33m=\u001b[0m\u001b[1;33m{\u001b[0m\u001b[1;33m}\u001b[0m\u001b[1;33m)\u001b[0m\u001b[1;33m:\u001b[0m\u001b[1;33m\u001b[0m\u001b[1;33m\u001b[0m\u001b[0m\n\u001b[1;32m-> 2610\u001b[1;33m         \u001b[1;32mreturn\u001b[0m \u001b[0mself\u001b[0m\u001b[1;33m.\u001b[0m\u001b[0mfetch2\u001b[0m\u001b[1;33m(\u001b[0m\u001b[0mpath\u001b[0m\u001b[1;33m,\u001b[0m \u001b[0mapi\u001b[0m\u001b[1;33m,\u001b[0m \u001b[0mmethod\u001b[0m\u001b[1;33m,\u001b[0m \u001b[0mparams\u001b[0m\u001b[1;33m,\u001b[0m \u001b[0mheaders\u001b[0m\u001b[1;33m,\u001b[0m \u001b[0mbody\u001b[0m\u001b[1;33m,\u001b[0m \u001b[0mconfig\u001b[0m\u001b[1;33m,\u001b[0m \u001b[0mcontext\u001b[0m\u001b[1;33m)\u001b[0m\u001b[1;33m\u001b[0m\u001b[1;33m\u001b[0m\u001b[0m\n\u001b[0m\u001b[0;32m   2611\u001b[0m \u001b[1;33m\u001b[0m\u001b[0m\n",
      "\u001b[1;32m~\\AppData\\Local\\Packages\\PythonSoftwareFoundation.Python.3.9_qbz5n2kfra8p0\\LocalCache\\local-packages\\Python39\\site-packages\\ccxt\\base\\exchange.py\u001b[0m in \u001b[0;36mfetch2\u001b[1;34m(self, path, api, method, params, headers, body, config, context)\u001b[0m\n\u001b[0;32m   2606\u001b[0m         \u001b[0mrequest\u001b[0m \u001b[1;33m=\u001b[0m \u001b[0mself\u001b[0m\u001b[1;33m.\u001b[0m\u001b[0msign\u001b[0m\u001b[1;33m(\u001b[0m\u001b[0mpath\u001b[0m\u001b[1;33m,\u001b[0m \u001b[0mapi\u001b[0m\u001b[1;33m,\u001b[0m \u001b[0mmethod\u001b[0m\u001b[1;33m,\u001b[0m \u001b[0mparams\u001b[0m\u001b[1;33m,\u001b[0m \u001b[0mheaders\u001b[0m\u001b[1;33m,\u001b[0m \u001b[0mbody\u001b[0m\u001b[1;33m)\u001b[0m\u001b[1;33m\u001b[0m\u001b[1;33m\u001b[0m\u001b[0m\n\u001b[1;32m-> 2607\u001b[1;33m         \u001b[1;32mreturn\u001b[0m \u001b[0mself\u001b[0m\u001b[1;33m.\u001b[0m\u001b[0mfetch\u001b[0m\u001b[1;33m(\u001b[0m\u001b[0mrequest\u001b[0m\u001b[1;33m[\u001b[0m\u001b[1;34m'url'\u001b[0m\u001b[1;33m]\u001b[0m\u001b[1;33m,\u001b[0m \u001b[0mrequest\u001b[0m\u001b[1;33m[\u001b[0m\u001b[1;34m'method'\u001b[0m\u001b[1;33m]\u001b[0m\u001b[1;33m,\u001b[0m \u001b[0mrequest\u001b[0m\u001b[1;33m[\u001b[0m\u001b[1;34m'headers'\u001b[0m\u001b[1;33m]\u001b[0m\u001b[1;33m,\u001b[0m \u001b[0mrequest\u001b[0m\u001b[1;33m[\u001b[0m\u001b[1;34m'body'\u001b[0m\u001b[1;33m]\u001b[0m\u001b[1;33m)\u001b[0m\u001b[1;33m\u001b[0m\u001b[1;33m\u001b[0m\u001b[0m\n\u001b[0m\u001b[0;32m   2608\u001b[0m \u001b[1;33m\u001b[0m\u001b[0m\n",
      "\u001b[1;32m~\\AppData\\Local\\Packages\\PythonSoftwareFoundation.Python.3.9_qbz5n2kfra8p0\\LocalCache\\local-packages\\Python39\\site-packages\\ccxt\\base\\exchange.py\u001b[0m in \u001b[0;36mfetch\u001b[1;34m(self, url, method, headers, body)\u001b[0m\n\u001b[0;32m    635\u001b[0m             \u001b[0mdetails\u001b[0m \u001b[1;33m=\u001b[0m \u001b[1;34m' '\u001b[0m\u001b[1;33m.\u001b[0m\u001b[0mjoin\u001b[0m\u001b[1;33m(\u001b[0m\u001b[1;33m[\u001b[0m\u001b[0mself\u001b[0m\u001b[1;33m.\u001b[0m\u001b[0mid\u001b[0m\u001b[1;33m,\u001b[0m \u001b[0mmethod\u001b[0m\u001b[1;33m,\u001b[0m \u001b[0murl\u001b[0m\u001b[1;33m]\u001b[0m\u001b[1;33m)\u001b[0m\u001b[1;33m\u001b[0m\u001b[1;33m\u001b[0m\u001b[0m\n\u001b[1;32m--> 636\u001b[1;33m             \u001b[0mskip_further_error_handling\u001b[0m \u001b[1;33m=\u001b[0m \u001b[0mself\u001b[0m\u001b[1;33m.\u001b[0m\u001b[0mhandle_errors\u001b[0m\u001b[1;33m(\u001b[0m\u001b[0mhttp_status_code\u001b[0m\u001b[1;33m,\u001b[0m \u001b[0mhttp_status_text\u001b[0m\u001b[1;33m,\u001b[0m \u001b[0murl\u001b[0m\u001b[1;33m,\u001b[0m \u001b[0mmethod\u001b[0m\u001b[1;33m,\u001b[0m \u001b[0mheaders\u001b[0m\u001b[1;33m,\u001b[0m \u001b[0mhttp_response\u001b[0m\u001b[1;33m,\u001b[0m \u001b[0mjson_response\u001b[0m\u001b[1;33m,\u001b[0m \u001b[0mrequest_headers\u001b[0m\u001b[1;33m,\u001b[0m \u001b[0mrequest_body\u001b[0m\u001b[1;33m)\u001b[0m\u001b[1;33m\u001b[0m\u001b[1;33m\u001b[0m\u001b[0m\n\u001b[0m\u001b[0;32m    637\u001b[0m             \u001b[1;32mif\u001b[0m \u001b[1;32mnot\u001b[0m \u001b[0mskip_further_error_handling\u001b[0m\u001b[1;33m:\u001b[0m\u001b[1;33m\u001b[0m\u001b[1;33m\u001b[0m\u001b[0m\n",
      "\u001b[1;32m~\\AppData\\Local\\Packages\\PythonSoftwareFoundation.Python.3.9_qbz5n2kfra8p0\\LocalCache\\local-packages\\Python39\\site-packages\\ccxt\\coincheck.py\u001b[0m in \u001b[0;36mhandle_errors\u001b[1;34m(self, httpCode, reason, url, method, headers, body, response, requestHeaders, requestBody)\u001b[0m\n\u001b[0;32m    797\u001b[0m             \u001b[0mself\u001b[0m\u001b[1;33m.\u001b[0m\u001b[0mthrow_broadly_matched_exception\u001b[0m\u001b[1;33m(\u001b[0m\u001b[0mself\u001b[0m\u001b[1;33m.\u001b[0m\u001b[0mexceptions\u001b[0m\u001b[1;33m[\u001b[0m\u001b[1;34m'broad'\u001b[0m\u001b[1;33m]\u001b[0m\u001b[1;33m,\u001b[0m \u001b[0mbody\u001b[0m\u001b[1;33m,\u001b[0m \u001b[0mfeedback\u001b[0m\u001b[1;33m)\u001b[0m\u001b[1;33m\u001b[0m\u001b[1;33m\u001b[0m\u001b[0m\n\u001b[1;32m--> 798\u001b[1;33m             \u001b[1;32mraise\u001b[0m \u001b[0mExchangeError\u001b[0m\u001b[1;33m(\u001b[0m\u001b[0mself\u001b[0m\u001b[1;33m.\u001b[0m\u001b[0mid\u001b[0m \u001b[1;33m+\u001b[0m \u001b[1;34m' '\u001b[0m \u001b[1;33m+\u001b[0m \u001b[0mself\u001b[0m\u001b[1;33m.\u001b[0m\u001b[0mjson\u001b[0m\u001b[1;33m(\u001b[0m\u001b[0mresponse\u001b[0m\u001b[1;33m)\u001b[0m\u001b[1;33m)\u001b[0m\u001b[1;33m\u001b[0m\u001b[1;33m\u001b[0m\u001b[0m\n\u001b[0m",
      "\u001b[1;31mExchangeError\u001b[0m: coincheck {\"success\":false,\"error\":\"Failed to cancel the order.\"}",
      "\nDuring handling of the above exception, another exception occurred:\n",
      "\u001b[1;31mTypeError\u001b[0m                                 Traceback (most recent call last)",
      "\u001b[1;32m~\\AppData\\Local\\Temp/ipykernel_5944/168205562.py\u001b[0m in \u001b[0;36m<module>\u001b[1;34m\u001b[0m\n\u001b[0;32m     92\u001b[0m                     \u001b[0mtime\u001b[0m\u001b[1;33m.\u001b[0m\u001b[0msleep\u001b[0m\u001b[1;33m(\u001b[0m\u001b[1;36m1\u001b[0m\u001b[1;33m)\u001b[0m\u001b[1;33m\u001b[0m\u001b[1;33m\u001b[0m\u001b[0m\n\u001b[0;32m     93\u001b[0m                 \u001b[1;32mexcept\u001b[0m \u001b[0mException\u001b[0m \u001b[1;32mas\u001b[0m \u001b[0me\u001b[0m\u001b[1;33m:\u001b[0m\u001b[1;33m\u001b[0m\u001b[1;33m\u001b[0m\u001b[0m\n\u001b[1;32m---> 94\u001b[1;33m                     \u001b[0mmessage\u001b[0m \u001b[1;33m=\u001b[0m \u001b[0me\u001b[0m \u001b[1;33m+\u001b[0m \u001b[1;34m' in Upadate sell'\u001b[0m\u001b[1;33m\u001b[0m\u001b[1;33m\u001b[0m\u001b[0m\n\u001b[0m\u001b[0;32m     95\u001b[0m                     \u001b[0mlogger\u001b[0m\u001b[1;33m.\u001b[0m\u001b[0minfo\u001b[0m\u001b[1;33m(\u001b[0m\u001b[0mmessage\u001b[0m\u001b[1;33m)\u001b[0m\u001b[1;33m\u001b[0m\u001b[1;33m\u001b[0m\u001b[0m\n\u001b[0;32m     96\u001b[0m \u001b[1;33m\u001b[0m\u001b[0m\n",
      "\u001b[1;31mTypeError\u001b[0m: unsupported operand type(s) for +: 'ExchangeError' and 'str'"
     ]
    }
   ],
   "source": [
    "trade_count = 0\n",
    "profit = 0\n",
    "ALPHA = 0.0003\n",
    "#---------------------------------\n",
    "# ログの出力名の設定\n",
    "logger = getLogger('LoggingTest')\n",
    "\n",
    "#　ログレベルの設定\n",
    "logger.setLevel(10)\n",
    "\n",
    "# ログのコンソール出力の設定\n",
    "# sh = StreamHandler()\n",
    "# logger.addHandler(sh)\n",
    "\n",
    "# ログのファイル出力先を設定\n",
    "file_name = datetime.datetime.now().strftime('%Y%m%d') + '_' + datetime.datetime.now().strftime('%H%M%S')+'.log'\n",
    "path_log = '/Users/Owner/Desktop/BitCoin/Log/'\n",
    "fh = FileHandler(path_log+file_name)\n",
    "logger.addHandler(fh)\n",
    "\n",
    "\n",
    "# ログの出力形式の設定\n",
    "formatter = logging.Formatter('%(asctime)s:%(lineno)d:%(levelname)s:%(message)s')\n",
    "fh.setFormatter(formatter)\n",
    "# sh.setFormatter(formatter)\n",
    "#------------------------------\n",
    "logger.info('Trade Start')\n",
    "pos = 'none'\n",
    "\n",
    "while True:\n",
    "    try:\n",
    "        # loop_count = 0\n",
    "        \n",
    "        if pos=='none':\n",
    "            board = ticker_info(symbol)\n",
    "            ask = board['ask']\n",
    "            bid = board['bid']\n",
    "            spread = (ask-bid)/bid\n",
    "            mid = int((ask+bid)/2)\n",
    "            \n",
    "            # とりあえず delta = 100 とした \n",
    "            delta = 100\n",
    "            buy_price = mid - 100\n",
    "            sell_price = mid + 100\n",
    "            \n",
    "            if spread >= ALPHA:\n",
    "                order_buy = buy(buy_price)\n",
    "                order_sell = sell(sell_price)\n",
    "                pos = 'entry'\n",
    "                logger.info('entry')\n",
    "                time.sleep(5)\n",
    "            \n",
    "            \n",
    "        if pos=='entry':\n",
    "            # 買えたかどうかチェック\n",
    "            is_buy, is_sell = get_status()\n",
    "            \n",
    "            # 売買終了\n",
    "            if is_buy and is_sell:\n",
    "                profit = sell_price - buy_price\n",
    "                trade_count += 1\n",
    "                logger.info('Done trade')\n",
    "                logger.info('sell price :{0}'.format(int(sell_price)))\n",
    "                logger.info('buy price  :{0}'.format(int(buy_price)))\n",
    "                logger.info('profit     :{0}'.format((sell_price-buy_price)*0.005))\n",
    "                pos = 'none'\n",
    "                    \n",
    "            # 買い指値変更検討\n",
    "            if not is_buy and is_sell:\n",
    "                buy_price_tmp = buy_price + 1\n",
    "                try:\n",
    "                    order_id = order_buy['id']\n",
    "                    order_cancel = OrderCancel(order_id,symbol)\n",
    "                    order_buy = buy(buy_price_tmp)\n",
    "                    buy_price = buy_price_tmp\n",
    "                    logger.info('Update buy price {0}'.format(int(buy_price)))\n",
    "                    time.sleep(1)\n",
    "                    \n",
    "                except Exception as e:\n",
    "                    logger.info(e)\n",
    "                    logger.info('in Update buy')\n",
    "            \n",
    "            # 売り指値変更検討\n",
    "            if is_buy and not is_sell:\n",
    "                sell_price_tmp = sell_price - 1\n",
    "                try:\n",
    "                    order_id = order_sell['id']\n",
    "                    order_cancel = OrderCancel(order_id,symbol)\n",
    "                    order_sell = sell(sell_price_tmp)\n",
    "                    sell_price = sell_price_tmp\n",
    "                    logger.info('Update sell price {0}'.format(int(sell_price)))\n",
    "                    time.sleep(1)\n",
    "                except Exception as e:\n",
    "                    logger.info(e)\n",
    "                    logger.info('in Update sell')\n",
    "            \n",
    "            # 買い, 売り指値変更検討\n",
    "            if not is_buy and not is_sell:\n",
    "                try:\n",
    "                    order_id = order_sell['id']\n",
    "                    order_cancel = OrderCancel(order_id,symbol)\n",
    "                    order_id = order_buy['id']\n",
    "                    order_cancel = OrderCancel(order_id,symbol)\n",
    "                    pos = 'none'\n",
    "                except Exception as e:\n",
    "                    logger.info(e)\n",
    "                \n",
    "        \n",
    "        \n",
    "        time.sleep(5)\n",
    "\n",
    "    except KeyboardInterrupt:\n",
    "        logger.info('Finish trade')\n",
    "        break\n",
    "\n",
    "\n",
    "\n"
   ]
  },
  {
   "cell_type": "code",
   "execution_count": 263,
   "metadata": {},
   "outputs": [
    {
     "data": {
      "text/plain": [
       "1"
      ]
     },
     "execution_count": 263,
     "metadata": {},
     "output_type": "execute_result"
    }
   ],
   "source": [
    "trade_count"
   ]
  },
  {
   "cell_type": "code",
   "execution_count": 259,
   "metadata": {},
   "outputs": [
    {
     "data": {
      "text/plain": [
       "'aaabbbb'"
      ]
     },
     "execution_count": 259,
     "metadata": {},
     "output_type": "execute_result"
    }
   ],
   "source": [
    "'aaa'+'bbbb'"
   ]
  },
  {
   "cell_type": "code",
   "execution_count": 233,
   "metadata": {},
   "outputs": [
    {
     "data": {
      "text/plain": [
       "{'info': {'success': True,\n",
       "  'jpy': '35650.9884',\n",
       "  'btc': '0.005',\n",
       "  'eth': '0.0',\n",
       "  'etc': '0.0',\n",
       "  'lsk': '0.0',\n",
       "  'xrp': '0.0',\n",
       "  'xem': '0.0',\n",
       "  'ltc': '0.0',\n",
       "  'bch': '0.0',\n",
       "  'mona': '0.0',\n",
       "  'xlm': '0.0',\n",
       "  'qtum': '0.0',\n",
       "  'bat': '0.0',\n",
       "  'iost': '0.0',\n",
       "  'enj': '0.0',\n",
       "  'omg': '0.0',\n",
       "  'plt': '0.0',\n",
       "  'sand': '0.0',\n",
       "  'xym': '0.0',\n",
       "  'jpy_reserved': '0.0',\n",
       "  'btc_reserved': '0.0',\n",
       "  'eth_reserved': '0.0',\n",
       "  'etc_reserved': '0.0',\n",
       "  'lsk_reserved': '0.0',\n",
       "  'xrp_reserved': '0.0',\n",
       "  'xem_reserved': '0.0',\n",
       "  'ltc_reserved': '0.0',\n",
       "  'bch_reserved': '0.0',\n",
       "  'mona_reserved': '0.0',\n",
       "  'xlm_reserved': '0.0',\n",
       "  'qtum_reserved': '0.0',\n",
       "  'bat_reserved': '0.0',\n",
       "  'iost_reserved': '0.0',\n",
       "  'enj_reserved': '0.0',\n",
       "  'omg_reserved': '0.0',\n",
       "  'plt_reserved': '0.0',\n",
       "  'sand_reserved': '0.0',\n",
       "  'xym_reserved': '0.0',\n",
       "  'jpy_lend_in_use': '0.0',\n",
       "  'btc_lend_in_use': '0.0',\n",
       "  'eth_lend_in_use': '0.0',\n",
       "  'etc_lend_in_use': '0.0',\n",
       "  'lsk_lend_in_use': '0.0',\n",
       "  'xrp_lend_in_use': '0.0',\n",
       "  'xem_lend_in_use': '0.0',\n",
       "  'ltc_lend_in_use': '0.0',\n",
       "  'bch_lend_in_use': '0.0',\n",
       "  'mona_lend_in_use': '0.0',\n",
       "  'xlm_lend_in_use': '0.0',\n",
       "  'qtum_lend_in_use': '0.0',\n",
       "  'bat_lend_in_use': '0.0',\n",
       "  'iost_lend_in_use': '0.0',\n",
       "  'enj_lend_in_use': '0.0',\n",
       "  'omg_lend_in_use': '0.0',\n",
       "  'plt_lend_in_use': '0.0',\n",
       "  'sand_lend_in_use': '0.0',\n",
       "  'xym_lend_in_use': '0.0',\n",
       "  'jpy_lent': '0.0',\n",
       "  'btc_lent': '0.0',\n",
       "  'eth_lent': '0.0',\n",
       "  'etc_lent': '0.0',\n",
       "  'lsk_lent': '0.0',\n",
       "  'xrp_lent': '0.0',\n",
       "  'xem_lent': '0.0',\n",
       "  'ltc_lent': '0.0',\n",
       "  'bch_lent': '0.0',\n",
       "  'mona_lent': '0.0',\n",
       "  'xlm_lent': '0.0',\n",
       "  'qtum_lent': '0.0',\n",
       "  'bat_lent': '0.0',\n",
       "  'iost_lent': '0.0',\n",
       "  'enj_lent': '0.0',\n",
       "  'omg_lent': '0.0',\n",
       "  'plt_lent': '0.0',\n",
       "  'sand_lent': '0.0',\n",
       "  'xym_lent': '0.0',\n",
       "  'jpy_debt': '0.0',\n",
       "  'btc_debt': '0.0',\n",
       "  'eth_debt': '0.0',\n",
       "  'etc_debt': '0.0',\n",
       "  'lsk_debt': '0.0',\n",
       "  'xrp_debt': '0.0',\n",
       "  'xem_debt': '0.0',\n",
       "  'ltc_debt': '0.0',\n",
       "  'bch_debt': '0.0',\n",
       "  'mona_debt': '0.0',\n",
       "  'xlm_debt': '0.0',\n",
       "  'qtum_debt': '0.0',\n",
       "  'bat_debt': '0.0',\n",
       "  'iost_debt': '0.0',\n",
       "  'enj_debt': '0.0',\n",
       "  'omg_debt': '0.0',\n",
       "  'plt_debt': '0.0',\n",
       "  'sand_debt': '0.0',\n",
       "  'xym_debt': '0.0'},\n",
       " 'BTC': {'free': 0.005, 'used': 0.0, 'total': 0.005},\n",
       " 'ETC': {'free': 0.0, 'used': 0.0, 'total': 0.0},\n",
       " 'JPY': {'free': 35650.9884, 'used': 0.0, 'total': 35650.9884},\n",
       " 'MONA': {'free': 0.0, 'used': 0.0, 'total': 0.0},\n",
       " 'free': {'BTC': 0.005, 'ETC': 0.0, 'JPY': 35650.9884, 'MONA': 0.0},\n",
       " 'used': {'BTC': 0.0, 'ETC': 0.0, 'JPY': 0.0, 'MONA': 0.0},\n",
       " 'total': {'BTC': 0.005, 'ETC': 0.0, 'JPY': 35650.9884, 'MONA': 0.0}}"
      ]
     },
     "execution_count": 233,
     "metadata": {},
     "output_type": "execute_result"
    }
   ],
   "source": [
    "balance_info()"
   ]
  },
  {
   "cell_type": "code",
   "execution_count": 206,
   "metadata": {},
   "outputs": [],
   "source": [
    "while True:\n",
    "    1 == 1\n",
    "    try:\n",
    "        2==2\n",
    "    except KeyboardInterrupt:\n",
    "        break\n",
    "    "
   ]
  },
  {
   "cell_type": "code",
   "execution_count": 102,
   "metadata": {},
   "outputs": [],
   "source": [
    "board = ticker_info(symbol)\n",
    "buy_price = board['bid'] + 1\n",
    "sell_price = board['ask'] - 1\n",
    "\n",
    "order_buy = buy(buy_price)\n",
    "order_sell = sell(sell_price)"
   ]
  },
  {
   "cell_type": "code",
   "execution_count": null,
   "metadata": {},
   "outputs": [],
   "source": [
    "\n",
    "\n",
    "# ログの出力名の設定\n",
    "logger = getLogger('LoggingTest')\n",
    "\n",
    "#　ログレベルの設定\n",
    "logger.setLevel(10)\n",
    "\n",
    "# ログのコンソール出力の設定\n",
    "# sh = StreamHandler()\n",
    "# logger.addHandler(sh)\n",
    "\n",
    "# ログのファイル出力先を設定\n",
    "file_name = datetime.datetime.now().strftime('%Y%m%d') + '_' + datetime.datetime.now().strftime('%H%M%S')+'.log'\n",
    "path_log = '/Users/Owner/Desktop/BitCoin/Log/'\n",
    "fh = FileHandler(path_log+file_name)\n",
    "logger.addHandler(fh)\n",
    "\n",
    "\n",
    "# ログの出力形式の設定\n",
    "formatter = logging.Formatter('%(asctime)s:%(lineno)d:%(levelname)s:%(message)s')\n",
    "fh.setFormatter(formatter)\n",
    "# sh.setFormatter(formatter)\n",
    "\n",
    "logger.log(20, 'info')\n",
    "logger.log(30, 'warning')\n",
    "logger.log(100, 'test')\n",
    "logger.debug(\"hello\")\n",
    "logger.info(\"done\")\n",
    "logger.error('ERROR')\n",
    "\n",
    "logger.info('info')\n",
    "logger.warning('warning')\n"
   ]
  },
  {
   "cell_type": "code",
   "execution_count": null,
   "metadata": {},
   "outputs": [],
   "source": []
  }
 ],
 "metadata": {
  "kernelspec": {
   "display_name": "Python 3.9.13 64-bit (windows store)",
   "language": "python",
   "name": "python3"
  },
  "language_info": {
   "codemirror_mode": {
    "name": "ipython",
    "version": 3
   },
   "file_extension": ".py",
   "mimetype": "text/x-python",
   "name": "python",
   "nbconvert_exporter": "python",
   "pygments_lexer": "ipython3",
   "version": "3.9.13"
  },
  "orig_nbformat": 4,
  "vscode": {
   "interpreter": {
    "hash": "d6ca01a9d29b8f49b2398e47ff0a4f0d82a4b97eff954d8fa800ff949016a671"
   }
  }
 },
 "nbformat": 4,
 "nbformat_minor": 2
}
