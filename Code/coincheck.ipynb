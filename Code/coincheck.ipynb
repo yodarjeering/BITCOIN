{
 "cells": [
  {
   "cell_type": "markdown",
   "metadata": {},
   "source": [
    "# import"
   ]
  },
  {
   "cell_type": "code",
   "execution_count": 40,
   "metadata": {},
   "outputs": [],
   "source": [
    "import numpy as np\n",
    "import glob\n",
    "import pandas as pd\n",
    "import matplotlib.pyplot as plt\n",
    "from my_library.library import *\n",
    "from pprint import pprint\n",
    "import json\n",
    "import requests\n",
    "import sys\n",
    "path_ =  '/Users/Owner/Desktop/coincheck_api'\n",
    "sys.path.append(path_)\n",
    "from settings_coincheck import API_settings as capi\n",
    "import ccxt\n",
    "import datetime\n",
    "import logging\n",
    "from pprint import pprint\n",
    "import json\n",
    "import requests\n",
    "import time"
   ]
  },
  {
   "cell_type": "code",
   "execution_count": 6,
   "metadata": {},
   "outputs": [],
   "source": [
    "API_KEY = capi.API_KEY\n",
    "API_SECRET = capi.API_SECRET\n",
    "SYMBOL = \"BTC/JPY\"\n",
    "\n",
    "coincheck = ccxt.coincheck({'apiKey':API_KEY,'secret':API_SECRET})"
   ]
  },
  {
   "cell_type": "code",
   "execution_count": null,
   "metadata": {},
   "outputs": [],
   "source": [
    "#　取引通貨情報\n",
    "def market_info():\n",
    "    result = coincheck.load_markets()\n",
    "    return result\n",
    "\n",
    "pprint(market_info())"
   ]
  },
  {
   "cell_type": "code",
   "execution_count": 30,
   "metadata": {},
   "outputs": [
    {
     "name": "stdout",
     "output_type": "stream",
     "text": [
      "{'ask': 2831300.0,\n",
      " 'askVolume': None,\n",
      " 'average': None,\n",
      " 'baseVolume': 2764.66301029,\n",
      " 'bid': 2830379.0,\n",
      " 'bidVolume': None,\n",
      " 'change': None,\n",
      " 'close': 2831300.0,\n",
      " 'datetime': '2022-08-30T07:58:43.000Z',\n",
      " 'high': 2853303.0,\n",
      " 'info': {'ask': '2831300.0',\n",
      "          'bid': '2830379.0',\n",
      "          'high': '2853303.0',\n",
      "          'last': '2831300.0',\n",
      "          'low': '2740376.0',\n",
      "          'timestamp': '1661846323',\n",
      "          'volume': '2764.66301029'},\n",
      " 'last': 2831300.0,\n",
      " 'low': 2740376.0,\n",
      " 'open': None,\n",
      " 'percentage': None,\n",
      " 'previousClose': None,\n",
      " 'quoteVolume': None,\n",
      " 'symbol': 'BTC/JPY',\n",
      " 'timestamp': 1661846323000,\n",
      " 'vwap': None}\n"
     ]
    }
   ],
   "source": [
    "def ticker_info(SYMBOL):\n",
    "    result = coincheck.fetch_ticker(symbol=SYMBOL)\n",
    "    return result\n",
    "\n",
    "pprint(ticker_info(SYMBOL))\n",
    "board = ticker_info(SYMBOL)\n",
    "ask = board['ask']\n",
    "bid = board['bid']"
   ]
  },
  {
   "cell_type": "code",
   "execution_count": 38,
   "metadata": {},
   "outputs": [
    {
     "name": "stdout",
     "output_type": "stream",
     "text": [
      "Wall time: 0 ns\n"
     ]
    }
   ],
   "source": [
    "time"
   ]
  },
  {
   "cell_type": "code",
   "execution_count": 44,
   "metadata": {},
   "outputs": [
    {
     "name": "stdout",
     "output_type": "stream",
     "text": [
      "-------------------\n",
      "ask 2830498.0\n",
      "bid 2830001.0\n",
      "spread 0.00017561831250236307\n",
      "-------------------\n",
      "ask 2830498.0\n",
      "bid 2830001.0\n",
      "spread 0.00017561831250236307\n",
      "-------------------\n",
      "ask 2830498.0\n",
      "bid 2830001.0\n",
      "spread 0.00017561831250236307\n",
      "-------------------\n",
      "ask 2830498.0\n",
      "bid 2830001.0\n",
      "spread 0.00017561831250236307\n",
      "-------------------\n",
      "ask 2829943.0\n",
      "bid 2829241.0\n",
      "spread 0.00024812308318732833\n",
      "-------------------\n",
      "ask 2829943.0\n",
      "bid 2829241.0\n",
      "spread 0.00024812308318732833\n",
      "-------------------\n",
      "ask 2829943.0\n",
      "bid 2829241.0\n",
      "spread 0.00024812308318732833\n",
      "-------------------\n",
      "ask 2829943.0\n",
      "bid 2829241.0\n",
      "spread 0.00024812308318732833\n",
      "-------------------\n",
      "ask 2829943.0\n",
      "bid 2829241.0\n",
      "spread 0.00024812308318732833\n",
      "-------------------\n",
      "ask 2829943.0\n",
      "bid 2829241.0\n",
      "spread 0.00024812308318732833\n",
      "-------------------\n",
      "ask 2829694.0\n",
      "bid 2829240.0\n",
      "spread 0.00016046712191259845\n"
     ]
    },
    {
     "ename": "KeyboardInterrupt",
     "evalue": "",
     "output_type": "error",
     "traceback": [
      "\u001b[1;31m---------------------------------------------------------------------------\u001b[0m",
      "\u001b[1;31mKeyboardInterrupt\u001b[0m                         Traceback (most recent call last)",
      "\u001b[1;32m~\\AppData\\Local\\Temp/ipykernel_5944/3117160108.py\u001b[0m in \u001b[0;36m<module>\u001b[1;34m\u001b[0m\n\u001b[0;32m      8\u001b[0m     \u001b[0mprint\u001b[0m\u001b[1;33m(\u001b[0m\u001b[1;34m\"bid\"\u001b[0m\u001b[1;33m,\u001b[0m\u001b[0mbid\u001b[0m\u001b[1;33m)\u001b[0m\u001b[1;33m\u001b[0m\u001b[1;33m\u001b[0m\u001b[0m\n\u001b[0;32m      9\u001b[0m     \u001b[0mprint\u001b[0m\u001b[1;33m(\u001b[0m\u001b[1;34m\"spread\"\u001b[0m\u001b[1;33m,\u001b[0m\u001b[0mspread\u001b[0m\u001b[1;33m)\u001b[0m\u001b[1;33m\u001b[0m\u001b[1;33m\u001b[0m\u001b[0m\n\u001b[1;32m---> 10\u001b[1;33m     \u001b[0mtime\u001b[0m\u001b[1;33m.\u001b[0m\u001b[0msleep\u001b[0m\u001b[1;33m(\u001b[0m\u001b[1;36m2\u001b[0m\u001b[1;33m)\u001b[0m\u001b[1;33m\u001b[0m\u001b[1;33m\u001b[0m\u001b[0m\n\u001b[0m",
      "\u001b[1;31mKeyboardInterrupt\u001b[0m: "
     ]
    }
   ],
   "source": [
    "while True:\n",
    "    board = ticker_info(SYMBOL)\n",
    "    ask = board['ask']\n",
    "    bid = board['bid']\n",
    "    spread = (ask - bid)/bid\n",
    "    print(\"-------------------\")\n",
    "    print(\"ask\",ask)\n",
    "    print(\"bid\",bid)\n",
    "    print(\"spread\",spread)\n",
    "    time.sleep(2)"
   ]
  },
  {
   "cell_type": "code",
   "execution_count": 123,
   "metadata": {},
   "outputs": [
    {
     "name": "stdout",
     "output_type": "stream",
     "text": [
      "{'BTC': {'free': 0.005, 'total': 0.005, 'used': 0.0},\n",
      " 'ETC': {'free': 0.0, 'total': 0.0, 'used': 0.0},\n",
      " 'JPY': {'free': 35936.56, 'total': 35936.56, 'used': 0.0},\n",
      " 'MONA': {'free': 0.0, 'total': 0.0, 'used': 0.0},\n",
      " 'free': {'BTC': 0.005, 'ETC': 0.0, 'JPY': 35936.56, 'MONA': 0.0},\n",
      " 'info': {'bat': '0.0',\n",
      "          'bat_debt': '0.0',\n",
      "          'bat_lend_in_use': '0.0',\n",
      "          'bat_lent': '0.0',\n",
      "          'bat_reserved': '0.0',\n",
      "          'bch': '0.0',\n",
      "          'bch_debt': '0.0',\n",
      "          'bch_lend_in_use': '0.0',\n",
      "          'bch_lent': '0.0',\n",
      "          'bch_reserved': '0.0',\n",
      "          'btc': '0.005',\n",
      "          'btc_debt': '0.0',\n",
      "          'btc_lend_in_use': '0.0',\n",
      "          'btc_lent': '0.0',\n",
      "          'btc_reserved': '0.0',\n",
      "          'enj': '0.0',\n",
      "          'enj_debt': '0.0',\n",
      "          'enj_lend_in_use': '0.0',\n",
      "          'enj_lent': '0.0',\n",
      "          'enj_reserved': '0.0',\n",
      "          'etc': '0.0',\n",
      "          'etc_debt': '0.0',\n",
      "          'etc_lend_in_use': '0.0',\n",
      "          'etc_lent': '0.0',\n",
      "          'etc_reserved': '0.0',\n",
      "          'eth': '0.0',\n",
      "          'eth_debt': '0.0',\n",
      "          'eth_lend_in_use': '0.0',\n",
      "          'eth_lent': '0.0',\n",
      "          'eth_reserved': '0.0',\n",
      "          'iost': '0.0',\n",
      "          'iost_debt': '0.0',\n",
      "          'iost_lend_in_use': '0.0',\n",
      "          'iost_lent': '0.0',\n",
      "          'iost_reserved': '0.0',\n",
      "          'jpy': '35936.56',\n",
      "          'jpy_debt': '0.0',\n",
      "          'jpy_lend_in_use': '0.0',\n",
      "          'jpy_lent': '0.0',\n",
      "          'jpy_reserved': '0.0',\n",
      "          'lsk': '0.0',\n",
      "          'lsk_debt': '0.0',\n",
      "          'lsk_lend_in_use': '0.0',\n",
      "          'lsk_lent': '0.0',\n",
      "          'lsk_reserved': '0.0',\n",
      "          'ltc': '0.0',\n",
      "          'ltc_debt': '0.0',\n",
      "          'ltc_lend_in_use': '0.0',\n",
      "          'ltc_lent': '0.0',\n",
      "          'ltc_reserved': '0.0',\n",
      "          'mona': '0.0',\n",
      "          'mona_debt': '0.0',\n",
      "          'mona_lend_in_use': '0.0',\n",
      "          'mona_lent': '0.0',\n",
      "          'mona_reserved': '0.0',\n",
      "          'omg': '0.0',\n",
      "          'omg_debt': '0.0',\n",
      "          'omg_lend_in_use': '0.0',\n",
      "          'omg_lent': '0.0',\n",
      "          'omg_reserved': '0.0',\n",
      "          'plt': '0.0',\n",
      "          'plt_debt': '0.0',\n",
      "          'plt_lend_in_use': '0.0',\n",
      "          'plt_lent': '0.0',\n",
      "          'plt_reserved': '0.0',\n",
      "          'qtum': '0.0',\n",
      "          'qtum_debt': '0.0',\n",
      "          'qtum_lend_in_use': '0.0',\n",
      "          'qtum_lent': '0.0',\n",
      "          'qtum_reserved': '0.0',\n",
      "          'sand': '0.0',\n",
      "          'sand_debt': '0.0',\n",
      "          'sand_lend_in_use': '0.0',\n",
      "          'sand_lent': '0.0',\n",
      "          'sand_reserved': '0.0',\n",
      "          'success': True,\n",
      "          'xem': '0.0',\n",
      "          'xem_debt': '0.0',\n",
      "          'xem_lend_in_use': '0.0',\n",
      "          'xem_lent': '0.0',\n",
      "          'xem_reserved': '0.0',\n",
      "          'xlm': '0.0',\n",
      "          'xlm_debt': '0.0',\n",
      "          'xlm_lend_in_use': '0.0',\n",
      "          'xlm_lent': '0.0',\n",
      "          'xlm_reserved': '0.0',\n",
      "          'xrp': '0.0',\n",
      "          'xrp_debt': '0.0',\n",
      "          'xrp_lend_in_use': '0.0',\n",
      "          'xrp_lent': '0.0',\n",
      "          'xrp_reserved': '0.0',\n",
      "          'xym': '0.0',\n",
      "          'xym_debt': '0.0',\n",
      "          'xym_lend_in_use': '0.0',\n",
      "          'xym_lent': '0.0',\n",
      "          'xym_reserved': '0.0'},\n",
      " 'total': {'BTC': 0.005, 'ETC': 0.0, 'JPY': 35936.56, 'MONA': 0.0},\n",
      " 'used': {'BTC': 0.0, 'ETC': 0.0, 'JPY': 0.0, 'MONA': 0.0}}\n"
     ]
    }
   ],
   "source": [
    "def balance_info():\n",
    "    result = coincheck.fetchBalance()\n",
    "    return result\n",
    "\n",
    "\n",
    "pprint(balance_info())"
   ]
  },
  {
   "cell_type": "code",
   "execution_count": 64,
   "metadata": {},
   "outputs": [
    {
     "data": {
      "text/plain": [
       "2829694.0"
      ]
     },
     "execution_count": 64,
     "metadata": {},
     "output_type": "execute_result"
    }
   ],
   "source": [
    "ask"
   ]
  },
  {
   "cell_type": "code",
   "execution_count": 65,
   "metadata": {},
   "outputs": [
    {
     "data": {
      "text/plain": [
       "2829240.0"
      ]
     },
     "execution_count": 65,
     "metadata": {},
     "output_type": "execute_result"
    }
   ],
   "source": [
    "bid"
   ]
  },
  {
   "cell_type": "markdown",
   "metadata": {},
   "source": [
    "# 売買　コード"
   ]
  },
  {
   "cell_type": "code",
   "execution_count": 67,
   "metadata": {},
   "outputs": [
    {
     "data": {
      "text/plain": [
       "{'symbol': 'BTC/JPY',\n",
       " 'timestamp': 1661848233000,\n",
       " 'datetime': '2022-08-30T08:30:33.000Z',\n",
       " 'high': 2853303.0,\n",
       " 'low': 2740376.0,\n",
       " 'bid': 2825630.0,\n",
       " 'bidVolume': None,\n",
       " 'ask': 2826413.0,\n",
       " 'askVolume': None,\n",
       " 'vwap': None,\n",
       " 'open': None,\n",
       " 'close': 2826250.0,\n",
       " 'last': 2826250.0,\n",
       " 'previousClose': None,\n",
       " 'change': None,\n",
       " 'percentage': None,\n",
       " 'average': None,\n",
       " 'baseVolume': 2761.97413964,\n",
       " 'quoteVolume': None,\n",
       " 'info': {'last': '2826250.0',\n",
       "  'bid': '2825630.0',\n",
       "  'ask': '2826413.0',\n",
       "  'high': '2853303.0',\n",
       "  'low': '2740376.0',\n",
       "  'volume': '2761.97413964',\n",
       "  'timestamp': '1661848233'}}"
      ]
     },
     "execution_count": 67,
     "metadata": {},
     "output_type": "execute_result"
    }
   ],
   "source": [
    "board"
   ]
  },
  {
   "cell_type": "code",
   "execution_count": 72,
   "metadata": {},
   "outputs": [
    {
     "name": "stdout",
     "output_type": "stream",
     "text": [
      "{'id': '4942415462',\n",
      " 'info': {'amount': '0.005',\n",
      "          'created_at': '2022-08-30T08:34:15.000Z',\n",
      "          'id': '4942415462',\n",
      "          'market_buy_amount': None,\n",
      "          'order_type': 'sell',\n",
      "          'pair': 'btc_jpy',\n",
      "          'rate': '2826116.0',\n",
      "          'stop_loss_rate': None,\n",
      "          'success': True}}\n"
     ]
    }
   ],
   "source": [
    "# 引数情報\n",
    "board = ticker_info(SYMBOL)\n",
    "\n",
    "order_symbol = 'BTC/JPY'   # 取引通貨\n",
    "type_value   = 'limit'     # 注文タイプ（limit:指値注文, market:成行注文）\n",
    "side_value   = 'sell'       # 買い(buy) or 売り(sell)\n",
    "price_value  = board['bid'] - 1     # 指値価格[円/BTC]\n",
    "amount_value = 0.005       # 取引数量[BTC]\n",
    "\n",
    "\n",
    "# 注文コード\n",
    "order = coincheck.create_order(\n",
    "                symbol = order_symbol,  # 取引通貨\n",
    "                type = type_value,      # 注文タイプ\n",
    "                side= side_value,       # 買 or 売\n",
    "                amount= amount_value,   # 取引数量\n",
    "                price=price_value,      # 指値価格\n",
    "                )\n",
    "\n",
    "# 結果出力\n",
    "pprint(order)"
   ]
  },
  {
   "cell_type": "code",
   "execution_count": 24,
   "metadata": {},
   "outputs": [
    {
     "data": {
      "text/plain": [
       "'4942326801'"
      ]
     },
     "execution_count": 24,
     "metadata": {},
     "output_type": "execute_result"
    }
   ],
   "source": [
    "order['id']"
   ]
  },
  {
   "cell_type": "code",
   "execution_count": 71,
   "metadata": {},
   "outputs": [
    {
     "name": "stdout",
     "output_type": "stream",
     "text": [
      "{'id': '4942404971', 'success': True}\n"
     ]
    }
   ],
   "source": [
    "def OrderCancel(order_id, symbol):\n",
    "    result = coincheck.cancel_order(\n",
    "                    symbol = symbol,  # 取引通貨\n",
    "                    id = order_id,    # 注文ID\n",
    "                    )\n",
    "    return result\n",
    "\n",
    "# 引数情報\n",
    "order_id = order['id']\n",
    "symbol =   'BTC/JPY'\n",
    "\n",
    "# 出力\n",
    "pprint(OrderCancel(order_id,symbol))"
   ]
  },
  {
   "cell_type": "markdown",
   "metadata": {},
   "source": [
    "# 未約定のorderの注文照会\n"
   ]
  },
  {
   "cell_type": "code",
   "execution_count": 81,
   "metadata": {},
   "outputs": [
    {
     "data": {
      "text/plain": [
       "True"
      ]
     },
     "execution_count": 81,
     "metadata": {},
     "output_type": "execute_result"
    }
   ],
   "source": [
    "OpenOrder(symbol) == []"
   ]
  },
  {
   "cell_type": "code",
   "execution_count": 84,
   "metadata": {},
   "outputs": [
    {
     "name": "stdout",
     "output_type": "stream",
     "text": [
      "[{'amount': 0.005,\n",
      "  'average': None,\n",
      "  'clientOrderId': None,\n",
      "  'cost': 0.0,\n",
      "  'datetime': '2022-08-30T09:21:07.000Z',\n",
      "  'fee': None,\n",
      "  'fees': [],\n",
      "  'filled': 0.0,\n",
      "  'id': '4942503271',\n",
      "  'info': {'created_at': '2022-08-30T09:21:07.000Z',\n",
      "           'id': '4942503271',\n",
      "           'order_type': 'buy',\n",
      "           'pair': 'btc_jpy',\n",
      "           'pending_amount': '0.005',\n",
      "           'pending_market_buy_amount': None,\n",
      "           'rate': '2823383.0',\n",
      "           'stop_loss_rate': None},\n",
      "  'lastTradeTimestamp': None,\n",
      "  'postOnly': None,\n",
      "  'price': 2823383.0,\n",
      "  'remaining': 0.005,\n",
      "  'side': 'buy',\n",
      "  'status': 'open',\n",
      "  'stopPrice': None,\n",
      "  'symbol': 'BTC/JPY',\n",
      "  'timeInForce': None,\n",
      "  'timestamp': 1661851267000,\n",
      "  'trades': [],\n",
      "  'type': None}]\n"
     ]
    }
   ],
   "source": [
    "def OpenOrder(symbol):\n",
    "    result = coincheck.fetchOpenOrders(symbol = symbol)\n",
    "    return result\n",
    "\n",
    "# 引数情報\n",
    "symbol = 'BTC/JPY'\n",
    "\n",
    "# 出力\n",
    "pprint(OpenOrder(symbol))"
   ]
  },
  {
   "cell_type": "code",
   "execution_count": 87,
   "metadata": {},
   "outputs": [
    {
     "name": "stdout",
     "output_type": "stream",
     "text": [
      "[]\n"
     ]
    }
   ],
   "source": [
    "def Yakujo(symbol):\n",
    "    result = coincheck.fetchMyTrades(symbol = symbol)\n",
    "    return result\n",
    "\n",
    "# 引数情報\n",
    "symbol = 'BTC/JPY'\n",
    "\n",
    "# 出力\n",
    "pprint(Yakujo(symbol))"
   ]
  },
  {
   "cell_type": "code",
   "execution_count": 76,
   "metadata": {},
   "outputs": [],
   "source": [
    "def buy(price_value):\n",
    "    order_symbol = 'BTC/JPY'   # 取引通貨\n",
    "    type_value   = 'limit'     # 注文タイプ（limit:指値注文, market:成行注文）\n",
    "    side_value   = 'buy'       # 買い(buy) or 売り(sell)\n",
    "    amount_value = 0.005       # 取引数量[BTC]\n",
    "\n",
    "\n",
    "    # 注文コード\n",
    "    order = coincheck.create_order(\n",
    "                    symbol = order_symbol,  # 取引通貨\n",
    "                    type = type_value,      # 注文タイプ\n",
    "                    side= side_value,       # 買 or 売\n",
    "                    amount= amount_value,   # 取引数量\n",
    "                    price=price_value,      # 指値価格\n",
    "                    )\n",
    "    return  order\n",
    "\n",
    "def sell(price_value):\n",
    "    order_symbol = 'BTC/JPY'   # 取引通貨\n",
    "    type_value   = 'limit'     # 注文タイプ（limit:指値注文, market:成行注文）\n",
    "    side_value   = 'sell'       # 買い(buy) or 売り(sell)\n",
    "    amount_value = 0.005       # 取引数量[BTC]\n",
    "\n",
    "\n",
    "    # 注文コード\n",
    "    order = coincheck.create_order(\n",
    "                    symbol = order_symbol,  # 取引通貨\n",
    "                    type = type_value,      # 注文タイプ\n",
    "                    side= side_value,       # 買 or 売\n",
    "                    amount= amount_value,   # 取引数量\n",
    "                    price=price_value,      # 指値価格\n",
    "                    )\n",
    "    return  order\n",
    "    \n",
    "\n",
    "\n"
   ]
  },
  {
   "cell_type": "code",
   "execution_count": 93,
   "metadata": {},
   "outputs": [],
   "source": [
    "symbol = 'BTC/JPY'\n",
    "board = ticker_info(symbol)\n",
    "\n",
    "buy_price = board['bid'] + 1\n",
    "sell_price = board['ask'] - 1\n",
    "\n",
    "order_buy = buy(buy_price)"
   ]
  },
  {
   "cell_type": "code",
   "execution_count": 107,
   "metadata": {},
   "outputs": [
    {
     "data": {
      "text/plain": [
       "[]"
      ]
     },
     "execution_count": 107,
     "metadata": {},
     "output_type": "execute_result"
    }
   ],
   "source": [
    "order_now = OpenOrder(symbol)\n",
    "order_now\n"
   ]
  },
  {
   "cell_type": "code",
   "execution_count": 109,
   "metadata": {},
   "outputs": [
    {
     "data": {
      "text/plain": [
       "0"
      ]
     },
     "execution_count": 109,
     "metadata": {},
     "output_type": "execute_result"
    }
   ],
   "source": [
    "len([])"
   ]
  },
  {
   "cell_type": "code",
   "execution_count": null,
   "metadata": {},
   "outputs": [],
   "source": [
    "\n",
    "order_now = OpenOrder(symbol)\n",
    "\n",
    "if len(order_now)==0:\n",
    "    is_buy = True\n",
    "    is_sell = True\n",
    "elif len(order_now)==1:\n",
    "    side = order_now[0]['side']\n",
    "    if side == 'buy':\n",
    "        is_sell = True\n",
    "    elif side == 'sell':\n",
    "        is_buy = True\n",
    "elif len(order_now)==2:\n",
    "    pass"
   ]
  },
  {
   "cell_type": "code",
   "execution_count": 111,
   "metadata": {},
   "outputs": [
    {
     "name": "stdout",
     "output_type": "stream",
     "text": [
      "coincheck {\"success\":false,\"error\":\"Failed to cancel the order.\"}\n"
     ]
    }
   ],
   "source": [
    "try:\n",
    "    order_id = order_buy['id']\n",
    "    order_cancel = OrderCancel(order_id,symbol)\n",
    "except Exception as e:\n",
    "    print(e)\n",
    "\n",
    "# キャンセルできないときは売れたと仮定\n",
    "# OpenOrder(symbol)"
   ]
  },
  {
   "cell_type": "code",
   "execution_count": 97,
   "metadata": {},
   "outputs": [
    {
     "data": {
      "text/plain": [
       "[]"
      ]
     },
     "execution_count": 97,
     "metadata": {},
     "output_type": "execute_result"
    }
   ],
   "source": [
    "coincheck.fetch_my_trades(symbol)"
   ]
  },
  {
   "cell_type": "code",
   "execution_count": 134,
   "metadata": {},
   "outputs": [
    {
     "data": {
      "text/plain": [
       "[]"
      ]
     },
     "execution_count": 134,
     "metadata": {},
     "output_type": "execute_result"
    }
   ],
   "source": [
    "order_now = OpenOrder(symbol)\n",
    "order_now"
   ]
  },
  {
   "cell_type": "code",
   "execution_count": 175,
   "metadata": {},
   "outputs": [],
   "source": [
    "board = ticker_info(symbol)\n",
    "buy_price = board['bid'] + 1\n",
    "sell_price = board['ask'] - 1\n",
    "order_sell = sell(sell_price)\n",
    "# order_buy = buy(buy_price)"
   ]
  },
  {
   "cell_type": "code",
   "execution_count": 176,
   "metadata": {},
   "outputs": [
    {
     "name": "stdout",
     "output_type": "stream",
     "text": [
      "0.005\n",
      "{'free': 35942.42, 'total': 35942.42, 'used': 0.0}\n"
     ]
    }
   ],
   "source": [
    "pprint(balance_info()['BTC']['free'])\n",
    "pprint(balance_info()['JPY'])"
   ]
  },
  {
   "cell_type": "code",
   "execution_count": 172,
   "metadata": {},
   "outputs": [
    {
     "data": {
      "text/plain": [
       "5226.0"
      ]
     },
     "execution_count": 172,
     "metadata": {},
     "output_type": "execute_result"
    }
   ],
   "source": [
    "profit"
   ]
  },
  {
   "cell_type": "code",
   "execution_count": 171,
   "metadata": {},
   "outputs": [
    {
     "data": {
      "text/plain": [
       "0"
      ]
     },
     "execution_count": 171,
     "metadata": {},
     "output_type": "execute_result"
    }
   ],
   "source": [
    "loop_count"
   ]
  },
  {
   "cell_type": "code",
   "execution_count": 170,
   "metadata": {},
   "outputs": [
    {
     "data": {
      "text/plain": [
       "12"
      ]
     },
     "execution_count": 170,
     "metadata": {},
     "output_type": "execute_result"
    }
   ],
   "source": [
    "trade_count"
   ]
  },
  {
   "cell_type": "code",
   "execution_count": 135,
   "metadata": {},
   "outputs": [],
   "source": [
    "def get_status(order_now):\n",
    "    is_buy = False\n",
    "    is_sell = False    \n",
    "    if len(order_now)==0:\n",
    "        is_buy = True\n",
    "        is_sell = True\n",
    "    elif len(order_now)==1:\n",
    "        side = order_now[0]['side']\n",
    "        if side == 'buy':\n",
    "            is_sell = True\n",
    "        elif side == 'sell':\n",
    "            is_buy = True\n",
    "    elif len(order_now)==2:\n",
    "        pass\n",
    "    \n",
    "    return is_buy, is_sell"
   ]
  },
  {
   "cell_type": "code",
   "execution_count": 168,
   "metadata": {},
   "outputs": [
    {
     "data": {
      "text/plain": [
       "[]"
      ]
     },
     "execution_count": 168,
     "metadata": {},
     "output_type": "execute_result"
    }
   ],
   "source": [
    "order_now = OpenOrder(symbol)\n",
    "order_now"
   ]
  },
  {
   "cell_type": "code",
   "execution_count": 166,
   "metadata": {},
   "outputs": [
    {
     "name": "stdout",
     "output_type": "stream",
     "text": [
      "1\n",
      "coincheck {\"success\":false,\"error\":\"Failed to cancel the order.\"}\n",
      "1\n",
      "coincheck {\"success\":false,\"error\":\"Failed to cancel the order.\"}\n"
     ]
    },
    {
     "ename": "KeyboardInterrupt",
     "evalue": "",
     "output_type": "error",
     "traceback": [
      "\u001b[1;31m---------------------------------------------------------------------------\u001b[0m",
      "\u001b[1;31mKeyboardInterrupt\u001b[0m                         Traceback (most recent call last)",
      "\u001b[1;32m~\\AppData\\Local\\Temp/ipykernel_5944/957058949.py\u001b[0m in \u001b[0;36m<module>\u001b[1;34m\u001b[0m\n\u001b[0;32m     52\u001b[0m             \u001b[0morder_id\u001b[0m \u001b[1;33m=\u001b[0m \u001b[0morder_sell\u001b[0m\u001b[1;33m[\u001b[0m\u001b[1;34m'id'\u001b[0m\u001b[1;33m]\u001b[0m\u001b[1;33m\u001b[0m\u001b[1;33m\u001b[0m\u001b[0m\n\u001b[0;32m     53\u001b[0m             \u001b[0morder_cancel\u001b[0m \u001b[1;33m=\u001b[0m \u001b[0mOrderCancel\u001b[0m\u001b[1;33m(\u001b[0m\u001b[0morder_id\u001b[0m\u001b[1;33m,\u001b[0m\u001b[0msymbol\u001b[0m\u001b[1;33m)\u001b[0m\u001b[1;33m\u001b[0m\u001b[1;33m\u001b[0m\u001b[0m\n\u001b[1;32m---> 54\u001b[1;33m             \u001b[0morder_sell\u001b[0m \u001b[1;33m=\u001b[0m \u001b[0msell\u001b[0m\u001b[1;33m(\u001b[0m\u001b[0msell_price\u001b[0m\u001b[1;33m)\u001b[0m\u001b[1;33m\u001b[0m\u001b[1;33m\u001b[0m\u001b[0m\n\u001b[0m\u001b[0;32m     55\u001b[0m             \u001b[0mtime\u001b[0m\u001b[1;33m.\u001b[0m\u001b[0msleep\u001b[0m\u001b[1;33m(\u001b[0m\u001b[1;36m1\u001b[0m\u001b[1;33m)\u001b[0m\u001b[1;33m\u001b[0m\u001b[1;33m\u001b[0m\u001b[0m\n\u001b[0;32m     56\u001b[0m         \u001b[1;32mexcept\u001b[0m \u001b[0mException\u001b[0m \u001b[1;32mas\u001b[0m \u001b[0me\u001b[0m\u001b[1;33m:\u001b[0m\u001b[1;33m\u001b[0m\u001b[1;33m\u001b[0m\u001b[0m\n",
      "\u001b[1;32m~\\AppData\\Local\\Temp/ipykernel_5944/1567497964.py\u001b[0m in \u001b[0;36msell\u001b[1;34m(price_value)\u001b[0m\n\u001b[0;32m     24\u001b[0m \u001b[1;33m\u001b[0m\u001b[0m\n\u001b[0;32m     25\u001b[0m     \u001b[1;31m# 注文コード\u001b[0m\u001b[1;33m\u001b[0m\u001b[1;33m\u001b[0m\u001b[0m\n\u001b[1;32m---> 26\u001b[1;33m     order = coincheck.create_order(\n\u001b[0m\u001b[0;32m     27\u001b[0m                     \u001b[0msymbol\u001b[0m \u001b[1;33m=\u001b[0m \u001b[0morder_symbol\u001b[0m\u001b[1;33m,\u001b[0m  \u001b[1;31m# 取引通貨\u001b[0m\u001b[1;33m\u001b[0m\u001b[1;33m\u001b[0m\u001b[0m\n\u001b[0;32m     28\u001b[0m                     \u001b[0mtype\u001b[0m \u001b[1;33m=\u001b[0m \u001b[0mtype_value\u001b[0m\u001b[1;33m,\u001b[0m      \u001b[1;31m# 注文タイプ\u001b[0m\u001b[1;33m\u001b[0m\u001b[1;33m\u001b[0m\u001b[0m\n",
      "\u001b[1;32m~\\AppData\\Local\\Packages\\PythonSoftwareFoundation.Python.3.9_qbz5n2kfra8p0\\LocalCache\\local-packages\\Python39\\site-packages\\ccxt\\coincheck.py\u001b[0m in \u001b[0;36mcreate_order\u001b[1;34m(self, symbol, type, side, amount, price, params)\u001b[0m\n\u001b[0;32m    572\u001b[0m             \u001b[0mrequest\u001b[0m\u001b[1;33m[\u001b[0m\u001b[1;34m'rate'\u001b[0m\u001b[1;33m]\u001b[0m \u001b[1;33m=\u001b[0m \u001b[0mprice\u001b[0m\u001b[1;33m\u001b[0m\u001b[1;33m\u001b[0m\u001b[0m\n\u001b[0;32m    573\u001b[0m             \u001b[0mrequest\u001b[0m\u001b[1;33m[\u001b[0m\u001b[1;34m'amount'\u001b[0m\u001b[1;33m]\u001b[0m \u001b[1;33m=\u001b[0m \u001b[0mamount\u001b[0m\u001b[1;33m\u001b[0m\u001b[1;33m\u001b[0m\u001b[0m\n\u001b[1;32m--> 574\u001b[1;33m         \u001b[0mresponse\u001b[0m \u001b[1;33m=\u001b[0m \u001b[0mself\u001b[0m\u001b[1;33m.\u001b[0m\u001b[0mprivatePostExchangeOrders\u001b[0m\u001b[1;33m(\u001b[0m\u001b[0mself\u001b[0m\u001b[1;33m.\u001b[0m\u001b[0mextend\u001b[0m\u001b[1;33m(\u001b[0m\u001b[0mrequest\u001b[0m\u001b[1;33m,\u001b[0m \u001b[0mparams\u001b[0m\u001b[1;33m)\u001b[0m\u001b[1;33m)\u001b[0m\u001b[1;33m\u001b[0m\u001b[1;33m\u001b[0m\u001b[0m\n\u001b[0m\u001b[0;32m    575\u001b[0m         \u001b[0mid\u001b[0m \u001b[1;33m=\u001b[0m \u001b[0mself\u001b[0m\u001b[1;33m.\u001b[0m\u001b[0msafe_string\u001b[0m\u001b[1;33m(\u001b[0m\u001b[0mresponse\u001b[0m\u001b[1;33m,\u001b[0m \u001b[1;34m'id'\u001b[0m\u001b[1;33m)\u001b[0m\u001b[1;33m\u001b[0m\u001b[1;33m\u001b[0m\u001b[0m\n\u001b[0;32m    576\u001b[0m         return {\n",
      "\u001b[1;32m~\\AppData\\Local\\Packages\\PythonSoftwareFoundation.Python.3.9_qbz5n2kfra8p0\\LocalCache\\local-packages\\Python39\\site-packages\\ccxt\\base\\exchange.py\u001b[0m in \u001b[0;36minner\u001b[1;34m(_self, params, context)\u001b[0m\n\u001b[0;32m    498\u001b[0m                 \u001b[1;32mif\u001b[0m \u001b[0mcontext\u001b[0m \u001b[1;32mis\u001b[0m \u001b[1;32mnot\u001b[0m \u001b[1;32mNone\u001b[0m\u001b[1;33m:\u001b[0m\u001b[1;33m\u001b[0m\u001b[1;33m\u001b[0m\u001b[0m\n\u001b[0;32m    499\u001b[0m                     \u001b[0minner_kwargs\u001b[0m\u001b[1;33m[\u001b[0m\u001b[1;34m'context'\u001b[0m\u001b[1;33m]\u001b[0m \u001b[1;33m=\u001b[0m \u001b[0mparams\u001b[0m\u001b[1;33m\u001b[0m\u001b[1;33m\u001b[0m\u001b[0m\n\u001b[1;32m--> 500\u001b[1;33m                 \u001b[1;32mreturn\u001b[0m \u001b[0mentry\u001b[0m\u001b[1;33m(\u001b[0m\u001b[0m_self\u001b[0m\u001b[1;33m,\u001b[0m \u001b[1;33m**\u001b[0m\u001b[0minner_kwargs\u001b[0m\u001b[1;33m)\u001b[0m\u001b[1;33m\u001b[0m\u001b[1;33m\u001b[0m\u001b[0m\n\u001b[0m\u001b[0;32m    501\u001b[0m             \u001b[1;32mreturn\u001b[0m \u001b[0minner\u001b[0m\u001b[1;33m\u001b[0m\u001b[1;33m\u001b[0m\u001b[0m\n\u001b[0;32m    502\u001b[0m         \u001b[0mto_bind\u001b[0m \u001b[1;33m=\u001b[0m \u001b[0mpartialer\u001b[0m\u001b[1;33m(\u001b[0m\u001b[1;33m)\u001b[0m\u001b[1;33m\u001b[0m\u001b[1;33m\u001b[0m\u001b[0m\n",
      "\u001b[1;32m~\\AppData\\Local\\Packages\\PythonSoftwareFoundation.Python.3.9_qbz5n2kfra8p0\\LocalCache\\local-packages\\Python39\\site-packages\\ccxt\\base\\exchange.py\u001b[0m in \u001b[0;36mrequest\u001b[1;34m(self, path, api, method, params, headers, body, config, context)\u001b[0m\n\u001b[0;32m   2608\u001b[0m \u001b[1;33m\u001b[0m\u001b[0m\n\u001b[0;32m   2609\u001b[0m     \u001b[1;32mdef\u001b[0m \u001b[0mrequest\u001b[0m\u001b[1;33m(\u001b[0m\u001b[0mself\u001b[0m\u001b[1;33m,\u001b[0m \u001b[0mpath\u001b[0m\u001b[1;33m,\u001b[0m \u001b[0mapi\u001b[0m\u001b[1;33m=\u001b[0m\u001b[1;34m'public'\u001b[0m\u001b[1;33m,\u001b[0m \u001b[0mmethod\u001b[0m\u001b[1;33m=\u001b[0m\u001b[1;34m'GET'\u001b[0m\u001b[1;33m,\u001b[0m \u001b[0mparams\u001b[0m\u001b[1;33m=\u001b[0m\u001b[1;33m{\u001b[0m\u001b[1;33m}\u001b[0m\u001b[1;33m,\u001b[0m \u001b[0mheaders\u001b[0m\u001b[1;33m=\u001b[0m\u001b[1;32mNone\u001b[0m\u001b[1;33m,\u001b[0m \u001b[0mbody\u001b[0m\u001b[1;33m=\u001b[0m\u001b[1;32mNone\u001b[0m\u001b[1;33m,\u001b[0m \u001b[0mconfig\u001b[0m\u001b[1;33m=\u001b[0m\u001b[1;33m{\u001b[0m\u001b[1;33m}\u001b[0m\u001b[1;33m,\u001b[0m \u001b[0mcontext\u001b[0m\u001b[1;33m=\u001b[0m\u001b[1;33m{\u001b[0m\u001b[1;33m}\u001b[0m\u001b[1;33m)\u001b[0m\u001b[1;33m:\u001b[0m\u001b[1;33m\u001b[0m\u001b[1;33m\u001b[0m\u001b[0m\n\u001b[1;32m-> 2610\u001b[1;33m         \u001b[1;32mreturn\u001b[0m \u001b[0mself\u001b[0m\u001b[1;33m.\u001b[0m\u001b[0mfetch2\u001b[0m\u001b[1;33m(\u001b[0m\u001b[0mpath\u001b[0m\u001b[1;33m,\u001b[0m \u001b[0mapi\u001b[0m\u001b[1;33m,\u001b[0m \u001b[0mmethod\u001b[0m\u001b[1;33m,\u001b[0m \u001b[0mparams\u001b[0m\u001b[1;33m,\u001b[0m \u001b[0mheaders\u001b[0m\u001b[1;33m,\u001b[0m \u001b[0mbody\u001b[0m\u001b[1;33m,\u001b[0m \u001b[0mconfig\u001b[0m\u001b[1;33m,\u001b[0m \u001b[0mcontext\u001b[0m\u001b[1;33m)\u001b[0m\u001b[1;33m\u001b[0m\u001b[1;33m\u001b[0m\u001b[0m\n\u001b[0m\u001b[0;32m   2611\u001b[0m \u001b[1;33m\u001b[0m\u001b[0m\n\u001b[0;32m   2612\u001b[0m     \u001b[1;32mdef\u001b[0m \u001b[0mload_accounts\u001b[0m\u001b[1;33m(\u001b[0m\u001b[0mself\u001b[0m\u001b[1;33m,\u001b[0m \u001b[0mreload\u001b[0m\u001b[1;33m=\u001b[0m\u001b[1;32mFalse\u001b[0m\u001b[1;33m,\u001b[0m \u001b[0mparams\u001b[0m\u001b[1;33m=\u001b[0m\u001b[1;33m{\u001b[0m\u001b[1;33m}\u001b[0m\u001b[1;33m)\u001b[0m\u001b[1;33m:\u001b[0m\u001b[1;33m\u001b[0m\u001b[1;33m\u001b[0m\u001b[0m\n",
      "\u001b[1;32m~\\AppData\\Local\\Packages\\PythonSoftwareFoundation.Python.3.9_qbz5n2kfra8p0\\LocalCache\\local-packages\\Python39\\site-packages\\ccxt\\base\\exchange.py\u001b[0m in \u001b[0;36mfetch2\u001b[1;34m(self, path, api, method, params, headers, body, config, context)\u001b[0m\n\u001b[0;32m   2602\u001b[0m         \u001b[1;32mif\u001b[0m \u001b[0mself\u001b[0m\u001b[1;33m.\u001b[0m\u001b[0menableRateLimit\u001b[0m\u001b[1;33m:\u001b[0m\u001b[1;33m\u001b[0m\u001b[1;33m\u001b[0m\u001b[0m\n\u001b[0;32m   2603\u001b[0m             \u001b[0mcost\u001b[0m \u001b[1;33m=\u001b[0m \u001b[0mself\u001b[0m\u001b[1;33m.\u001b[0m\u001b[0mcalculate_rate_limiter_cost\u001b[0m\u001b[1;33m(\u001b[0m\u001b[0mapi\u001b[0m\u001b[1;33m,\u001b[0m \u001b[0mmethod\u001b[0m\u001b[1;33m,\u001b[0m \u001b[0mpath\u001b[0m\u001b[1;33m,\u001b[0m \u001b[0mparams\u001b[0m\u001b[1;33m,\u001b[0m \u001b[0mconfig\u001b[0m\u001b[1;33m,\u001b[0m \u001b[0mcontext\u001b[0m\u001b[1;33m)\u001b[0m\u001b[1;33m\u001b[0m\u001b[1;33m\u001b[0m\u001b[0m\n\u001b[1;32m-> 2604\u001b[1;33m             \u001b[0mself\u001b[0m\u001b[1;33m.\u001b[0m\u001b[0mthrottle\u001b[0m\u001b[1;33m(\u001b[0m\u001b[0mcost\u001b[0m\u001b[1;33m)\u001b[0m\u001b[1;33m\u001b[0m\u001b[1;33m\u001b[0m\u001b[0m\n\u001b[0m\u001b[0;32m   2605\u001b[0m         \u001b[0mself\u001b[0m\u001b[1;33m.\u001b[0m\u001b[0mlastRestRequestTimestamp\u001b[0m \u001b[1;33m=\u001b[0m \u001b[0mself\u001b[0m\u001b[1;33m.\u001b[0m\u001b[0mmilliseconds\u001b[0m\u001b[1;33m(\u001b[0m\u001b[1;33m)\u001b[0m\u001b[1;33m\u001b[0m\u001b[1;33m\u001b[0m\u001b[0m\n\u001b[0;32m   2606\u001b[0m         \u001b[0mrequest\u001b[0m \u001b[1;33m=\u001b[0m \u001b[0mself\u001b[0m\u001b[1;33m.\u001b[0m\u001b[0msign\u001b[0m\u001b[1;33m(\u001b[0m\u001b[0mpath\u001b[0m\u001b[1;33m,\u001b[0m \u001b[0mapi\u001b[0m\u001b[1;33m,\u001b[0m \u001b[0mmethod\u001b[0m\u001b[1;33m,\u001b[0m \u001b[0mparams\u001b[0m\u001b[1;33m,\u001b[0m \u001b[0mheaders\u001b[0m\u001b[1;33m,\u001b[0m \u001b[0mbody\u001b[0m\u001b[1;33m)\u001b[0m\u001b[1;33m\u001b[0m\u001b[1;33m\u001b[0m\u001b[0m\n",
      "\u001b[1;32m~\\AppData\\Local\\Packages\\PythonSoftwareFoundation.Python.3.9_qbz5n2kfra8p0\\LocalCache\\local-packages\\Python39\\site-packages\\ccxt\\base\\exchange.py\u001b[0m in \u001b[0;36mthrottle\u001b[1;34m(self, cost)\u001b[0m\n\u001b[0;32m    533\u001b[0m         \u001b[1;32mif\u001b[0m \u001b[0melapsed\u001b[0m \u001b[1;33m<\u001b[0m \u001b[0msleep_time\u001b[0m\u001b[1;33m:\u001b[0m\u001b[1;33m\u001b[0m\u001b[1;33m\u001b[0m\u001b[0m\n\u001b[0;32m    534\u001b[0m             \u001b[0mdelay\u001b[0m \u001b[1;33m=\u001b[0m \u001b[0msleep_time\u001b[0m \u001b[1;33m-\u001b[0m \u001b[0melapsed\u001b[0m\u001b[1;33m\u001b[0m\u001b[1;33m\u001b[0m\u001b[0m\n\u001b[1;32m--> 535\u001b[1;33m             \u001b[0mtime\u001b[0m\u001b[1;33m.\u001b[0m\u001b[0msleep\u001b[0m\u001b[1;33m(\u001b[0m\u001b[0mdelay\u001b[0m \u001b[1;33m/\u001b[0m \u001b[1;36m1000.0\u001b[0m\u001b[1;33m)\u001b[0m\u001b[1;33m\u001b[0m\u001b[1;33m\u001b[0m\u001b[0m\n\u001b[0m\u001b[0;32m    536\u001b[0m \u001b[1;33m\u001b[0m\u001b[0m\n\u001b[0;32m    537\u001b[0m     \u001b[1;33m@\u001b[0m\u001b[0mstaticmethod\u001b[0m\u001b[1;33m\u001b[0m\u001b[1;33m\u001b[0m\u001b[0m\n",
      "\u001b[1;31mKeyboardInterrupt\u001b[0m: "
     ]
    }
   ],
   "source": [
    "symbol = 'BTC/JPY'\n",
    "\n",
    "is_buy = False\n",
    "is_sell = False\n",
    "loop_count = 0\n",
    "trade_count = 0\n",
    "profit = 0\n",
    "is_trade = False\n",
    "board = ticker_info(symbol)\n",
    "buy_price = board['bid'] + 1\n",
    "sell_price = board['ask'] - 1\n",
    "\n",
    "while True:\n",
    "\n",
    "\n",
    "    \n",
    "    if not is_buy and not is_sell and not is_trade:\n",
    "        order_buy = buy(buy_price)\n",
    "        order_sell = sell(sell_price)\n",
    "        is_trade = True\n",
    "        time.sleep(5)\n",
    "\n",
    "    order_now = OpenOrder(symbol)\n",
    "    is_buy, is_sell = get_status(order_now)\n",
    "\n",
    "\n",
    "\n",
    "    if is_buy and is_sell:\n",
    "        is_buy = False\n",
    "        is_sell = False\n",
    "        trade_count += 1\n",
    "        profit += sell_price - buy_price\n",
    "        is_trade = False\n",
    "\n",
    "    elif not is_buy and is_sell:\n",
    "        board = ticker_info(symbol)\n",
    "        buy_price = board['bid'] + 1\n",
    "        try:\n",
    "            order_id = order_buy['id']\n",
    "            order_cancel = OrderCancel(order_id,symbol)\n",
    "            order_buy = buy(buy_price)\n",
    "            time.sleep(1)\n",
    "            \n",
    "        except Exception as e:\n",
    "            order_now = OpenOrder(symbol)\n",
    "            is_buy, is_sell = get_status(order_now)\n",
    "            print(1)\n",
    "            print(e)\n",
    "\n",
    "    elif is_buy and not is_sell:\n",
    "        board = ticker_info(symbol)\n",
    "        sell_price = board['ask'] - 1\n",
    "        try:\n",
    "            order_id = order_sell['id']\n",
    "            order_cancel = OrderCancel(order_id,symbol)\n",
    "            order_sell = sell(sell_price)\n",
    "            time.sleep(1)\n",
    "        except Exception as e:\n",
    "            order_now = OpenOrder(symbol)\n",
    "            is_buy, is_sell = get_status(order_now)\n",
    "            print(2)\n",
    "            print(e)\n",
    "        \n",
    "\n",
    "    elif not is_buy and not is_sell:\n",
    "        time.sleep(5)\n",
    "        order_now = OpenOrder(symbol)\n",
    "        is_buy, is_sell = get_status(order_now)\n",
    "        # try:\n",
    "        #     order_id = order_sell['id']\n",
    "        #     order_cancel = OrderCancel(order_id,symbol)\n",
    "        #     is_sell = False\n",
    "            \n",
    "        #     order_id = order_buy['id']\n",
    "        #     order_cancel = OrderCancel(order_id,symbol)\n",
    "        #     is_buy = False\n",
    "            \n",
    "        # except Exception as e:\n",
    "        #     order_now = OpenOrder(symbol)\n",
    "        #     is_buy, is_sell = get_status(order_now)\n",
    "        #     loop_count += 1\n",
    "        #     print(e)\n",
    "\n",
    "\n",
    "\n"
   ]
  },
  {
   "cell_type": "code",
   "execution_count": 120,
   "metadata": {},
   "outputs": [
    {
     "data": {
      "text/plain": [
       "0"
      ]
     },
     "execution_count": 120,
     "metadata": {},
     "output_type": "execute_result"
    }
   ],
   "source": [
    "trade_count"
   ]
  },
  {
   "cell_type": "code",
   "execution_count": 102,
   "metadata": {},
   "outputs": [],
   "source": [
    "board = ticker_info(symbol)\n",
    "buy_price = board['bid'] + 1\n",
    "sell_price = board['ask'] - 1\n",
    "\n",
    "order_buy = buy(buy_price)\n",
    "order_sell = sell(sell_price)"
   ]
  },
  {
   "cell_type": "code",
   "execution_count": null,
   "metadata": {},
   "outputs": [],
   "source": []
  }
 ],
 "metadata": {
  "kernelspec": {
   "display_name": "Python 3.9.13 64-bit (windows store)",
   "language": "python",
   "name": "python3"
  },
  "language_info": {
   "codemirror_mode": {
    "name": "ipython",
    "version": 3
   },
   "file_extension": ".py",
   "mimetype": "text/x-python",
   "name": "python",
   "nbconvert_exporter": "python",
   "pygments_lexer": "ipython3",
   "version": "3.9.13"
  },
  "orig_nbformat": 4,
  "vscode": {
   "interpreter": {
    "hash": "d6ca01a9d29b8f49b2398e47ff0a4f0d82a4b97eff954d8fa800ff949016a671"
   }
  }
 },
 "nbformat": 4,
 "nbformat_minor": 2
}
