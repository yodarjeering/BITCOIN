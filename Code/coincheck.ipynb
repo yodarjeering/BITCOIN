{
 "cells": [
  {
   "cell_type": "markdown",
   "metadata": {},
   "source": [
    "# import"
   ]
  },
  {
   "cell_type": "code",
   "execution_count": 1,
   "metadata": {},
   "outputs": [],
   "source": [
    "\n",
    "import numpy as np\n",
    "import glob\n",
    "import pandas as pd\n",
    "import matplotlib.pyplot as plt\n",
    "from my_library.library import *\n",
    "from pprint import pprint\n",
    "import json\n",
    "import requests\n",
    "import sys\n",
    "path_ =  '/Users/Owner/Desktop/coincheck_api'\n",
    "sys.path.append(path_)\n",
    "from settings_coincheck import API_settings as capi\n",
    "import ccxt\n",
    "import datetime\n",
    "import logging\n",
    "from pprint import pprint\n",
    "import json\n",
    "import requests\n",
    "import time\n",
    "from logging import getLogger,Formatter, StreamHandler, FileHandler, DEBUG, INFO\n",
    "import math"
   ]
  },
  {
   "cell_type": "markdown",
   "metadata": {},
   "source": [
    "# API KEY"
   ]
  },
  {
   "cell_type": "code",
   "execution_count": 82,
   "metadata": {},
   "outputs": [],
   "source": [
    "API_KEY = capi.API_KEY\n",
    "API_SECRET = capi.API_SECRET\n",
    "symbol = \"BTC/JPY\"\n",
    "SIZE_THRU = 0.05\n",
    "\n",
    "coincheck = ccxt.coincheck({'apiKey':API_KEY,'secret':API_SECRET})"
   ]
  },
  {
   "cell_type": "markdown",
   "metadata": {},
   "source": [
    "# funcs"
   ]
  },
  {
   "cell_type": "code",
   "execution_count": 116,
   "metadata": {},
   "outputs": [],
   "source": [
    "\n",
    "#　取引通貨情報\n",
    "def market_info():\n",
    "    result = coincheck.load_markets()\n",
    "    return result\n",
    "\n",
    "\n",
    "def OrderBook():\n",
    "    result = coincheck.fetchOrderBook(symbol=SYMBOL)\n",
    "    return result\n",
    "\n",
    "def ticker_info(SYMBOL):\n",
    "    result = coincheck.fetch_ticker(symbol=SYMBOL)\n",
    "    return result\n",
    "\n",
    "def balance_info():\n",
    "    result = coincheck.fetchBalance()\n",
    "    return result\n",
    "\n",
    "def return_St():\n",
    "    board = ticker_info(SYMBOL)\n",
    "    ask = board['ask']\n",
    "    bid = board['bid']\n",
    "    St = (ask+bid)/2\n",
    "    return St\n",
    "\n",
    "\n",
    "\n",
    "def return_St_mean():\n",
    "    cnt = 0\n",
    "    END = 10\n",
    "    St_mean = return_St()\n",
    "    while cnt<=END:\n",
    "        St = return_St()\n",
    "        St_mean += St\n",
    "        St_mean /= 2\n",
    "        cnt += 1\n",
    "        time.sleep(1)\n",
    "    return St_mean\n",
    "\n",
    "\n",
    "def OrderCancel(order_id, symbol):\n",
    "    result = coincheck.cancel_order(\n",
    "                    symbol = symbol,  # 取引通貨\n",
    "                    id = order_id,    # 注文ID\n",
    "                    )\n",
    "    return result\n",
    "\n",
    "def OpenOrder(symbol):\n",
    "    result = coincheck.fetchOpenOrders(symbol = symbol)\n",
    "    return result\n",
    "    \n",
    "def Yakujo(symbol):\n",
    "    result = coincheck.fetchMyTrades(symbol = symbol)\n",
    "    return result\n",
    "\n",
    "def buy(price_value, btc_amount=0.005):\n",
    "    order_symbol = 'BTC/JPY'   # 取引通貨\n",
    "    type_value   = 'limit'     # 注文タイプ（limit:指値注文, market:成行注文）\n",
    "    side_value   = 'buy'       # 買い(buy) or 売り(sell)\n",
    "\n",
    "\n",
    "    # 注文コード\n",
    "    order = coincheck.create_order(\n",
    "                    symbol = order_symbol,  # 取引通貨\n",
    "                    type = type_value,      # 注文タイプ\n",
    "                    side= side_value,       # 買 or 売\n",
    "                    amount= btc_amount,   # 取引数量\n",
    "                    price=price_value,      # 指値価格\n",
    "                    )\n",
    "    return  order\n",
    "\n",
    "def sell(price_value,btc_amount=0.005):\n",
    "    order_symbol = 'BTC/JPY'   # 取引通貨\n",
    "    type_value   = 'limit'     # 注文タイプ（limit:指値注文, market:成行注文）\n",
    "    side_value   = 'sell'       # 買い(buy) or 売り(sell)\n",
    "\n",
    "\n",
    "    # 注文コード\n",
    "    order = coincheck.create_order(\n",
    "                    symbol = order_symbol,  # 取引通貨\n",
    "                    type = type_value,      # 注文タイプ\n",
    "                    side= side_value,       # 買 or 売\n",
    "                    amount= btc_amount,   # 取引数量\n",
    "                    price=price_value,      # 指値価格\n",
    "                    )\n",
    "    return  order\n",
    "    \n",
    "def get_status():\n",
    "    symbol = 'BTC/JPY'\n",
    "    order_now = OpenOrder(symbol)\n",
    "    is_buy = False\n",
    "    is_sell = False    \n",
    "    if len(order_now)==0:\n",
    "        is_buy = True\n",
    "        is_sell = True\n",
    "    elif len(order_now)==1:\n",
    "        side = order_now[0]['side']\n",
    "        if side == 'buy':\n",
    "            is_sell = True\n",
    "        elif side == 'sell':\n",
    "            is_buy = True\n",
    "    elif len(order_now)==2:\n",
    "        pass\n",
    "    \n",
    "    return is_buy, is_sell\n",
    "\n",
    "def show_info(sell_price,buy_price,trade_count,total_profit,spread,btc_amount=0.005):\n",
    "    sell = math.floor(sell_price*btc_amount)\n",
    "    buy = math.ceil(buy_price*btc_amount)\n",
    "    profit = sell - buy\n",
    "    trade_count += 1\n",
    "    b_info = balance_info()\n",
    "    btc_amount = b_info['info']['btc']\n",
    "    logger.info('Done trade')\n",
    "    logger.info('sell price  :{0}'.format(int(sell_price)))\n",
    "    logger.info('buy price   :{0}'.format(int(buy_price)))\n",
    "    logger.info('profit      :{0}'.format(profit))\n",
    "    logger.info('trade_count :{0}'.format(trade_count))\n",
    "    logger.info(b_info['free'])\n",
    "    logger.info(b_info['used'])\n",
    "    logger.info(b_info['total'])\n",
    "    logger.info('Total profit:{0}'.format(total_profit+profit))\n",
    "    logger.info('spread      :{0}'.format(spread))\n",
    "    pos = 'none'\n",
    "    return trade_count, pos, profit, btc_amount\n",
    "\n",
    "\n",
    "\n",
    "def calc_best_price(size_thru=0.05):\n",
    "    orderbook = OrderBook()\n",
    "    ask_list = orderbook['asks']\n",
    "    bid_list = orderbook['bids']\n",
    "\n",
    "    i = 0\n",
    "    b_amount = 0\n",
    "    while b_amount<=size_thru:\n",
    "        b_amount += bid_list[i][1]\n",
    "        buy_price = bid_list[i][0]\n",
    "        i+=1\n",
    "        \n",
    "\n",
    "    i=0\n",
    "    a_amount = 0\n",
    "    while a_amount<=size_thru:\n",
    "        a_amount += ask_list[i][1]\n",
    "        sell_price = ask_list[i][0]\n",
    "        i+=1\n",
    "        \n",
    "    ask = ask_list[0][0]\n",
    "    bid = bid_list[0][0]\n",
    "    \n",
    "    return ask,bid,buy_price,sell_price\n",
    "\n",
    "\n",
    "    "
   ]
  },
  {
   "cell_type": "code",
   "execution_count": 99,
   "metadata": {},
   "outputs": [],
   "source": [
    "math.floor(2803270*0.005) - math.ceil(2803065*0.005)\n",
    "sell_price  =2806782\n",
    "buy_price   =2806577\n",
    "btc_amount = 0.005\n"
   ]
  },
  {
   "cell_type": "code",
   "execution_count": 108,
   "metadata": {},
   "outputs": [
    {
     "data": {
      "text/plain": [
       "False"
      ]
     },
     "execution_count": 108,
     "metadata": {},
     "output_type": "execute_result"
    }
   ],
   "source": [
    "remain_btc>0.005"
   ]
  },
  {
   "cell_type": "code",
   "execution_count": 103,
   "metadata": {},
   "outputs": [
    {
     "data": {
      "text/plain": [
       "1"
      ]
     },
     "execution_count": 103,
     "metadata": {},
     "output_type": "execute_result"
    }
   ],
   "source": [
    "delta = 400\n",
    "buy = sell_price - delta\n",
    "\n",
    "math.floor(sell_price*btc_amount) - math.ceil(buy*btc_amount)"
   ]
  },
  {
   "cell_type": "code",
   "execution_count": 45,
   "metadata": {},
   "outputs": [],
   "source": [
    "logger = getLogger('LoggingTest')\n",
    "\n",
    "#　ログレベルの設定\n",
    "logger.setLevel(10)\n",
    "formatter = logging.Formatter('%(asctime)s:%(lineno)d:%(levelname)s:%(message)s')\n",
    "# fh.setFormatter(formatter)\n",
    "logger.info(b_info['free'])\n",
    "logger.info(b_info['used'])\n",
    "logger.info(b_info['total'])\n"
   ]
  },
  {
   "cell_type": "code",
   "execution_count": 40,
   "metadata": {},
   "outputs": [
    {
     "data": {
      "text/plain": [
       "{'info': {'success': True,\n",
       "  'jpy': '36091.0210223',\n",
       "  'btc': '0.0050001',\n",
       "  'eth': '0.0',\n",
       "  'etc': '0.0',\n",
       "  'lsk': '0.0',\n",
       "  'xrp': '0.0',\n",
       "  'xem': '0.0',\n",
       "  'ltc': '0.0',\n",
       "  'bch': '0.0',\n",
       "  'mona': '0.0',\n",
       "  'xlm': '0.0',\n",
       "  'qtum': '0.0',\n",
       "  'bat': '0.0',\n",
       "  'iost': '0.0',\n",
       "  'enj': '0.0',\n",
       "  'omg': '0.0',\n",
       "  'plt': '0.0',\n",
       "  'sand': '0.0',\n",
       "  'xym': '0.0',\n",
       "  'dot': '0.0',\n",
       "  'jpy_reserved': '0.0',\n",
       "  'btc_reserved': '0.0',\n",
       "  'eth_reserved': '0.0',\n",
       "  'etc_reserved': '0.0',\n",
       "  'lsk_reserved': '0.0',\n",
       "  'xrp_reserved': '0.0',\n",
       "  'xem_reserved': '0.0',\n",
       "  'ltc_reserved': '0.0',\n",
       "  'bch_reserved': '0.0',\n",
       "  'mona_reserved': '0.0',\n",
       "  'xlm_reserved': '0.0',\n",
       "  'qtum_reserved': '0.0',\n",
       "  'bat_reserved': '0.0',\n",
       "  'iost_reserved': '0.0',\n",
       "  'enj_reserved': '0.0',\n",
       "  'omg_reserved': '0.0',\n",
       "  'plt_reserved': '0.0',\n",
       "  'sand_reserved': '0.0',\n",
       "  'xym_reserved': '0.0',\n",
       "  'dot_reserved': '0.0',\n",
       "  'jpy_lend_in_use': '0.0',\n",
       "  'btc_lend_in_use': '0.0',\n",
       "  'eth_lend_in_use': '0.0',\n",
       "  'etc_lend_in_use': '0.0',\n",
       "  'lsk_lend_in_use': '0.0',\n",
       "  'xrp_lend_in_use': '0.0',\n",
       "  'xem_lend_in_use': '0.0',\n",
       "  'ltc_lend_in_use': '0.0',\n",
       "  'bch_lend_in_use': '0.0',\n",
       "  'mona_lend_in_use': '0.0',\n",
       "  'xlm_lend_in_use': '0.0',\n",
       "  'qtum_lend_in_use': '0.0',\n",
       "  'bat_lend_in_use': '0.0',\n",
       "  'iost_lend_in_use': '0.0',\n",
       "  'enj_lend_in_use': '0.0',\n",
       "  'omg_lend_in_use': '0.0',\n",
       "  'plt_lend_in_use': '0.0',\n",
       "  'sand_lend_in_use': '0.0',\n",
       "  'xym_lend_in_use': '0.0',\n",
       "  'dot_lend_in_use': '0.0',\n",
       "  'jpy_lent': '0.0',\n",
       "  'btc_lent': '0.0',\n",
       "  'eth_lent': '0.0',\n",
       "  'etc_lent': '0.0',\n",
       "  'lsk_lent': '0.0',\n",
       "  'xrp_lent': '0.0',\n",
       "  'xem_lent': '0.0',\n",
       "  'ltc_lent': '0.0',\n",
       "  'bch_lent': '0.0',\n",
       "  'mona_lent': '0.0',\n",
       "  'xlm_lent': '0.0',\n",
       "  'qtum_lent': '0.0',\n",
       "  'bat_lent': '0.0',\n",
       "  'iost_lent': '0.0',\n",
       "  'enj_lent': '0.0',\n",
       "  'omg_lent': '0.0',\n",
       "  'plt_lent': '0.0',\n",
       "  'sand_lent': '0.0',\n",
       "  'xym_lent': '0.0',\n",
       "  'dot_lent': '0.0',\n",
       "  'jpy_debt': '0.0',\n",
       "  'btc_debt': '0.0',\n",
       "  'eth_debt': '0.0',\n",
       "  'etc_debt': '0.0',\n",
       "  'lsk_debt': '0.0',\n",
       "  'xrp_debt': '0.0',\n",
       "  'xem_debt': '0.0',\n",
       "  'ltc_debt': '0.0',\n",
       "  'bch_debt': '0.0',\n",
       "  'mona_debt': '0.0',\n",
       "  'xlm_debt': '0.0',\n",
       "  'qtum_debt': '0.0',\n",
       "  'bat_debt': '0.0',\n",
       "  'iost_debt': '0.0',\n",
       "  'enj_debt': '0.0',\n",
       "  'omg_debt': '0.0',\n",
       "  'plt_debt': '0.0',\n",
       "  'sand_debt': '0.0',\n",
       "  'xym_debt': '0.0',\n",
       "  'dot_debt': '0.0'},\n",
       " 'BTC': {'free': 0.0050001, 'used': 0.0, 'total': 0.0050001},\n",
       " 'ETC': {'free': 0.0, 'used': 0.0, 'total': 0.0},\n",
       " 'JPY': {'free': 36091.0210223, 'used': 0.0, 'total': 36091.0210223},\n",
       " 'MONA': {'free': 0.0, 'used': 0.0, 'total': 0.0},\n",
       " 'free': {'BTC': 0.0050001, 'ETC': 0.0, 'JPY': 36091.0210223, 'MONA': 0.0},\n",
       " 'used': {'BTC': 0.0, 'ETC': 0.0, 'JPY': 0.0, 'MONA': 0.0},\n",
       " 'total': {'BTC': 0.0050001, 'ETC': 0.0, 'JPY': 36091.0210223, 'MONA': 0.0}}"
      ]
     },
     "execution_count": 40,
     "metadata": {},
     "output_type": "execute_result"
    }
   ],
   "source": [
    "b_info = balance_info()\n",
    "b_info"
   ]
  },
  {
   "cell_type": "code",
   "execution_count": 52,
   "metadata": {},
   "outputs": [],
   "source": [
    "\n",
    "orderbook = OrderBook()\n",
    "ask_list = orderbook['asks']\n",
    "bid_list = orderbook['bids']\n",
    "ask_array = np.array(ask_list)\n",
    "bid_array = np.array(bid_list)"
   ]
  },
  {
   "cell_type": "markdown",
   "metadata": {},
   "source": [
    "# ある時刻における ask 注文密度　\n",
    "横軸価格差　※差分は１ずつではない\\\n",
    "縦軸注文量"
   ]
  },
  {
   "cell_type": "code",
   "execution_count": 56,
   "metadata": {},
   "outputs": [],
   "source": []
  },
  {
   "cell_type": "code",
   "execution_count": 58,
   "metadata": {},
   "outputs": [
    {
     "data": {
      "text/plain": [
       "(2787856.0, 2787401.0)"
      ]
     },
     "execution_count": 58,
     "metadata": {},
     "output_type": "execute_result"
    }
   ],
   "source": [
    "ask = board['ask']\n",
    "bid = board['bid']\n",
    "ask,bid"
   ]
  },
  {
   "cell_type": "code",
   "execution_count": 79,
   "metadata": {},
   "outputs": [
    {
     "data": {
      "text/plain": [
       "2794188.0"
      ]
     },
     "execution_count": 79,
     "metadata": {},
     "output_type": "execute_result"
    }
   ],
   "source": [
    "ask_list[0][0]"
   ]
  },
  {
   "cell_type": "code",
   "execution_count": 81,
   "metadata": {},
   "outputs": [],
   "source": [
    "size_thru = 0.05\n",
    "\n",
    "\n",
    "\n"
   ]
  },
  {
   "cell_type": "code",
   "execution_count": 78,
   "metadata": {},
   "outputs": [
    {
     "data": {
      "text/plain": [
       "5.87"
      ]
     },
     "execution_count": 78,
     "metadata": {},
     "output_type": "execute_result"
    }
   ],
   "source": [
    "(sell_price - buy_price)*0.005"
   ]
  },
  {
   "cell_type": "code",
   "execution_count": 80,
   "metadata": {},
   "outputs": [
    {
     "data": {
      "text/plain": [
       "(2794188.0, 2793102.0)"
      ]
     },
     "execution_count": 80,
     "metadata": {},
     "output_type": "execute_result"
    }
   ],
   "source": [
    "ask_list[0][0],bid_list[0][0]"
   ]
  },
  {
   "cell_type": "code",
   "execution_count": 75,
   "metadata": {},
   "outputs": [
    {
     "data": {
      "text/plain": [
       "(2793102.0, 2794188.0)"
      ]
     },
     "execution_count": 75,
     "metadata": {},
     "output_type": "execute_result"
    }
   ],
   "source": [
    "bid,ask"
   ]
  },
  {
   "cell_type": "code",
   "execution_count": 70,
   "metadata": {},
   "outputs": [
    {
     "data": {
      "text/plain": [
       "0.1"
      ]
     },
     "execution_count": 70,
     "metadata": {},
     "output_type": "execute_result"
    }
   ],
   "source": [
    "bid_list[3][1]"
   ]
  },
  {
   "cell_type": "code",
   "execution_count": 63,
   "metadata": {},
   "outputs": [
    {
     "data": {
      "text/plain": [
       "2.275"
      ]
     },
     "execution_count": 63,
     "metadata": {},
     "output_type": "execute_result"
    }
   ],
   "source": [
    "(ask-bid)*0.005"
   ]
  },
  {
   "cell_type": "code",
   "execution_count": 61,
   "metadata": {},
   "outputs": [
    {
     "data": {
      "text/plain": [
       "[[2787877.0, 0.03637],\n",
       " [2787887.0, 0.03],\n",
       " [2787999.0, 0.008],\n",
       " [2788000.0, 0.09010603],\n",
       " [2788016.0, 0.02],\n",
       " [2788183.0, 0.01],\n",
       " [2788309.0, 0.274],\n",
       " [2788608.0, 0.006],\n",
       " [2788609.0, 0.01826426],\n",
       " [2788899.0, 0.02011919],\n",
       " [2788908.0, 0.01],\n",
       " [2788909.0, 0.02000995],\n",
       " [2788913.0, 0.01826426],\n",
       " [2788920.0, 0.01820588],\n",
       " [2788989.0, 0.1],\n",
       " [2789000.0, 0.07176],\n",
       " [2789114.0, 0.005],\n",
       " [2789219.0, 0.0502231],\n",
       " [2789369.0, 0.1],\n",
       " [2789756.0, 0.005],\n",
       " [2789999.0, 0.0984],\n",
       " [2790000.0, 0.33315229],\n",
       " [2790090.0, 0.18],\n",
       " [2790314.0, 0.099],\n",
       " [2790380.0, 0.19],\n",
       " [2790603.0, 0.0071687],\n",
       " [2790833.0, 1.085],\n",
       " [2790857.0, 0.005],\n",
       " [2790935.0, 0.005],\n",
       " [2791224.0, 0.02],\n",
       " [2791778.0, 0.1224],\n",
       " [2792000.0, 0.64],\n",
       " [2792084.0, 0.0435],\n",
       " [2792207.0, 0.005],\n",
       " [2792567.0, 1.98],\n",
       " [2792919.0, 10.759],\n",
       " [2793408.0, 0.03],\n",
       " [2794423.0, 0.2],\n",
       " [2794434.0, 0.2],\n",
       " [2794654.0, 0.2],\n",
       " [2795000.0, 0.24364224],\n",
       " [2795500.0, 0.02557681],\n",
       " [2795579.0, 0.07],\n",
       " [2796499.0, 0.49],\n",
       " [2797825.0, 0.3],\n",
       " [2798000.0, 0.1],\n",
       " [2798005.0, 0.1],\n",
       " [2798684.0, 6.553],\n",
       " [2798984.0, 0.06],\n",
       " [2799998.0, 0.025],\n",
       " [2799999.0, 0.005],\n",
       " [2800000.0, 1.27518548],\n",
       " [2800005.0, 0.489],\n",
       " [2800055.0, 0.0071445],\n",
       " [2800152.0, 0.007],\n",
       " [2800784.0, 3.943],\n",
       " [2801000.0, 0.72],\n",
       " [2801122.0, 0.005],\n",
       " [2802112.0, 0.2],\n",
       " [2805141.0, 0.035],\n",
       " [2805551.0, 0.5025737],\n",
       " [2806166.0, 0.2],\n",
       " [2808000.0, 0.03561253],\n",
       " [2809927.0, 0.0071194],\n",
       " [2809998.0, 0.025],\n",
       " [2809999.0, 0.005],\n",
       " [2810000.0, 3.426],\n",
       " [2810005.0, 0.2],\n",
       " [2810120.0, 0.0089],\n",
       " [2812000.0, 0.0550099],\n",
       " [2814000.0, 0.07142857],\n",
       " [2815000.0, 0.1077],\n",
       " [2815779.0, 0.035],\n",
       " [2816000.0, 0.02],\n",
       " [2817000.0, 0.03],\n",
       " [2817395.0, 2.619],\n",
       " [2817497.0, 0.0075],\n",
       " [2818000.0, 0.02],\n",
       " [2819000.0, 0.16],\n",
       " [2819785.0, 0.01024],\n",
       " [2819909.0, 0.0070942],\n",
       " [2819998.0, 0.025],\n",
       " [2819999.0, 0.01],\n",
       " [2820000.0, 1.22853286],\n",
       " [2821000.0, 0.04063452],\n",
       " [2822000.0, 0.02],\n",
       " [2823000.0, 0.05],\n",
       " [2823650.0, 0.0125],\n",
       " [2824000.0, 0.02],\n",
       " [2825000.0, 0.33],\n",
       " [2826000.0, 1.29],\n",
       " [2826700.0, 0.0050099],\n",
       " [2826800.0, 1.0],\n",
       " [2827000.0, 0.05],\n",
       " [2827695.0, 0.5],\n",
       " [2827783.0, 0.005],\n",
       " [2828000.0, 0.56536067],\n",
       " [2828555.0, 0.05],\n",
       " [2829000.0, 0.05],\n",
       " [2829314.0, 0.02],\n",
       " [2829436.0, 1.361],\n",
       " [2829998.0, 0.025],\n",
       " [2829999.0, 0.015],\n",
       " [2830000.0, 2.36100176],\n",
       " [2830193.0, 0.035],\n",
       " [2830294.0, 0.007],\n",
       " [2830722.0, 0.0070671],\n",
       " [2831010.0, 0.50865238],\n",
       " [2831500.0, 0.05],\n",
       " [2832167.0, 0.5],\n",
       " [2835000.0, 0.01],\n",
       " [2836773.0, 0.005],\n",
       " [2839000.0, 0.84],\n",
       " [2839998.0, 0.025],\n",
       " [2839999.0, 0.015],\n",
       " [2840000.0, 0.66373437],\n",
       " [2840297.0, 0.02],\n",
       " [2842497.0, 0.02],\n",
       " [2842736.0, 0.0075],\n",
       " [2843297.0, 0.02],\n",
       " [2843333.0, 0.07],\n",
       " [2844297.0, 0.02],\n",
       " [2844497.0, 0.02],\n",
       " [2845000.0, 0.055],\n",
       " [2845297.0, 0.02],\n",
       " [2846497.0, 0.03],\n",
       " [2847297.0, 0.02],\n",
       " [2847734.0, 0.005],\n",
       " [2847904.0, 0.22121532],\n",
       " [2848000.0, 0.1],\n",
       " [2848497.0, 0.02],\n",
       " [2849000.0, 0.01],\n",
       " [2849002.0, 0.1],\n",
       " [2849297.0, 0.02],\n",
       " [2849995.0, 0.005],\n",
       " [2849998.0, 0.025],\n",
       " [2849999.0, 0.3056],\n",
       " [2850000.0, 9.98914962],\n",
       " [2850497.0, 0.02],\n",
       " [2851297.0, 0.04],\n",
       " [2851615.0, 0.00776],\n",
       " [2852000.0, 0.02477584],\n",
       " [2853297.0, 0.03],\n",
       " [2853641.0, 0.1],\n",
       " [2853894.0, 0.1],\n",
       " [2854000.0, 0.01788268],\n",
       " [2855000.0, 0.182],\n",
       " [2855297.0, 0.04],\n",
       " [2855548.0, 0.005],\n",
       " [2856000.0, 0.025],\n",
       " [2856132.0, 0.02],\n",
       " [2856200.0, 0.05],\n",
       " [2856297.0, 0.03],\n",
       " [2856398.0, 0.5],\n",
       " [2856682.0, 0.1],\n",
       " [2857000.0, 0.05],\n",
       " [2857297.0, 0.03],\n",
       " [2857777.0, 0.1],\n",
       " [2858000.0, 0.05685794],\n",
       " [2858122.0, 0.1],\n",
       " [2858555.0, 0.05],\n",
       " [2858864.0, 0.1],\n",
       " [2859050.0, 0.08319156],\n",
       " [2859297.0, 0.03],\n",
       " [2859998.0, 0.025],\n",
       " [2859999.0, 0.005],\n",
       " [2860000.0, 0.925],\n",
       " [2860286.0, 0.1],\n",
       " [2860582.0, 0.005],\n",
       " [2861000.0, 0.02285],\n",
       " [2862564.0, 0.1],\n",
       " [2862682.0, 0.00773],\n",
       " [2865000.0, 0.1896],\n",
       " [2865698.0, 0.05],\n",
       " [2866390.0, 0.00772],\n",
       " [2866754.0, 0.1],\n",
       " [2867000.0, 0.00851063],\n",
       " [2868936.0, 0.0075],\n",
       " [2869874.0, 0.1],\n",
       " [2869998.0, 0.025],\n",
       " [2869999.0, 0.005],\n",
       " [2870000.0, 0.1911],\n",
       " [2870264.0, 0.1],\n",
       " [2871000.0, 0.005],\n",
       " [2872498.0, 0.689],\n",
       " [2873000.0, 0.0177],\n",
       " [2874000.0, 0.13],\n",
       " [2875000.0, 0.432683],\n",
       " [2875001.0, 0.005],\n",
       " [2876747.0, 0.018],\n",
       " [2878500.0, 0.20844189],\n",
       " [2878555.0, 0.05],\n",
       " [2879998.0, 0.125],\n",
       " [2879999.0, 0.01],\n",
       " [2880000.0, 0.235],\n",
       " [2881315.0, 0.10830715],\n",
       " [2882000.0, 0.01],\n",
       " [2882568.0, 0.01735],\n",
       " [2883000.0, 0.005001],\n",
       " [2884000.0, 0.05]]"
      ]
     },
     "execution_count": 61,
     "metadata": {},
     "output_type": "execute_result"
    }
   ],
   "source": [
    "orderbook['asks']"
   ]
  },
  {
   "cell_type": "code",
   "execution_count": 60,
   "metadata": {},
   "outputs": [
    {
     "data": {
      "text/plain": [
       "[[2787401.0, 0.06],\n",
       " [2787257.0, 0.08276],\n",
       " [2787252.0, 0.1435],\n",
       " [2787222.0, 0.0869963],\n",
       " [2787208.0, 0.0717],\n",
       " [2787104.0, 0.05685504],\n",
       " [2787101.0, 0.03],\n",
       " [2786918.0, 0.006],\n",
       " [2786917.0, 0.097379],\n",
       " [2786784.0, 0.09157991],\n",
       " [2786502.0, 0.1],\n",
       " [2786501.0, 0.005],\n",
       " [2786449.0, 0.2543],\n",
       " [2786257.0, 0.05],\n",
       " [2785985.0, 0.008],\n",
       " [2785984.0, 0.05],\n",
       " [2785824.0, 0.0328],\n",
       " [2785729.0, 0.1],\n",
       " [2785552.0, 0.005],\n",
       " [2785208.0, 0.07180792],\n",
       " [2785144.0, 0.15],\n",
       " [2785128.0, 0.1],\n",
       " [2785099.0, 0.15],\n",
       " [2785076.0, 0.1],\n",
       " [2784158.0, 0.01568534],\n",
       " [2784000.0, 0.10501],\n",
       " [2783719.0, 0.02000995],\n",
       " [2783718.0, 0.01820588],\n",
       " [2783704.0, 0.01826426],\n",
       " [2783686.0, 0.274],\n",
       " [2783622.0, 0.03865088],\n",
       " [2783200.0, 0.02],\n",
       " [2783001.0, 0.19],\n",
       " [2783000.0, 0.1],\n",
       " [2782485.0, 0.006],\n",
       " [2782396.0, 0.005],\n",
       " [2782374.0, 0.03],\n",
       " [2782200.0, 0.02],\n",
       " [2782040.0, 0.02011919],\n",
       " [2782000.0, 0.1],\n",
       " [2781943.0, 1.085],\n",
       " [2781000.0, 0.10190003],\n",
       " [2780753.0, 0.07192296],\n",
       " [2780345.0, 0.00755301],\n",
       " [2780003.0, 0.005],\n",
       " [2780002.0, 0.025],\n",
       " [2780001.0, 0.005],\n",
       " [2780000.0, 0.87480791],\n",
       " [2779367.0, 0.02],\n",
       " [2779157.0, 6.05489556],\n",
       " [2779000.0, 0.1],\n",
       " [2778668.0, 0.02],\n",
       " [2778000.0, 0.1],\n",
       " [2777112.0, 0.652],\n",
       " [2777000.0, 0.1],\n",
       " [2776798.0, 0.06],\n",
       " [2776781.0, 0.02746381],\n",
       " [2776721.0, 1.98],\n",
       " [2776555.0, 0.1],\n",
       " [2776501.0, 0.49],\n",
       " [2776430.0, 0.01],\n",
       " [2776000.0, 0.009191],\n",
       " [2775561.0, 0.005],\n",
       " [2775416.0, 10.567],\n",
       " [2775000.0, 1.1844],\n",
       " [2774430.0, 0.02],\n",
       " [2773696.0, 0.1731],\n",
       " [2773650.0, 0.0125],\n",
       " [2773000.0, 0.68504615],\n",
       " [2772467.0, 6.772],\n",
       " [2772000.0, 1.60788924],\n",
       " [2771000.0, 20.09853219],\n",
       " [2770596.0, 0.0042897],\n",
       " [2770447.0, 0.18047629],\n",
       " [2770392.0, 0.005],\n",
       " [2770297.0, 3.984],\n",
       " [2770002.0, 0.025],\n",
       " [2770001.0, 0.005],\n",
       " [2770000.0, 9.54303858],\n",
       " [2769000.0, 0.305],\n",
       " [2768001.0, 0.0158],\n",
       " [2768000.0, 0.25847326],\n",
       " [2767606.0, 0.005],\n",
       " [2767000.0, 0.5],\n",
       " [2766400.0, 0.5],\n",
       " [2766000.0, 0.01807664],\n",
       " [2765355.0, 0.03616172],\n",
       " [2765000.0, 1.5595159],\n",
       " [2764980.0, 0.0075],\n",
       " [2764331.0, 0.00904058],\n",
       " [2764000.0, 0.15],\n",
       " [2763874.0, 0.1097],\n",
       " [2763194.0, 0.05],\n",
       " [2763000.0, 0.05],\n",
       " [2762000.0, 0.10501],\n",
       " [2761010.0, 0.0077],\n",
       " [2761000.0, 0.05],\n",
       " [2760999.0, 0.01],\n",
       " [2760599.0, 0.1],\n",
       " [2760002.0, 0.025],\n",
       " [2760001.0, 0.01],\n",
       " [2760000.0, 3.69790317],\n",
       " [2759714.0, 2.748],\n",
       " [2759000.0, 1.31],\n",
       " [2758600.0, 0.08],\n",
       " [2758302.0, 0.1],\n",
       " [2758000.0, 0.01],\n",
       " [2757783.0, 0.01],\n",
       " [2756235.0, 0.5],\n",
       " [2755555.0, 0.1],\n",
       " [2755000.0, 0.58540834],\n",
       " [2754000.0, 0.3],\n",
       " [2753773.0, 0.05],\n",
       " [2752571.0, 0.005],\n",
       " [2752415.0, 0.021],\n",
       " [2751532.0, 0.2],\n",
       " [2751350.0, 0.20197844],\n",
       " [2751108.0, 0.1],\n",
       " [2751000.0, 0.0181752],\n",
       " [2750599.0, 0.1],\n",
       " [2750005.0, 0.005],\n",
       " [2750002.0, 0.03],\n",
       " [2750001.0, 0.01],\n",
       " [2750000.0, 2.21200906],\n",
       " [2748900.0, 0.043],\n",
       " [2745000.0, 10.55],\n",
       " [2743462.0, 0.25],\n",
       " [2743286.0, 0.1],\n",
       " [2741000.0, 0.151],\n",
       " [2740599.0, 0.1],\n",
       " [2740002.0, 0.025],\n",
       " [2740001.0, 0.005],\n",
       " [2740000.0, 0.74677332],\n",
       " [2739000.0, 0.01],\n",
       " [2738500.0, 0.02],\n",
       " [2736524.0, 0.005],\n",
       " [2735000.0, 0.11731261],\n",
       " [2733773.0, 0.03],\n",
       " [2733462.0, 0.25],\n",
       " [2733000.0, 0.005],\n",
       " [2732568.0, 0.02561692],\n",
       " [2732000.0, 0.01830161],\n",
       " [2731762.0, 1.351],\n",
       " [2731111.0, 0.02],\n",
       " [2730500.0, 0.1],\n",
       " [2730066.0, 0.025],\n",
       " [2730002.0, 0.025],\n",
       " [2730001.0, 0.01],\n",
       " [2730000.0, 0.55649705],\n",
       " [2729000.0, 0.01],\n",
       " [2728776.0, 0.00584328],\n",
       " [2728500.0, 0.01],\n",
       " [2728254.0, 0.005],\n",
       " [2728080.0, 0.1],\n",
       " [2728000.0, 1.37832844],\n",
       " [2727563.0, 0.5],\n",
       " [2726789.0, 0.0058655],\n",
       " [2726000.0, 0.0050001],\n",
       " [2725000.0, 1.13656117],\n",
       " [2723462.0, 0.25],\n",
       " [2722200.0, 0.01],\n",
       " [2722000.0, 0.012],\n",
       " [2721111.0, 0.02],\n",
       " [2720365.0, 0.02],\n",
       " [2720142.0, 0.007],\n",
       " [2720022.0, 0.01],\n",
       " [2720010.0, 0.005],\n",
       " [2720002.0, 0.025],\n",
       " [2720001.0, 0.005],\n",
       " [2720000.0, 1.00033743],\n",
       " [2718000.0, 0.17379175],\n",
       " [2717778.0, 0.01],\n",
       " [2716111.0, 0.03],\n",
       " [2715688.0, 0.01],\n",
       " [2715000.0, 0.11104972],\n",
       " [2714500.0, 4.2],\n",
       " [2714000.0, 0.10884598],\n",
       " [2713462.0, 0.25],\n",
       " [2713000.0, 0.08451381],\n",
       " [2712567.0, 0.00833],\n",
       " [2712000.0, 0.01606194],\n",
       " [2711138.0, 0.00527114],\n",
       " [2710002.0, 0.025],\n",
       " [2710001.0, 0.005],\n",
       " [2710000.0, 2.21981873],\n",
       " [2708120.0, 0.769],\n",
       " [2708000.0, 1.4],\n",
       " [2706111.0, 0.05],\n",
       " [2705796.0, 0.01847885],\n",
       " [2705236.0, 0.3],\n",
       " [2705000.0, 2.63002],\n",
       " [2704095.0, 0.005],\n",
       " [2703773.0, 0.03],\n",
       " [2703729.0, 0.01],\n",
       " [2703462.0, 0.25],\n",
       " [2703300.0, 0.02],\n",
       " [2702537.0, 0.3],\n",
       " [2701915.0, 0.005],\n",
       " [2701903.0, 0.01],\n",
       " [2701643.0, 0.005]]"
      ]
     },
     "execution_count": 60,
     "metadata": {},
     "output_type": "execute_result"
    }
   ],
   "source": [
    "orderbook['bids']"
   ]
  },
  {
   "cell_type": "code",
   "execution_count": 32,
   "metadata": {},
   "outputs": [],
   "source": [
    "from scipy import signal"
   ]
  },
  {
   "cell_type": "code",
   "execution_count": 33,
   "metadata": {},
   "outputs": [
    {
     "data": {
      "text/plain": [
       "[<matplotlib.lines.Line2D at 0x16684eb6400>]"
      ]
     },
     "execution_count": 33,
     "metadata": {},
     "output_type": "execute_result"
    },
    {
     "data": {
      "image/png": "[encoded data removed]",
      "text/plain": [
       "<Figure size 432x288 with 1 Axes>"
      ]
     },
     "metadata": {
      "needs_background": "light"
     },
     "output_type": "display_data"
    }
   ],
   "source": [
    "# ask_list[row][col] col = 0 => price, col = 1 => vol\n",
    "\n",
    "ask_array = np.array(ask_list)\n",
    "ask_env = np.abs(signal.hilbert(ask_array[:,1]))\n",
    "plt.plot(ask_array[:,1])\n",
    "# plt.plot(ask_env[:50])"
   ]
  },
  {
   "cell_type": "code",
   "execution_count": null,
   "metadata": {},
   "outputs": [],
   "source": [
    "bid_array = np.array(bid_list)\n",
    "plt.plot(bid_array[:,1])"
   ]
  },
  {
   "cell_type": "code",
   "execution_count": null,
   "metadata": {},
   "outputs": [],
   "source": [
    "while True:\n",
    "    board = ticker_info(SYMBOL)\n",
    "    ask = board['ask']\n",
    "    bid = board['bid']\n",
    "    spread = (ask - bid)/bid\n",
    "    mid = (ask+bid)//2\n",
    "    print(\"-------------------\")\n",
    "    # print(\"ask\",ask)\n",
    "    # print(\"bid\",bid)\n",
    "    # print(\"spread\",spread)\n",
    "    print(\"mid\",mid)\n",
    "    time.sleep(2)"
   ]
  },
  {
   "cell_type": "markdown",
   "metadata": {},
   "source": [
    "# 単発買い注文"
   ]
  },
  {
   "cell_type": "code",
   "execution_count": 112,
   "metadata": {},
   "outputs": [
    {
     "data": {
      "text/plain": [
       "2821928.0"
      ]
     },
     "execution_count": 112,
     "metadata": {},
     "output_type": "execute_result"
    }
   ],
   "source": [
    "symbol = 'BTC/JPY'\n",
    "board = ticker_info(symbol)\n",
    "buy_price = board['bid'] + 1\n",
    "buy_price"
   ]
  },
  {
   "cell_type": "code",
   "execution_count": 137,
   "metadata": {},
   "outputs": [],
   "source": [
    "symbol = 'BTC/JPY'\n",
    "board = ticker_info(symbol)\n",
    "\n",
    "buy_price = board['bid'] + 1\n",
    "sell_price = board['ask'] - 1\n",
    "\n",
    "order_buy = buy(buy_price)"
   ]
  },
  {
   "cell_type": "markdown",
   "metadata": {},
   "source": [
    "# 単発売り注文"
   ]
  },
  {
   "cell_type": "code",
   "execution_count": 126,
   "metadata": {},
   "outputs": [],
   "source": [
    "symbol = 'BTC/JPY'\n",
    "board = ticker_info(symbol)\n",
    "\n",
    "buy_price = board['bid'] + 1\n",
    "sell_price = board['ask'] - 1\n",
    "\n",
    "btc_amount = 0.005\n",
    "order_sell = sell(sell_price,btc_amount=0.015)"
   ]
  },
  {
   "cell_type": "code",
   "execution_count": 162,
   "metadata": {},
   "outputs": [
    {
     "data": {
      "text/plain": [
       "{'info': {'success': True,\n",
       "  'jpy': '9142.31471583',\n",
       "  'btc': '0.015',\n",
       "  'eth': '0.0',\n",
       "  'etc': '0.0',\n",
       "  'lsk': '0.0',\n",
       "  'xrp': '0.0',\n",
       "  'xem': '0.0',\n",
       "  'ltc': '0.0',\n",
       "  'bch': '0.0',\n",
       "  'mona': '0.0',\n",
       "  'xlm': '0.0',\n",
       "  'qtum': '0.0',\n",
       "  'bat': '0.0',\n",
       "  'iost': '0.0',\n",
       "  'enj': '0.0',\n",
       "  'omg': '0.0',\n",
       "  'plt': '0.0',\n",
       "  'sand': '0.0',\n",
       "  'xym': '0.0',\n",
       "  'dot': '0.0',\n",
       "  'jpy_reserved': '0.0',\n",
       "  'btc_reserved': '0.0',\n",
       "  'eth_reserved': '0.0',\n",
       "  'etc_reserved': '0.0',\n",
       "  'lsk_reserved': '0.0',\n",
       "  'xrp_reserved': '0.0',\n",
       "  'xem_reserved': '0.0',\n",
       "  'ltc_reserved': '0.0',\n",
       "  'bch_reserved': '0.0',\n",
       "  'mona_reserved': '0.0',\n",
       "  'xlm_reserved': '0.0',\n",
       "  'qtum_reserved': '0.0',\n",
       "  'bat_reserved': '0.0',\n",
       "  'iost_reserved': '0.0',\n",
       "  'enj_reserved': '0.0',\n",
       "  'omg_reserved': '0.0',\n",
       "  'plt_reserved': '0.0',\n",
       "  'sand_reserved': '0.0',\n",
       "  'xym_reserved': '0.0',\n",
       "  'dot_reserved': '0.0',\n",
       "  'jpy_lend_in_use': '0.0',\n",
       "  'btc_lend_in_use': '0.0',\n",
       "  'eth_lend_in_use': '0.0',\n",
       "  'etc_lend_in_use': '0.0',\n",
       "  'lsk_lend_in_use': '0.0',\n",
       "  'xrp_lend_in_use': '0.0',\n",
       "  'xem_lend_in_use': '0.0',\n",
       "  'ltc_lend_in_use': '0.0',\n",
       "  'bch_lend_in_use': '0.0',\n",
       "  'mona_lend_in_use': '0.0',\n",
       "  'xlm_lend_in_use': '0.0',\n",
       "  'qtum_lend_in_use': '0.0',\n",
       "  'bat_lend_in_use': '0.0',\n",
       "  'iost_lend_in_use': '0.0',\n",
       "  'enj_lend_in_use': '0.0',\n",
       "  'omg_lend_in_use': '0.0',\n",
       "  'plt_lend_in_use': '0.0',\n",
       "  'sand_lend_in_use': '0.0',\n",
       "  'xym_lend_in_use': '0.0',\n",
       "  'dot_lend_in_use': '0.0',\n",
       "  'jpy_lent': '0.0',\n",
       "  'btc_lent': '0.0',\n",
       "  'eth_lent': '0.0',\n",
       "  'etc_lent': '0.0',\n",
       "  'lsk_lent': '0.0',\n",
       "  'xrp_lent': '0.0',\n",
       "  'xem_lent': '0.0',\n",
       "  'ltc_lent': '0.0',\n",
       "  'bch_lent': '0.0',\n",
       "  'mona_lent': '0.0',\n",
       "  'xlm_lent': '0.0',\n",
       "  'qtum_lent': '0.0',\n",
       "  'bat_lent': '0.0',\n",
       "  'iost_lent': '0.0',\n",
       "  'enj_lent': '0.0',\n",
       "  'omg_lent': '0.0',\n",
       "  'plt_lent': '0.0',\n",
       "  'sand_lent': '0.0',\n",
       "  'xym_lent': '0.0',\n",
       "  'dot_lent': '0.0',\n",
       "  'jpy_debt': '0.0',\n",
       "  'btc_debt': '0.0',\n",
       "  'eth_debt': '0.0',\n",
       "  'etc_debt': '0.0',\n",
       "  'lsk_debt': '0.0',\n",
       "  'xrp_debt': '0.0',\n",
       "  'xem_debt': '0.0',\n",
       "  'ltc_debt': '0.0',\n",
       "  'bch_debt': '0.0',\n",
       "  'mona_debt': '0.0',\n",
       "  'xlm_debt': '0.0',\n",
       "  'qtum_debt': '0.0',\n",
       "  'bat_debt': '0.0',\n",
       "  'iost_debt': '0.0',\n",
       "  'enj_debt': '0.0',\n",
       "  'omg_debt': '0.0',\n",
       "  'plt_debt': '0.0',\n",
       "  'sand_debt': '0.0',\n",
       "  'xym_debt': '0.0',\n",
       "  'dot_debt': '0.0'},\n",
       " 'BTC': {'free': 0.015, 'used': 0.0, 'total': 0.015},\n",
       " 'ETC': {'free': 0.0, 'used': 0.0, 'total': 0.0},\n",
       " 'JPY': {'free': 9142.31471583, 'used': 0.0, 'total': 9142.31471583},\n",
       " 'MONA': {'free': 0.0, 'used': 0.0, 'total': 0.0},\n",
       " 'free': {'BTC': 0.015, 'ETC': 0.0, 'JPY': 9142.31471583, 'MONA': 0.0},\n",
       " 'used': {'BTC': 0.0, 'ETC': 0.0, 'JPY': 0.0, 'MONA': 0.0},\n",
       " 'total': {'BTC': 0.015, 'ETC': 0.0, 'JPY': 9142.31471583, 'MONA': 0.0}}"
      ]
     },
     "execution_count": 162,
     "metadata": {},
     "output_type": "execute_result"
    }
   ],
   "source": [
    "balance_info()"
   ]
  },
  {
   "cell_type": "code",
   "execution_count": 161,
   "metadata": {},
   "outputs": [
    {
     "data": {
      "text/plain": [
       "[]"
      ]
     },
     "execution_count": 161,
     "metadata": {},
     "output_type": "execute_result"
    }
   ],
   "source": [
    "symbol = 'BTC/JPY'\n",
    "order_now = OpenOrder(symbol)\n",
    "\n",
    "order_now\n"
   ]
  },
  {
   "cell_type": "markdown",
   "metadata": {},
   "source": [
    "# order cancel"
   ]
  },
  {
   "cell_type": "code",
   "execution_count": 160,
   "metadata": {},
   "outputs": [],
   "source": [
    "order_id = order_buy['id']\n",
    "order_cancel = OrderCancel(4964615603,symbol)"
   ]
  },
  {
   "cell_type": "markdown",
   "metadata": {},
   "source": [
    "# 売買システム　コード"
   ]
  },
  {
   "cell_type": "code",
   "execution_count": 165,
   "metadata": {},
   "outputs": [
    {
     "data": {
      "text/plain": [
       "0.0"
      ]
     },
     "execution_count": 165,
     "metadata": {},
     "output_type": "execute_result"
    }
   ],
   "source": [
    "remain_btc = float(balance_info()['info']['btc'])\n",
    "remain_btc"
   ]
  },
  {
   "cell_type": "code",
   "execution_count": 167,
   "metadata": {},
   "outputs": [],
   "source": [
    "\n",
    "\n",
    "\n",
    "trade_count = 0\n",
    "profit = 0\n",
    "total_profit = 0\n",
    "# スプレッドの閾値\n",
    "ALPHA = 0.0004\n",
    "# 指値更新の値幅, 2円ずつ更新\n",
    "dp = 2\n",
    "btc_amount = 0.005\n",
    "remain_btc = 0\n",
    "\n",
    "#---------------------------------\n",
    "# ログの出力名の設定\n",
    "logger = getLogger('LoggingTest')\n",
    "\n",
    "#　ログレベルの設定\n",
    "logger.setLevel(10)\n",
    "\n",
    "# ログのコンソール出力の設定\n",
    "# sh = StreamHandler()\n",
    "# logger.addHandler(sh)\n",
    "\n",
    "# ログのファイル出力先を設定\n",
    "file_name = datetime.datetime.now().strftime('%Y%m%d') + '_' + datetime.datetime.now().strftime('%H%M%S')+'.log'\n",
    "path_log = '/Users/Owner/Desktop/BitCoin/Log/'\n",
    "fh = FileHandler(path_log+file_name)\n",
    "logger.addHandler(fh)\n",
    "\n",
    "\n",
    "# ログの出力形式の設定\n",
    "formatter = logging.Formatter('%(asctime)s:%(lineno)d:%(levelname)s:%(message)s')\n",
    "fh.setFormatter(formatter)\n",
    "# sh.setFormatter(formatter)\n",
    "#------------------------------\n",
    "logger.info('Trade Start')\n",
    "pos = 'none'\n",
    "remain_btc = float(balance_info()['info']['btc'])\n",
    "\n",
    "while True:\n",
    "    try:\n",
    "        # loop_count = 0\n",
    "        \n",
    "        if pos=='none':\n",
    "            \n",
    "            # ------------------------------\n",
    "            # 指値変更\n",
    "            # St_mean = return_St_mean()\n",
    "            # St = return_St()\n",
    "            # St_mean += St\n",
    "            # St_mean /= 2\n",
    "            # gamma = 1e-12\n",
    "            # sigma = (St-St_mean)**2\n",
    "            # delta = gamma * sigma\n",
    "            #--------------------------------\n",
    "            \n",
    "            # if delta>=1000:\n",
    "            #     delta = 1000\n",
    "            \n",
    "            # if delta<100:\n",
    "            #     delta = 100\n",
    "            \n",
    "            delta = 400\n",
    "                \n",
    "            ask,bid,buy_price,sell_price = calc_best_price(size_thru=SIZE_THRU)\n",
    "            \n",
    "            spread = (ask-bid)/bid\n",
    "            mid = int((ask+bid)/2)\n",
    "            \n",
    "            # buy_price = mid - delta\n",
    "            # sell_price = mid + delta\n",
    "            \n",
    "            if spread >= ALPHA:\n",
    "                \n",
    "                # 注文数量が残った時,　前回の数量を上乗せして発注する\n",
    "                if remain_btc>btc_amount:\n",
    "                    sell_amount = remain_btc\n",
    "                    order_sell = sell(sell_price,btc_amount=sell_amount)\n",
    "                    order_buy = buy(buy_price,btc_amount=btc_amount)\n",
    "                    logger.info('Over amount')\n",
    "                \n",
    "                # 在庫が最小取引単位を下回ったら買い増ししなけらばならない\n",
    "                elif remain_btc<btc_amount:\n",
    "                    logger.info('Low amount')\n",
    "                    order_buy = buy(buy_price,btc_amount=btc_amount)\n",
    "                    time.sleep(5)\n",
    "                    order_now = OpenOrder(symbol)\n",
    "                    \n",
    "                    while len(order_now)!=0:\n",
    "                        ask,bid,buy_price,sell_price = calc_best_price(size_thru=SIZE_THRU)\n",
    "                        try:\n",
    "                            order_id = order_now[0]['id']\n",
    "                            order_cancel = OrderCancel(order_id,symbol)\n",
    "                            time.sleep(0.2)\n",
    "                        except Exception as e:\n",
    "                            logger.info(e)\n",
    "                            break\n",
    "                        \n",
    "                        order_buy = buy(buy_price,btc_amount=btc_amount)\n",
    "                        time.sleep(5)\n",
    "                        order_now = OpenOrder(symbol)\n",
    "                \n",
    "                # 正常な取引数量の時   \n",
    "                elif remain_btc==btc_amount:\n",
    "                    sell_amount = btc_amount\n",
    "                    order_sell = sell(sell_price,btc_amount=sell_amount)\n",
    "                    order_buy = buy(buy_price,btc_amount=btc_amount)\n",
    "                    logger.info('remain_btc {0}'.format(remain_btc))\n",
    "                \n",
    "                \n",
    "\n",
    "                pos = 'entry'\n",
    "                logger.info('entry')\n",
    "                time.sleep(5)\n",
    "            \n",
    "            \n",
    "        if pos=='entry':\n",
    "            # 買えたかどうかチェック\n",
    "            is_buy, is_sell = get_status()\n",
    "            message = str(is_buy)+'_'+str(is_sell)\n",
    "            logger.info('--------status--------')\n",
    "            logger.info(message)\n",
    "            \n",
    "            # 売買終了\n",
    "            if is_buy and is_sell:\n",
    "                trade_count, pos, profit, remain_btc = show_info(sell_price,buy_price,trade_count,total_profit,spread,btc_amount=btc_amount)\n",
    "                total_profit += profit\n",
    "                remain_btc = float(remain_btc)\n",
    "            \n",
    "            # 買い指値変更検討\n",
    "            if not is_buy and is_sell:\n",
    "                # 利ざや　1円で妥協\n",
    "                buy_price_tmp = sell_price - delta\n",
    "                symbol = 'BTC/JPY'\n",
    "                order_now = OpenOrder(symbol)\n",
    "                \n",
    "\n",
    "                try:\n",
    "                    order_id = order_now[0]['id']\n",
    "                    order_cancel = OrderCancel(order_id,symbol)\n",
    "                    time.sleep(1)\n",
    "                    order_buy = buy(buy_price_tmp,btc_amount=btc_amount)\n",
    "                    buy_price = buy_price_tmp\n",
    "                    logger.info('Update buy price {0}'.format(int(buy_price)))\n",
    "                    # S6かS7に遷移\n",
    "                except Exception as e:\n",
    "                    # ここで無理やり, is_buy の値変える？\n",
    "                    logger.info(e)\n",
    "                    logger.info('in Update buy')\n",
    "                    trade_count, pos, profit,remain_btc = show_info(sell_price,buy_price,trade_count,total_profit,spread,btc_amount=btc_amount)\n",
    "                    total_profit += profit\n",
    "                    remain_btc = float(remain_btc)\n",
    "                \n",
    "            # 売り指値変更検討\n",
    "            if is_buy and not is_sell:\n",
    "                # 利ざや1円で妥協\n",
    "                sell_price_tmp = buy_price + delta\n",
    "                symbol = 'BTC/JPY'\n",
    "                order_now = OpenOrder(symbol)\n",
    "                \n",
    "                \n",
    "                try:\n",
    "                    order_id = order_now[0]['id']\n",
    "                    order_cancel = OrderCancel(order_id,symbol)\n",
    "                    time.sleep(1)\n",
    "                    order_sell = sell(sell_price_tmp,btc_amount=sell_amount)\n",
    "                    sell_price = sell_price_tmp\n",
    "                    logger.info('Update sell price {0}'.format(int(sell_price)))\n",
    "                    \n",
    "                except Exception as e:\n",
    "                    logger.info(e)\n",
    "                    logger.info('in Update sell')\n",
    "                    trade_count, pos, profit,remain_btc = show_info(sell_price,buy_price,trade_count,total_profit,spread,btc_amount=btc_amount)\n",
    "                    total_profit += profit\n",
    "                    remain_btc = float(remain_btc)\n",
    "            # 買い, 売り指値変更検討\n",
    "            if not is_buy and not is_sell:\n",
    "                try:\n",
    "                    order_id = order_sell['id']\n",
    "                    order_cancel = OrderCancel(order_id,symbol)\n",
    "                    order_id = order_buy['id']\n",
    "                    order_cancel = OrderCancel(order_id,symbol)\n",
    "                    pos = 'none'\n",
    "                    logger.info('Successfully canceled both order.')\n",
    "                    b_info = balance_info()\n",
    "                    remain_btc = b_info['info']['btc']\n",
    "                except Exception as e:\n",
    "                    logger.info(e)\n",
    "                \n",
    "        \n",
    "        \n",
    "        time.sleep(2)\n",
    "\n",
    "    except KeyboardInterrupt:\n",
    "        logger.info('Finish trade')\n",
    "        break\n",
    "    \n",
    "    except Exception as e:\n",
    "        logger.info(e)\n",
    "        break\n",
    "\n",
    "\n",
    "\n"
   ]
  },
  {
   "cell_type": "code",
   "execution_count": 147,
   "metadata": {},
   "outputs": [
    {
     "data": {
      "text/plain": [
       "0.00017150999999999972"
      ]
     },
     "execution_count": 147,
     "metadata": {},
     "output_type": "execute_result"
    }
   ],
   "source": [
    "0.005-float(balance_info()['info']['btc'])"
   ]
  },
  {
   "cell_type": "code",
   "execution_count": 149,
   "metadata": {},
   "outputs": [
    {
     "data": {
      "text/plain": [
       "'0.00482849'"
      ]
     },
     "execution_count": 149,
     "metadata": {},
     "output_type": "execute_result"
    }
   ],
   "source": [
    "balance_info()['info']['btc']"
   ]
  },
  {
   "cell_type": "markdown",
   "metadata": {},
   "source": []
  },
  {
   "cell_type": "code",
   "execution_count": null,
   "metadata": {},
   "outputs": [],
   "source": [
    "symbol = 'BTC/JPY'\n",
    "order_now = OpenOrder(symbol)\n",
    "order_now"
   ]
  },
  {
   "cell_type": "code",
   "execution_count": null,
   "metadata": {},
   "outputs": [],
   "source": [
    "order_id = order_now[0]['id']\n",
    "\n",
    "order_cancel = OrderCancel(order_id,symbol)\n"
   ]
  },
  {
   "cell_type": "code",
   "execution_count": null,
   "metadata": {},
   "outputs": [],
   "source": []
  }
 ],
 "metadata": {
  "kernelspec": {
   "display_name": "Python 3.9.13 64-bit (windows store)",
   "language": "python",
   "name": "python3"
  },
  "language_info": {
   "codemirror_mode": {
    "name": "ipython",
    "version": 3
   },
   "file_extension": ".py",
   "mimetype": "text/x-python",
   "name": "python",
   "nbconvert_exporter": "python",
   "pygments_lexer": "ipython3",
   "version": "3.9.13"
  },
  "orig_nbformat": 4,
  "vscode": {
   "interpreter": {
    "hash": "d6ca01a9d29b8f49b2398e47ff0a4f0d82a4b97eff954d8fa800ff949016a671"
   }
  }
 },
 "nbformat": 4,
 "nbformat_minor": 2
}
