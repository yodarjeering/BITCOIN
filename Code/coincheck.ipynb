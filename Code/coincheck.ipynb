{
 "cells": [
  {
   "cell_type": "markdown",
   "metadata": {},
   "source": [
    "# import"
   ]
  },
  {
   "cell_type": "code",
   "execution_count": 1,
   "metadata": {},
   "outputs": [],
   "source": [
    "\n",
    "import numpy as np\n",
    "import glob\n",
    "import pandas as pd\n",
    "import matplotlib.pyplot as plt\n",
    "from my_library.library import *\n",
    "from pprint import pprint\n",
    "import json\n",
    "import requests\n",
    "import sys\n",
    "path_ =  '/Users/Owner/Desktop/coincheck_api'\n",
    "sys.path.append(path_)\n",
    "from settings_coincheck import API_settings as capi\n",
    "import ccxt\n",
    "import datetime\n",
    "import logging\n",
    "from pprint import pprint\n",
    "import json\n",
    "import requests\n",
    "import time\n",
    "from logging import getLogger,Formatter, StreamHandler, FileHandler, DEBUG, INFO\n",
    "import math\n",
    "%load_ext autoreload"
   ]
  },
  {
   "cell_type": "markdown",
   "metadata": {},
   "source": [
    "# API KEY"
   ]
  },
  {
   "cell_type": "code",
   "execution_count": 2,
   "metadata": {},
   "outputs": [],
   "source": [
    "\n",
    "API_KEY = capi.API_KEY\n",
    "API_SECRET = capi.API_SECRET\n",
    "coincheck = ccxt.coincheck({'apiKey':API_KEY,'secret':API_SECRET})\n"
   ]
  },
  {
   "cell_type": "markdown",
   "metadata": {},
   "source": [
    "# 定数"
   ]
  },
  {
   "cell_type": "code",
   "execution_count": 3,
   "metadata": {},
   "outputs": [],
   "source": [
    "\n",
    "\n",
    "\n",
    "# 交換する通貨のペア\n",
    "SYMBOL = \"BTC/JPY\"\n",
    "\n",
    "# 最適指値の計算に用いる, 注文数量の閾値\n",
    "SIZE_THRU = 0.05\n",
    "\n",
    "# 取引するBTCの数量\n",
    "# 今回はcoincheckの最小取引数量とした\n",
    "BTC_AMOUNT = 0.005\n",
    "\n",
    "# スプレッドの閾値\n",
    "# SPREAD = 0.00044\n",
    "# 土日はspread小さい\n",
    "# 未実装\n",
    "# spread = return_spread()\n",
    "SPREAD = 0.00050\n",
    "\n",
    "# 変化率の閾値\n",
    "# 変化率の大きい相場では取引しない\n",
    "PCT_RATE = 0.0006\n",
    "\n",
    "# 乖離率の閾値\n",
    "# 乖離率1％を超えると損切\n",
    "DEVIATION_RATE = 0.01\n",
    "\n",
    "# 指値更新の値幅, 2円ずつ更新\n",
    "DP = 4\n",
    "\n",
    "# 最適指値で約定しなかった際, 1円の利益で妥協するための差分\n",
    "DELTA = 400\n",
    "\n",
    "# ローソク足の時間間隔\n",
    "MIN_WIDTH = '5m'\n",
    "\n",
    "# 何分約定しなかったら損切スタートさせるか決める定数\n",
    "LOOP_COUNT = 400\n",
    "\n",
    "# 強制損切注文を出すまでのカウント\n",
    "FORCE_LOOP_COUNT = LOOP_COUNT * 4\n",
    "\n",
    "# LINE notify のapi利用に必要なトークン\n",
    "TOKEN = capi.TOKEN\n",
    "\n",
    "# 買いやすさ, 売りやすさを決めるバイアス\n",
    "# 上がり基調 -> TRADE_BIAS>0\n",
    "# 下がり基調 -> TRADE_BIAS<0\n",
    "# TRADE_BIAS > 0 で買いやすい => buy_price が低く, sell_price が高くなる\n",
    "# TRADE_BIAS < 0 で売りやすい => buy_price が高く, sell_price が低くなる\n",
    "TRADE_BIAS = 0.00\n",
    "BUY_BIAS = (1-TRADE_BIAS)\n",
    "SELL_BIAS = (1+TRADE_BIAS)\n",
    "\n",
    "# ボラティリティが大きい相場で, どれだけ様子見するか\n",
    "# 単位は[s]\n",
    "SLEEP_TIME = 240\n",
    "\n",
    "# 許容できる損失\n",
    "# 単位 [円]\n",
    "TOLERABLE_LOSS = 10"
   ]
  },
  {
   "cell_type": "markdown",
   "metadata": {},
   "source": [
    "# funcs"
   ]
  },
  {
   "cell_type": "code",
   "execution_count": 187,
   "metadata": {},
   "outputs": [],
   "source": [
    "\n",
    "#　取引通貨情報\n",
    "def market_info():\n",
    "    result = coincheck.load_markets()\n",
    "    return result\n",
    "\n",
    "# 板情報を取得する関数\n",
    "def OrderBook():\n",
    "    result = coincheck.fetchOrderBook(symbol=SYMBOL)\n",
    "    return result\n",
    "\n",
    "# ローソク足を取得する関数\n",
    "def get_ohlcv(timeframe='1m',since=None,limit=None):\n",
    "    result = coincheck.fetch_ohlcv(\n",
    "        symbol=SYMBOL,\n",
    "        timeframe=timeframe,\n",
    "        since=since,\n",
    "        limit=limit\n",
    "        )\n",
    "    return result\n",
    "\n",
    "# 売り注文と買い注文を取得する関数\n",
    "def ticker_info():\n",
    "    result = coincheck.fetch_ticker(symbol=SYMBOL)\n",
    "    return result\n",
    "\n",
    "# 口座情報を取得する関数\n",
    "def balance_info():\n",
    "    result = coincheck.fetchBalance()\n",
    "    return result\n",
    "\n",
    "# 今出している注文をキャンセルする関数\n",
    "# order_id は OpenOrder関数から取得可能\n",
    "def OrderCancel(order_id):\n",
    "    result = coincheck.cancel_order(\n",
    "            symbol = SYMBOL,  # 取引通貨\n",
    "            id = order_id,    # 注文ID\n",
    "            )\n",
    "    return result\n",
    "\n",
    "# 今出している注文を取得する関数\n",
    "def OpenOrder():\n",
    "    result = coincheck.fetchOpenOrders(symbol = SYMBOL)\n",
    "    return result\n",
    "\n",
    "# 買い注文を出す関数\n",
    "def buy(price_value, btc_amount=0.005):\n",
    "    order_symbol = 'BTC/JPY'   # 取引通貨\n",
    "    type_value   = 'limit'     # 注文タイプ（limit:指値注文, market:成行注文）\n",
    "    side_value   = 'buy'       # 買い(buy) or 売り(sell)\n",
    "\n",
    "    # 注文コード\n",
    "    order = coincheck.create_order(\n",
    "                    symbol = order_symbol,  # 取引通貨\n",
    "                    type = type_value,      # 注文タイプ\n",
    "                    side= side_value,       # 買 or 売\n",
    "                    amount= btc_amount,   # 取引数量\n",
    "                    price=price_value,      # 指値価格\n",
    "                    )\n",
    "    return  order\n",
    "\n",
    "# 買い注文を出す関数\n",
    "def buy_market(btc_amount=0.005):\n",
    "    order_symbol = 'BTC/JPY'   # 取引通貨\n",
    "    type_value   = 'market'     # 注文タイプ（limit:指値注文, market:成行注文）\n",
    "    side_value   = 'buy'       # 買い(buy) or 売り(sell)\n",
    "\n",
    "    # 注文コード\n",
    "    order = coincheck.create_order(\n",
    "                    symbol = order_symbol,  # 取引通貨\n",
    "                    type = type_value,      # 注文タイプ\n",
    "                    side= side_value,       # 買 or 売\n",
    "                    amount= btc_amount,   # 取引数量\n",
    "                    # price=price_value,      #  maket 注文ならいらなくね? 指値価格\n",
    "                    )\n",
    "    return  order\n",
    "\n",
    "# 売り注文を出す関数\n",
    "def sell(price_value,btc_amount=0.005):\n",
    "    order_symbol = 'BTC/JPY'   # 取引通貨\n",
    "    type_value   = 'limit'     # 注文タイプ（limit:指値注文, market:成行注文）\n",
    "    side_value   = 'sell'       # 買い(buy) or 売り(sell)\n",
    "\n",
    "    # 注文コード\n",
    "    order = coincheck.create_order(\n",
    "                    symbol = order_symbol,  # 取引通貨\n",
    "                    type = type_value,      # 注文タイプ\n",
    "                    side= side_value,       # 買 or 売\n",
    "                    amount= btc_amount,   # 取引数量\n",
    "                    price=price_value,      # 指値価格\n",
    "                    )\n",
    "    return  order\n",
    "    \n",
    "# 売り注文を出す関数\n",
    "def sell_market(btc_amount=0.005):\n",
    "    order_symbol = 'BTC/JPY'   # 取引通貨\n",
    "    type_value   = 'market'     # 注文タイプ（limit:指値注文, market:成行注文）\n",
    "    side_value   = 'sell'       # 買い(buy) or 売り(sell)\n",
    "\n",
    "    # 注文コード\n",
    "    order = coincheck.create_order(\n",
    "                    symbol = order_symbol,  # 取引通貨\n",
    "                    type = type_value,      # 注文タイプ\n",
    "                    side= side_value,       # 買 or 売\n",
    "                    amount= btc_amount,   # 取引数量\n",
    "                    # price=price_value,      # 指値価格\n",
    "                    )\n",
    "    return  order\n",
    "\n",
    "# 買い注文, 売り注文が約定したかどうか把握する関数\n",
    "# is_buy : True -> 買い注文約定\n",
    "# is_sell : True -> 売り注文約定\n",
    "def get_status(sell_amount):\n",
    "    symbol = 'BTC/JPY'\n",
    "    order_now = OpenOrder()\n",
    "    b_info = balance_info()\n",
    "    free = float(b_info['free']['BTC'])\n",
    "    used = float(b_info['used']['BTC'])\n",
    "    total = float(b_info['total']['BTC'])\n",
    "    is_buy = False\n",
    "    is_sell = False   \n",
    "\n",
    "    # freeがBTC_AMOUT以下になる　つまり, 一部しか約定しない時があるならば, usedも0にならない時があるのでは?\n",
    "    # freeが取引する数量の2倍以上はerrorの元なので, 通さない\n",
    "    # Rate limit error : 売り注文の時しかでない？\n",
    "    if len(order_now)==0 and used==0 and 0<free<BTC_AMOUNT*2:\n",
    "        is_buy = True\n",
    "        is_sell = True\n",
    "        logger.info('here 1')\n",
    "        \n",
    "    # Rate limit error の時\n",
    "    elif len(order_now)==0 and used==0 and free%BTC_AMOUNT==0 and free>=BTC_AMOUNT*2:\n",
    "        is_buy=True\n",
    "        is_sell = False\n",
    "        logger.info('here 2')\n",
    "        time.sleep(5)\n",
    "        \n",
    "    elif len(order_now)==0 and used==0 and free >= BTC_AMOUNT*2:\n",
    "        is_buy=True\n",
    "        is_sell = False\n",
    "        logger.info('here 3')\n",
    "        time.sleep(5)\n",
    "    \n",
    "    elif len(order_now)==0 and used>0:\n",
    "        is_buy=True\n",
    "        is_sell = False\n",
    "        logger.info('here 4')\n",
    "        time.sleep(5) \n",
    "        \n",
    "    elif len(order_now)==1 :\n",
    "        side = order_now[0]['side']\n",
    "        if side == 'buy':\n",
    "            is_sell = True\n",
    "        elif side == 'sell':\n",
    "            is_buy = True\n",
    "        logger.info('here 5')\n",
    "            \n",
    "    elif len(order_now)==2 and used==sell_amount and free==0:\n",
    "        is_buy = False\n",
    "        is_sell = False \n",
    "    \n",
    "    elif len(order_now)==2:\n",
    "        side0 = order_now[0]['side']\n",
    "        side1 = order_now[1]['side']\n",
    "        \n",
    "        if side0==side1=='buy' or side0==side1=='sell':\n",
    "            # 古いほうの買い注文キャンセルしたい\n",
    "            # 0 が古いほう\n",
    "            if side0=='buy':logger.info('Two buy order')\n",
    "            if side0=='sell':logger.info('Two sell order')\n",
    "            \n",
    "            old_order = order_now[0]['id']\n",
    "            try:\n",
    "                order_cancel = OrderCancel(old_order)\n",
    "            except Exception as e:\n",
    "                logger.info(e)\n",
    "                logger.info('Cant cancel in get_status')\n",
    "        \n",
    "        else:\n",
    "            logger.info('Buy and Sell order')\n",
    "            logger.info('free {0}'.format(free))\n",
    "            logger.info('used {0}'.format(used))\n",
    "            \n",
    "    elif len(order_now)==0 and used==0 and free==0:\n",
    "        # free 持っている btc_amount\n",
    "        # used 注文に出している btc_amount\n",
    "        is_buy = False\n",
    "        is_sell = True\n",
    "        logger.info('here 6')\n",
    "    \n",
    "    else:\n",
    "        logger.info('default')\n",
    "        logger.info('free {0}'.format(free))\n",
    "        logger.info('used {0}'.format(used))\n",
    "        logger.info('order length :{0}'.format(len(order_now)))\n",
    "        time.sleep(1)\n",
    "        \n",
    "    return is_buy, is_sell\n",
    "\n",
    "# 板情報から最適な指値を計算する関数\n",
    "def calc_best_price(size_thru=SIZE_THRU,buy_bias=BUY_BIAS,sell_bias=SELL_BIAS):\n",
    "    orderbook = OrderBook()\n",
    "    ask_list = orderbook['asks']\n",
    "    bid_list = orderbook['bids']\n",
    "\n",
    "    i = 0\n",
    "    b_amount = 0\n",
    "    while b_amount<=size_thru*BUY_BIAS:\n",
    "        b_amount += bid_list[i][1]\n",
    "        buy_price = bid_list[i][0]\n",
    "        i+=1\n",
    "        \n",
    "    i=0\n",
    "    a_amount = 0\n",
    "    while a_amount<=size_thru*SELL_BIAS:\n",
    "        a_amount += ask_list[i][1]\n",
    "        sell_price = ask_list[i][0]\n",
    "        i+=1\n",
    "        \n",
    "    ask = ask_list[0][0]\n",
    "    bid = bid_list[0][0]\n",
    "    \n",
    "    return ask,bid,buy_price,sell_price\n",
    "\n",
    "# ローソク足を取得する関数\n",
    "def return_candles(min_='15m'):\n",
    "    candles = coincheck.fetch_ohlcv(\n",
    "        symbol=SYMBOL,     # 暗号資産[通貨]\n",
    "        timeframe = min_,    # 時間足('1m', '5m', '1h', '1d')\n",
    "        since=None,           # 取得開始時刻(Unix Timeミリ秒)\n",
    "        limit=None,           # 取得件数(デフォルト:100、最大:500)\n",
    "        params={}             # 各種パラメータ\n",
    "        )\n",
    "    return candles\n",
    "\n",
    "# ローソク足からボラティリティを計算する関数\n",
    "def calc_pct_rate(candles):\n",
    "    open_ = candles[0][1]\n",
    "    high_ = candles[0][2]\n",
    "    low_ = candles[0][3]\n",
    "    close_ = candles[0][4]\n",
    "    volume_ = candles[0][5]\n",
    "    \n",
    "    pct_rate = (open_-close_)/close_\n",
    "    return pct_rate, volume_\n",
    "\n",
    "# LINE に通知する関数\n",
    "def send_line_notify(message):\n",
    "    \"\"\"\n",
    "    LINEに通知する\n",
    "    \"\"\"\n",
    "    line_notify_token = TOKEN\n",
    "    line_notify_api = 'https://notify-api.line.me/api/notify'\n",
    "    headers = {'Authorization': f'Bearer {line_notify_token}'}\n",
    "    data = {'message': f'message: {message}'}\n",
    "    requests.post(line_notify_api, headers = headers, data = data)\n",
    "    \n",
    "# 注文した値段と, 相場の価格の乖離率を計算する関数\n",
    "def calc_deviation_rate(price):\n",
    "    result = ticker_info()\n",
    "    last_price = float(result['last'])\n",
    "    dev_rate = np.abs((last_price - price) / price)\n",
    "    return dev_rate\n",
    "\n",
    "# 買いやすさ, 売りやすさを調整する関数\n",
    "def return_trade_bias(pct_rate):\n",
    "    trade_bias = 0\n",
    "\n",
    "    if pct_rate>0:\n",
    "        trade_bias = 100*np.tanh(pct_rate)\n",
    "    elif pct_rate<0:\n",
    "        trade_bias = 100*np.tanh(pct_rate)\n",
    "    else:\n",
    "        trade_bias = 0\n",
    "        \n",
    "    if np.abs(trade_bias)>=0.015:\n",
    "        if trade_bias>0:\n",
    "            trade_bias = 0.015\n",
    "        else:\n",
    "            trade_bias = -0.015\n",
    "        \n",
    "    return trade_bias\n",
    "\n",
    "# spread を調整する関数\n",
    "# 未実装\n",
    "def return_spread(pct_rate,trade_freq,candles_hour):\n",
    "    volume = candles_hour[0][5]\n",
    "    spread = 0\n",
    "    return spread\n",
    "\n",
    "# 注文いれなおしたり, キャンセルする関数定義\n",
    "def cancel_order(order_id):\n",
    "    pass\n",
    "\n",
    "\n",
    "# 指値更新の関数\n",
    "# 段階損切なら, DP\n",
    "# 様子見指値更新なら DELTA\n",
    "def update_index_price(side,order_now,old_price,trade_amount,losscut_price):\n",
    "    \n",
    "    is_error = False\n",
    "    is_rate_limit = False\n",
    "    \n",
    "    if side=='sell':            \n",
    "        order_func = sell\n",
    "    \n",
    "    else:    # buy            \n",
    "        order_func = buy\n",
    "    \n",
    "    price_tmp = old_price + losscut_price\n",
    "    \n",
    "    try:\n",
    "        order_id = order_now[0]['id']\n",
    "        order_cancel = OrderCancel(order_id)\n",
    "        time.sleep(0.5)\n",
    "        order_ = order_func(price_tmp,btc_amount=trade_amount)\n",
    "        current_price = price_tmp\n",
    "        return current_price, order_, is_error, is_rate_limit\n",
    "        \n",
    "    except Exception as e:\n",
    "        is_error = True\n",
    "        b_info = balance_info()\n",
    "        free = float(b_info['free']['BTC'])\n",
    "        \n",
    "        # rate limit だった時   \n",
    "        if free>=BTC_AMOUNT*2 and side=='sell':\n",
    "            logger.info('Rate limit')\n",
    "            is_rate_limit = True\n",
    "            time.sleep(5)\n",
    "        else:\n",
    "            logger.info('in Update '+side)\n",
    "            logger.info(e)\n",
    "        \n",
    "        return price_tmp, None, is_error, is_rate_limit\n",
    "    \n",
    "def is_buyable(short_line, long_line,index_):\n",
    "    long_is_upper = long_line.iloc[index_-1]>short_line.iloc[index_-1]\n",
    "    long_is_lower = long_line.iloc[index_]<=short_line.iloc[index_]\n",
    "    \n",
    "    # 移動平均線の微分係数が正であるか確認する\n",
    "    long_diff_coef = differantiate_sum(long_line)\n",
    "    short_diff_coef = differantiate_sum(short_line) \n",
    "    is_long_plus = False\n",
    "    is_short_plus = False\n",
    "    \n",
    "    if long_diff_coef>0:\n",
    "        is_long_plus=True\n",
    "    \n",
    "    if short_diff_coef>0:\n",
    "        is_short_plus=True \n",
    "    \n",
    "    buyable = long_is_upper and long_is_lower and is_long_plus and is_short_plus\n",
    "    return buyable\n",
    "\n",
    "def is_sellable(short_line, long_line,index_):\n",
    "    long_is_lower = long_line.iloc[index_-1]<short_line.iloc[index_-1]\n",
    "    long_is_upper = long_line.iloc[index_]>=short_line.iloc[index_]\n",
    "    # 短期移動平均線の勾配が 0以下か確認\n",
    "    short_coef = differentiate(short_line)\n",
    "    is_grad_zero = False\n",
    "    if short_coef<=0:\n",
    "        is_grad_zero = True\n",
    "    \n",
    "    sellable = (long_is_upper and long_is_lower) or is_grad_zero\n",
    "    return sellable\n",
    "\n",
    "def differantiate_sum(line_):\n",
    "    coefficient_ = line_.tail().diff().iloc[-4:].sum()\n",
    "    return coefficient_\n",
    "\n",
    "def differentiate(line_):\n",
    "    coefficient_ = line_.tail().diff().iloc[-1]\n",
    "    return coefficient_\n",
    "\n",
    "def load_csv(load_path):\n",
    "    df = pd.read_csv(load_path, header=None)\n",
    "    df = df.rename(columns={\n",
    "    df.columns[1]:'day',\n",
    "    df.columns[2]:'open',\n",
    "    df.columns[3]:'high',\n",
    "    df.columns[4]:'low',\n",
    "    df.columns[5]:'close',\n",
    "    df.columns[6]:'volume'\n",
    "    })\n",
    "    df['day'] = pd.to_datetime(df['day'])#format='%Y/%m/%d')\n",
    "    df.set_index('day',inplace=True)\n",
    "    return df\n",
    "\n",
    "def judge_profit():\n",
    "    is_profit_taking = False\n",
    "    return is_profit_taking"
   ]
  },
  {
   "cell_type": "markdown",
   "metadata": {},
   "source": [
    "# 単発買い注文"
   ]
  },
  {
   "cell_type": "code",
   "execution_count": null,
   "metadata": {},
   "outputs": [],
   "source": [
    "\n",
    "symbol = 'BTC/JPY'\n",
    "board = ticker_info()\n",
    "buy_price = board['bid'] + 1\n",
    "buy_price"
   ]
  },
  {
   "cell_type": "code",
   "execution_count": null,
   "metadata": {},
   "outputs": [],
   "source": [
    "symbol = 'BTC/JPY'\n",
    "board = ticker_info()\n",
    "\n",
    "buy_price = board['bid'] + 1\n",
    "sell_price = board['ask'] - 1\n",
    "\n",
    "order_buy = buy(2331173.0)"
   ]
  },
  {
   "cell_type": "code",
   "execution_count": 5,
   "metadata": {},
   "outputs": [
    {
     "data": {
      "text/plain": [
       "[]"
      ]
     },
     "execution_count": 5,
     "metadata": {},
     "output_type": "execute_result"
    }
   ],
   "source": [
    "OpenOrder()"
   ]
  },
  {
   "cell_type": "markdown",
   "metadata": {},
   "source": [
    "# 単発売り注文"
   ]
  },
  {
   "cell_type": "code",
   "execution_count": null,
   "metadata": {},
   "outputs": [],
   "source": [
    "balance_info()"
   ]
  },
  {
   "cell_type": "code",
   "execution_count": null,
   "metadata": {},
   "outputs": [],
   "source": [
    "symbol = 'BTC/JPY'\n",
    "board = ticker_info()\n",
    "\n",
    "buy_price = board['bid'] + 1\n",
    "# sell_price = board['ask'] - 1\n",
    "sell_price = 2339455.0\n",
    "\n",
    "btc_amount = 0.005\n",
    "order_sell = sell(sell_price,btc_amount= BTC_AMOUNT)"
   ]
  },
  {
   "cell_type": "markdown",
   "metadata": {},
   "source": [
    "# order cancel"
   ]
  },
  {
   "cell_type": "code",
   "execution_count": 18,
   "metadata": {},
   "outputs": [
    {
     "data": {
      "text/plain": [
       "[]"
      ]
     },
     "execution_count": 18,
     "metadata": {},
     "output_type": "execute_result"
    }
   ],
   "source": [
    "OpenOrder()"
   ]
  },
  {
   "cell_type": "code",
   "execution_count": null,
   "metadata": {},
   "outputs": [],
   "source": [
    "# order_id = order_buy['id']\n",
    "order_cancel = OrderCancel(5147984578)"
   ]
  },
  {
   "cell_type": "markdown",
   "metadata": {},
   "source": [
    "# Log の設定\n"
   ]
  },
  {
   "cell_type": "code",
   "execution_count": 19,
   "metadata": {},
   "outputs": [],
   "source": [
    "\n",
    "\n",
    "#------------------------------------------------\n",
    "# ログの出力名の設定\n",
    "logger = getLogger('LoggingTest')\n",
    "#　ログレベルの設定\n",
    "logger.setLevel(10)\n",
    "# ログのファイル出力先を設定\n",
    "file_name = datetime.datetime.now().strftime('%Y%m%d') + '_' + datetime.datetime.now().strftime('%H%M%S')+'.log'\n",
    "# 設定してください\n",
    "path_log = '/Users/Owner/Desktop/BitCoin/Log/'\n",
    "fh = FileHandler(path_log+file_name)\n",
    "logger.addHandler(fh)\n",
    "\n",
    "# ログの出力形式の設定\n",
    "formatter = logging.Formatter('%(asctime)s:%(lineno)d:%(levelname)s:%(message)s')\n",
    "fh.setFormatter(formatter)\n",
    "#------------------------------------------------\n",
    "\n",
    "send_line_notify('Trade start')\n",
    "\n",
    "logger.info('Trade Start')\n",
    "logger.info('SYMBOL             {0}'.format(SYMBOL))\n",
    "logger.info('SIZE_THRU          :{0}'.format(SIZE_THRU))\n",
    "logger.info('BTC_AMOUT          :{0}'.format(BTC_AMOUNT))\n",
    "logger.info('SPREAD              :{0}'.format(SPREAD))\n",
    "logger.info('PCT_RATE           :{0}'.format(PCT_RATE))\n",
    "logger.info('DEVIATION RATE     :{0}'.format(DEVIATION_RATE))\n",
    "logger.info('DP                 :{0}'.format(DP))\n",
    "logger.info('DELTA              :{0}'.format(DELTA))\n",
    "logger.info('MIN_WIDTH          :{0}'.format(MIN_WIDTH))\n",
    "logger.info('LOOP_COUNT         :{0}'.format(LOOP_COUNT))\n",
    "logger.info('FORCE_LOOP_COUNT   :{0}'.format(FORCE_LOOP_COUNT))\n",
    "logger.info('SLEEP_TIME         :{0}'.format(SLEEP_TIME))\n"
   ]
  },
  {
   "cell_type": "markdown",
   "metadata": {},
   "source": [
    "# 売買システム　コード"
   ]
  },
  {
   "cell_type": "code",
   "execution_count": 7,
   "metadata": {},
   "outputs": [
    {
     "data": {
      "text/plain": [
       "[]"
      ]
     },
     "execution_count": 7,
     "metadata": {},
     "output_type": "execute_result"
    }
   ],
   "source": [
    "\n",
    "\n",
    "\n",
    "trade_count = 0\n",
    "profit = 0\n",
    "total_profit = 0\n",
    "pos = 'none'\n",
    "remain_btc = float(balance_info()['info']['btc'])\n",
    "jpy_before = float(balance_info()['info']['jpy'])\n",
    "\n",
    "while True:\n",
    "    try:\n",
    "        \n",
    "        if pos=='none':\n",
    "            \n",
    "            # ローソク足取得 (60分単位)\n",
    "            candles_hour = return_candles(min_='60m')\n",
    "            \n",
    "            # trade_bias 計算用\n",
    "            pct_rate_for_bias,volume_hour = calc_pct_rate(candles_hour)\n",
    "            \n",
    "            # 相場状況によって, 買いやすさ, 売りやすさを決めるバイアスを計算する\n",
    "            trade_bias = return_trade_bias(pct_rate_for_bias)\n",
    "            buy_bias = (1-trade_bias)\n",
    "            sell_bias = (1+trade_bias)\n",
    "            \n",
    "            # 最適な指値計算\n",
    "            ask,bid,buy_price,sell_price = calc_best_price(size_thru=SIZE_THRU,\\\n",
    "                buy_bias=buy_bias, sell_bias=sell_bias)\n",
    "            \n",
    "            # 注文板の開き具合を計算\n",
    "            spread = (ask-bid)/bid\n",
    "            \n",
    "            # 指値更新フラグを初期化\n",
    "            change_index_flag = False\n",
    "            \n",
    "            # 損切のための変数初期化\n",
    "            loop_count = 0\n",
    "            \n",
    "            # ローソク足取得 (5分単位)\n",
    "            candles = return_candles(min_=MIN_WIDTH)\n",
    "            \n",
    "            # ローソク足から, 相場の変化率を計算\n",
    "            pct_rate,volume_ = calc_pct_rate(candles)\n",
    "\n",
    "            # 乖離率初期化\n",
    "            dev_rate = 0\n",
    "            \n",
    "            # Rate limit error 対策\n",
    "            is_rate_limit = False\n",
    "            \n",
    "            # 日本円計算用\n",
    "            jpy_pre = float(balance_info()['info']['jpy'])\n",
    "            \n",
    "            # 変化率が大きい相場では取引するのが危ないので, 15分間取引しない\n",
    "            if np.abs(pct_rate) >= PCT_RATE:\n",
    "                logger.info('High volatility detected, sleep for a while.')\n",
    "                time.sleep(SLEEP_TIME)\n",
    "                \n",
    "            # 取引数量が少ない時に買い増しする\n",
    "            if remain_btc<BTC_AMOUNT:\n",
    "                logger.info('Low amount2')\n",
    "                logger.info('remain_btc {0}'.format(remain_btc))\n",
    "                order_buy = buy(buy_price,btc_amount=BTC_AMOUNT)\n",
    "                time.sleep(1)\n",
    "                order_now = OpenOrder()\n",
    "                remain_btc = float(balance_info()['info']['btc'])\n",
    "                \n",
    "                if len(order_now)>1:\n",
    "                    id = order_now[0]['id']\n",
    "                    order_cancel = OrderCancel(id)\n",
    "                    \n",
    "                time.sleep(1)\n",
    "                # 取引数量に満たない場合は買い増しする\n",
    "                while remain_btc<BTC_AMOUNT:\n",
    "                    logger.info('order id length {0}'.format(len(order_now)))\n",
    "                    \n",
    "                    if len(order_now)==2:\n",
    "                        side0 = order_now[0]['side']\n",
    "                        side1 = order_now[1]['side']\n",
    "                        \n",
    "                        if side0==side1=='buy' or side0==side1=='sell':\n",
    "                            # 古いほうの買い注文キャンセルしたい\n",
    "                            # 0 が古いほう\n",
    "                            if side0=='buy':logger.info('Two buy order1')\n",
    "                            if side0=='sell':logger.info('Two sell order1')\n",
    "                            \n",
    "                            old_order = order_now[0]['id']\n",
    "                            try:\n",
    "                                order_cancel = OrderCancel(old_order)\n",
    "                            except Exception as e:\n",
    "                                logger.info(e)\n",
    "                                logger.info('Cant cancel in pre entry')\n",
    "                                \n",
    "                        else:\n",
    "                            \n",
    "                            if side0=='buy':\n",
    "                                buy_order = order_now[0]['id']\n",
    "                                try:\n",
    "                                    order_cancel = OrderCancel(buy_order)\n",
    "                                except Exception as e:\n",
    "                                    logger.info(e)\n",
    "                                    logger.info('Cant cancel in pre entry0')\n",
    "                            elif side1=='buy':\n",
    "                                buy_order = order_now[0]['id']\n",
    "                                try:\n",
    "                                    order_cancel = OrderCancel(buy_order)\n",
    "                                except Exception as e:\n",
    "                                    logger.info(e)\n",
    "                                    logger.info('Cant cancel in pre entry1')\n",
    "                    \n",
    "                    try:\n",
    "                        order_id = order_now[0]['id']\n",
    "                        order_cancel = OrderCancel(order_id)\n",
    "                        time.sleep(1)\n",
    "                    except Exception as e:\n",
    "                        logger.info(e)\n",
    "                        break\n",
    "                    \n",
    "                    ask,bid,buy_price,sell_price = calc_best_price(size_thru=SIZE_THRU)\n",
    "                    order_buy = buy(buy_price,btc_amount=BTC_AMOUNT)\n",
    "                    time.sleep(1)\n",
    "                    order_now = OpenOrder()\n",
    "                \n",
    "                time.sleep(1)\n",
    "                remain_btc = float(balance_info()['info']['btc'])\n",
    "        \n",
    "            # spread が十分大きいかつ, 変化率が許容範囲\n",
    "            if spread >= SPREAD and np.abs(pct_rate) < PCT_RATE:\n",
    "                logger.info(\"-------------------\")\n",
    "                \n",
    "                # 注文数量が残った時,　前回の数量を上乗せして発注する\n",
    "                if remain_btc>BTC_AMOUNT:\n",
    "                    sell_amount = remain_btc\n",
    "                    order_sell = sell(sell_price,btc_amount=sell_amount)\n",
    "                    order_buy = buy(buy_price,btc_amount=BTC_AMOUNT)\n",
    "                    logger.info('Over amount')\n",
    "                    logger.info('sell amount {0}'.format(sell_amount))\n",
    "                    logger.info('entry')\n",
    "                    logger.info('sell_price {0}'.format(sell_price))\n",
    "                    logger.info('buy_price  {0}'.format(buy_price))\n",
    "                    pos = 'entry'\n",
    "                    \n",
    "                # 在庫が最小取引単位を下回ったら買い増ししなけらばならない\n",
    "                elif remain_btc<BTC_AMOUNT:\n",
    "                    logger.info('Low amount1')\n",
    "                    logger.info('remain_btc {0}'.format(remain_btc))\n",
    "                    order_buy = buy(buy_price,btc_amount=BTC_AMOUNT)\n",
    "                    time.sleep(1)\n",
    "                    order_now = OpenOrder()\n",
    "                    remain_btc = float(balance_info()['info']['btc'])\n",
    "                    \n",
    "                    if len(order_now)>1:\n",
    "                        id = order_now[0]['id']\n",
    "                        order_cancel = OrderCancel(id)\n",
    "                        \n",
    "                    # 取引数量に満たない場合は買い増しする\n",
    "                    while remain_btc<BTC_AMOUNT:\n",
    "                        logger.info('order id length {0}'.format(len(order_now)))\n",
    "                        \n",
    "                        try:\n",
    "                            order_id = order_now[0]['id']\n",
    "                            order_cancel = OrderCancel(order_id)\n",
    "                            time.sleep(1)\n",
    "                        except Exception as e:\n",
    "                            logger.info(e)\n",
    "                            break\n",
    "                        \n",
    "                        ask,bid,buy_price,sell_price = calc_best_price(size_thru=SIZE_THRU)\n",
    "                        order_buy = buy(buy_price,btc_amount=BTC_AMOUNT)\n",
    "                        time.sleep(1)\n",
    "                        order_now = OpenOrder()\n",
    "                    \n",
    "                    time.sleep(1)\n",
    "                    remain_btc = float(balance_info()['info']['btc'])\n",
    "                \n",
    "                # 正常な取引数量の時   \n",
    "                elif remain_btc==BTC_AMOUNT:\n",
    "                    sell_amount = BTC_AMOUNT\n",
    "                    order_sell = sell(sell_price,btc_amount=sell_amount)\n",
    "                    order_buy = buy(buy_price,btc_amount=BTC_AMOUNT)\n",
    "                    pos = 'entry'\n",
    "                    logger.info('entry')\n",
    "                    logger.info('sell_price {0}'.format(sell_price))\n",
    "                    logger.info('buy_price  {0}'.format(buy_price))\n",
    "                else:\n",
    "                    logger.info('Impossible to come here')\n",
    "                \n",
    "                logger.info('remain_btc {0}'.format(remain_btc))\n",
    "                logger.info('pct_rate   {0}'.format(pct_rate))\n",
    "                logger.info(\"-------------------\")\n",
    "                time.sleep(6)\n",
    "            \n",
    "        if pos=='entry':\n",
    "            # 買えたかどうかチェック\n",
    "            is_buy, is_sell = get_status(sell_amount)\n",
    "            message = 'is_buy : '+str(is_buy)+' '+'is_sell : '+str(is_sell)\n",
    "            \n",
    "            # 売買終了\n",
    "            if is_buy and is_sell:\n",
    "                trade_count += 1\n",
    "                pos = 'none'\n",
    "                sell_ = math.floor(sell_price*BTC_AMOUNT)\n",
    "                buy_ = math.ceil(buy_price*BTC_AMOUNT)\n",
    "                profit = sell_ - buy_\n",
    "                b_info = balance_info()\n",
    "                remain_btc = float(b_info['info']['btc'])\n",
    "                jpy_now = float(b_info['info']['jpy'])\n",
    "                jpy_diff = jpy_now - jpy_pre\n",
    "                total_profit += profit\n",
    "                \n",
    "                logger.info(\"-------------------\")\n",
    "                logger.info('Done trade')\n",
    "                logger.info('sell price  :{0}'.format(int(sell_price)))\n",
    "                logger.info('buy price   :{0}'.format(int(buy_price)))\n",
    "                logger.info('profit      :{0}'.format(profit))\n",
    "                logger.info('trade_count :{0}'.format(trade_count))\n",
    "                logger.info('free        :{0}'.format(b_info['free']['BTC']))\n",
    "                logger.info('used        :{0}'.format(b_info['used']['BTC']))\n",
    "                logger.info('total       :{0}'.format(b_info['total']['BTC']))\n",
    "                logger.info('Total profit:{0}'.format(total_profit))\n",
    "                logger.info('spread      :{0}'.format(spread))\n",
    "                logger.info('jpy diff    :{0}'.format(jpy_diff))\n",
    "                logger.info('pct_rate    :{0}'.format(pct_rate))\n",
    "                logger.info('trade_bias  :{0}'.format(trade_bias))\n",
    "                logger.info('volume_hour :{0}'.format(volume_hour))\n",
    "                logger.info(\"-------------------\")\n",
    "                \n",
    "                if trade_count%20==0:\n",
    "                    send_line_notify(str(total_profit))\n",
    "            \n",
    "            # 買い指値変更検討\n",
    "            if not is_buy and is_sell:\n",
    "                # 利ざや　1円で妥協\n",
    "                order_now = OpenOrder()\n",
    "                time.sleep(0.2)\n",
    "                loop_count += 1\n",
    "                \n",
    "                if not change_index_flag:\n",
    "                    \n",
    "                    change_index_flag = True\n",
    "                    buy_price,order_buy_tmp,is_error,is_dummy = update_index_price('buy',order_now,sell_price,BTC_AMOUNT,-1*DELTA)\n",
    "                    \n",
    "                    if not is_error:\n",
    "                        order_buy = order_buy_tmp\n",
    "                        logger.info('update buy_price {0}'.format(buy_price))\n",
    "                    else:\n",
    "                        logger.info('error in update buy 1')\n",
    "                        \n",
    "                # 段階的損切実行\n",
    "                # 買えなかった時\n",
    "                if loop_count >= LOOP_COUNT:\n",
    "                    dev_rate = calc_deviation_rate(buy_price)\n",
    "                    tolerable_loss = dev_rate*buy_price*BTC_AMOUNT # 単位 [円]\n",
    "                    \n",
    "                    if tolerable_loss<=TOLERABLE_LOSS:\n",
    "                        board = ticker_info()\n",
    "                        buy_price = board['bid']\n",
    "                        buy_price,order_buy_tmp,is_error,is_dummy = update_index_price('buy',order_now,buy_price,BTC_AMOUNT,0)\n",
    "                        \n",
    "                        if not is_error:\n",
    "                            order_buy = order_buy_tmp\n",
    "                            logger.info('tolerable loss cut in buy')\n",
    "                        else:\n",
    "                            logger.info('error in tolerable loss cut in buy')\n",
    "                        \n",
    "                    else:\n",
    "                        buy_price,order_buy_tmp,is_error,is_dummy = update_index_price('buy',order_now,buy_price,BTC_AMOUNT,DP)\n",
    "                        if not is_error:\n",
    "                            order_buy = order_buy_tmp\n",
    "                        else:\n",
    "                            logger.info('error in update buy 2')\n",
    "\n",
    "                        if loop_count%25==0:\n",
    "                            logger.info('Update buy price {0}'.format(int(buy_price)))\n",
    "                            logger.info('Loss cut')\n",
    "\n",
    "                    \n",
    "                # 即時損切実行\n",
    "                if  loop_count>=FORCE_LOOP_COUNT:\n",
    "                    dev_rate = calc_deviation_rate(buy_price)\n",
    "                    \n",
    "                    if dev_rate>=DEVIATION_RATE:\n",
    "                        board = ticker_info()\n",
    "                        buy_price = board['bid']\n",
    "                        buy_price,order_buy_tmp,is_error,is_dummy = update_index_price('buy',order_now,buy_price,BTC_AMOUNT,0)\n",
    "                        \n",
    "                        if not is_error:\n",
    "                            order_buy = order_buy_tmp\n",
    "                        else:\n",
    "                            logger.info('error in update buy 3')\n",
    "                            \n",
    "                        logger.info('Force Loss cut !!!')\n",
    "                        loop_count = LOOP_COUNT - 1\n",
    "            \n",
    "            # 売り指値変更検討\n",
    "            if is_buy and not is_sell:\n",
    "                order_now = OpenOrder()\n",
    "                time.sleep(0.2)\n",
    "                loop_count += 1\n",
    "                \n",
    "                # 最適指値で売れなかったときは, 指値更新\n",
    "                if not change_index_flag:\n",
    "                    \n",
    "                    change_index_flag = True\n",
    "                    sell_price,order_sell_tmp,is_error,is_dummy = update_index_price('sell',order_now,buy_price,sell_amount,DELTA)\n",
    "                    \n",
    "                    if not is_error:\n",
    "                        order_sell = order_sell_tmp\n",
    "                        logger.info('update sell_price {0}'.format(sell_price))\n",
    "                    else:\n",
    "                        logger.info('error in update sell 1')\n",
    "\n",
    "                # 段階的損切実行\n",
    "                # 売れ残った時\n",
    "                # 400 * 2 => 30分経っても売れなかったら損切\n",
    "                if loop_count >= LOOP_COUNT:\n",
    "                    dev_rate = calc_deviation_rate(sell_price)\n",
    "                    tolerable_loss = dev_rate*sell_price*BTC_AMOUNT # 単位 [円]\n",
    "                    \n",
    "                    if tolerable_loss<=TOLERABLE_LOSS:\n",
    "                        board = ticker_info()\n",
    "                        sell_price = board['ask']\n",
    "                        sell_price,order_sell_tmp,is_error,is_rate_limit = update_index_price('sell',order_now,sell_price,sell_amount,0)\n",
    "                        \n",
    "                        if not is_error:\n",
    "                            order_sell = order_sell_tmp\n",
    "                            logger.info('tolerable loss cut in sell')\n",
    "                        else:\n",
    "                            logger.info('error in tolerable loss cut in sell')\n",
    "                    \n",
    "                    else:\n",
    "                        sell_price,order_sell_tmp,is_error,is_rate_limit = update_index_price('sell',order_now,sell_price,sell_amount,-1*DP)\n",
    "                        if not is_error:\n",
    "                            order_sell = order_sell_tmp\n",
    "                        else:\n",
    "                            logger.info('error in update sell 2')\n",
    "                        \n",
    "                        if loop_count%25==0:\n",
    "                            logger.info('Update sell price {0}'.format(int(sell_price)))\n",
    "                            logger.info('Loss cut')\n",
    "                    \n",
    "\n",
    "                # 即時損切実行\n",
    "                if loop_count>=FORCE_LOOP_COUNT:\n",
    "                    dev_rate = calc_deviation_rate(sell_price)\n",
    "                    \n",
    "                    if dev_rate>=DEVIATION_RATE:\n",
    "                        board = ticker_info()\n",
    "                        sell_price = board['ask']\n",
    "                        sell_price,order_sell_tmp,is_error,is_rate_limit = update_index_price('sell',order_now,sell_price,sell_amount,0)\n",
    "                        \n",
    "                        if not is_error:\n",
    "                            order_sell = order_sell_tmp\n",
    "                        else:\n",
    "                            logger.info('error in update sell 3')\n",
    "                            \n",
    "                        logger.info('Force Loss cut !!!')\n",
    "                        loop_count = LOOP_COUNT - 1\n",
    "                    \n",
    "                # Rate limit error の時は注文が消えるので, 新たに注文を入れなければならない\n",
    "                if is_rate_limit:\n",
    "                    order_sell = sell(sell_price,btc_amount=sell_amount)\n",
    "                    is_rate_limit = False\n",
    "                    logger.info('Rate limit order!')\n",
    "                            \n",
    "            # 買い, 売り指値変更検討\n",
    "            if not is_buy and not is_sell:\n",
    "                logger.info(\"-------------------\")\n",
    "                cancel_buy = False\n",
    "                cancel_sell = False\n",
    "                loop_count += 1\n",
    "                # 売り注文キャンセル\n",
    "\n",
    "                try:\n",
    "                    order_id = order_sell['id']\n",
    "                    order_cancel = OrderCancel(order_id)\n",
    "                    cancel_sell = True\n",
    "                except Exception as e:\n",
    "                    logger.info(e)\n",
    "                    logger.info('Can\\'t cancel sell order')\n",
    "                    \n",
    "                # 買い注文キャンセル\n",
    "                try:\n",
    "                    order_id = order_buy['id']\n",
    "                    order_cancel = OrderCancel(order_id)\n",
    "                    cancel_buy = True\n",
    "                except Exception as e:\n",
    "                    logger.info(e)\n",
    "                    logger.info('Can\\'t cancel buy order')\n",
    "                    \n",
    "                time.sleep(1)\n",
    "                    \n",
    "                # どちらの注文もキャンセルできたとき\n",
    "                if cancel_buy and cancel_sell:\n",
    "                    pos = 'none'\n",
    "                    logger.info('Successfully canceled both orders.')\n",
    "                    b_info = balance_info()\n",
    "                    remain_btc = float(b_info['info']['btc'])\n",
    "                \n",
    "                # 買い注文だけキャンセルできてしまった場合は, 元の買い注文を入れ直す\n",
    "                elif cancel_buy and not cancel_sell:\n",
    "                    order_buy = buy(buy_price,btc_amount=BTC_AMOUNT)\n",
    "                    time.sleep(1)\n",
    "                    logger.info('Update buy price {0}'.format(int(buy_price)))\n",
    "                    change_index_flag = True\n",
    "                    \n",
    "                # 売り注文だけキャンセルできてしまった場合は, 元の売り注文を入れ直す\n",
    "                elif not cancel_buy and cancel_sell:\n",
    "                    order_sell = sell(sell_price,btc_amount=sell_amount)\n",
    "                    time.sleep(1)\n",
    "                    logger.info('Update sell price {0}'.format(int(sell_price)))\n",
    "                    change_index_flag = True\n",
    "                    \n",
    "                else:\n",
    "                    logger.info(\"Can\\'t cancel both orders\")\n",
    "                    \n",
    "                order_now = OpenOrder()\n",
    "                time.sleep(1)\n",
    "                logger.info('order_id length {0}'.format(len(order_now)))\n",
    "                logger.info(\"-------------------\")\n",
    "                \n",
    "            # 損切の結果, 収支がマイナス1,000になった時はシステムを止める\n",
    "            if total_profit < -1000:\n",
    "                logger.info('---------------------')\n",
    "                logger.info('Execute circuit breaker')\n",
    "                logger.info('Loss : {0}'.format(total_profit))\n",
    "                send_line_notify('Done circuit breaker')\n",
    "                break\n",
    "            \n",
    "        time.sleep(2)\n",
    "        \n",
    "    except KeyboardInterrupt:\n",
    "        logger.info('Finish trade.')\n",
    "        send_line_notify('Finish')\n",
    "        break\n",
    "    \n",
    "    except Exception as e :\n",
    "        print(e)\n",
    "        # エラーが起きた際, ラインに通知が行くようにすると便利\n",
    "        send_line_notify(e)\n",
    "        break\n",
    "    \n",
    "jpy_after = float(balance_info()['info']['jpy'])\n",
    "logger.info('Total Profit :{0}'.format(jpy_after-jpy_before))\n",
    "order_now = OpenOrder()\n",
    "order_now\n"
   ]
  },
  {
   "cell_type": "markdown",
   "metadata": {},
   "source": [
    "# RequestTimeout: coincheck GET https://coincheck.com/api/accounts/balance\n",
    "エラー"
   ]
  },
  {
   "cell_type": "code",
   "execution_count": null,
   "metadata": {},
   "outputs": [],
   "source": [
    "\"RequestTimeout\","
   ]
  },
  {
   "cell_type": "code",
   "execution_count": null,
   "metadata": {},
   "outputs": [],
   "source": [
    "symbol = 'BTC/JPY'\n",
    "order_now = OpenOrder()\n",
    "order_now"
   ]
  },
  {
   "cell_type": "markdown",
   "metadata": {},
   "source": [
    "# メモ\n",
    "\n",
    "\n",
    "1 hour -> loop_count = 463\n",
    "差分10万円 -> BTC＿AMOUNT=0.005だったら500円分 \n",
    "差分 1万円 -> 50円\n",
    "\n",
    "pct_rate_h = 0.9\n",
    "pct_rate_m = 0.007\n",
    "\n",
    "乖離率計算\n",
    "calc_deviation_rate(price)"
   ]
  },
  {
   "cell_type": "markdown",
   "metadata": {},
   "source": [
    "土日はspread めっちゃ小さい"
   ]
  },
  {
   "cell_type": "markdown",
   "metadata": {},
   "source": [
    "10000円で50円の損失"
   ]
  },
  {
   "cell_type": "markdown",
   "metadata": {},
   "source": [
    "# 試すこと\n",
    "1. "
   ]
  },
  {
   "cell_type": "markdown",
   "metadata": {},
   "source": [
    "# テクニカル分析でやってみる"
   ]
  },
  {
   "cell_type": "code",
   "execution_count": 114,
   "metadata": {},
   "outputs": [
    {
     "name": "stdout",
     "output_type": "stream",
     "text": [
      "   total_profit  profit rate  trade_count  max_profit  min_profit  \\\n",
      "1        -807.0       -32.28            2       626.0     -1433.0   \n",
      "\n",
      "   mean_profit  cant_buy_count  \n",
      "1       -403.5               0  \n",
      "\n",
      "trigger_count : 0\n"
     ]
    },
    {
     "data": {
      "text/plain": [
       "<Figure size 432x288 with 0 Axes>"
      ]
     },
     "metadata": {},
     "output_type": "display_data"
    },
    {
     "data": {
      "image/png": "[encoded data removed]",
      "text/plain": [
       "<Figure size 720x432 with 1 Axes>"
      ]
     },
     "metadata": {
      "needs_background": "light"
     },
     "output_type": "display_data"
    }
   ],
   "source": [
    "i=4\n",
    "alpha=0.9\n",
    "beta = 0.4\n",
    "cs = CeilSimulation(alpha=alpha,beta=beta,width=20,hold_day=1000)\n",
    "cs.simulate(df_.iloc[i*stride:(i+1)*stride],start_year=2021,end_year=2022,is_validate=False)"
   ]
  },
  {
   "cell_type": "code",
   "execution_count": 142,
   "metadata": {},
   "outputs": [],
   "source": [
    "\n",
    "path_win1 = '/Users/Owner/Desktop/BitCoin/Data/bit_day_chart.csv'\n",
    "path_win2 = '/Users/Owner/Desktop/BitCoin/Data/btc_min_chart.csv'\n",
    "path_min =  '/Users/Owner/Desktop/BitCoin/Data/min1_2022-12-28.csv'\n",
    "\n",
    "def load_csv_for_1min(path_):\n",
    "\n",
    "    df = pd.read_csv(path_)#, header=None)\n",
    "    df = df.rename(columns={\n",
    "    df.columns[1]:'day',\n",
    "    df.columns[2]:'open',\n",
    "    df.columns[3]:'high',\n",
    "    df.columns[4]:'low',\n",
    "    df.columns[5]:'close',\n",
    "    df.columns[6]:'volume'\n",
    "    })\n",
    "\n",
    "    df_ = df.drop(['Unnamed: 0'],axis=1)\n",
    "    df_['day'] = pd.to_datetime(df_['day'],format='%Y/%m/%d')\n",
    "    df_.set_index('day',inplace=True)\n",
    "    df_ = df_[~df_.index.duplicated(keep='first')] # 重複削除\n",
    "    \n",
    "    return df_"
   ]
  },
  {
   "cell_type": "markdown",
   "metadata": {},
   "source": [
    "## 天井じゃなかったら売り\n",
    "##  損切, やめた方がいい? 要検証"
   ]
  },
  {
   "cell_type": "code",
   "execution_count": 144,
   "metadata": {},
   "outputs": [],
   "source": [
    "path_min1 =  '/Users/Owner/Desktop/BitCoin/Data/min1_2022-12-24.csv'\n",
    "path_min2 =  '/Users/Owner/Desktop/BitCoin/Data/min1_2022-12-25.csv'\n",
    "path_min3 =  '/Users/Owner/Desktop/BitCoin/Data/min1_2022-12-27.csv'\n",
    "path_min4 =  '/Users/Owner/Desktop/BitCoin/Data/min1_2022-12-28.csv'\n",
    "\n",
    "df1 = load_csv_for_1min(path_min1)\n",
    "df2 = load_csv_for_1min(path_min2)\n",
    "df3 = load_csv_for_1min(path_min3)\n",
    "df4 = load_csv_for_1min(path_min4)"
   ]
  },
  {
   "cell_type": "code",
   "execution_count": 146,
   "metadata": {},
   "outputs": [],
   "source": [
    "%autoreload"
   ]
  },
  {
   "cell_type": "code",
   "execution_count": 166,
   "metadata": {},
   "outputs": [
    {
     "data": {
      "text/plain": [
       "day\n",
       "2022-12-28 06:23:00   -16697.0\n",
       "2022-12-28 06:25:00   -15579.0\n",
       "2022-12-28 06:26:00   -16257.0\n",
       "2022-12-28 06:27:00   -15789.0\n",
       "2022-12-28 06:29:00   -16548.0\n",
       "2022-12-28 06:30:00   -16347.0\n",
       "2022-12-28 06:31:00   -16734.0\n",
       "2022-12-28 06:32:00   -16774.0\n",
       "2022-12-28 06:33:00   -16413.0\n",
       "2022-12-28 06:34:00   -17189.0\n",
       "2022-12-28 06:35:00   -16974.0\n",
       "2022-12-28 06:36:00   -17498.0\n",
       "2022-12-28 06:37:00   -16894.0\n",
       "2022-12-28 06:38:00   -16699.0\n",
       "2022-12-28 06:39:00   -16566.0\n",
       "2022-12-28 06:40:00   -16541.0\n",
       "2022-12-28 06:41:00   -16885.0\n",
       "2022-12-28 06:42:00   -16775.0\n",
       "2022-12-28 06:44:00   -16848.0\n",
       "2022-12-28 06:45:00   -16286.0\n",
       "2022-12-28 06:46:00   -16148.0\n",
       "2022-12-28 06:47:00   -16156.0\n",
       "2022-12-28 06:48:00   -16078.0\n",
       "2022-12-28 06:49:00   -15616.0\n",
       "2022-12-28 06:50:00     -285.0\n",
       "2022-12-28 06:51:00     -285.0\n",
       "2022-12-28 06:52:00     -285.0\n",
       "2022-12-28 06:53:00     -285.0\n",
       "2022-12-28 06:54:00     -285.0\n",
       "2022-12-28 06:55:00     -285.0\n",
       "2022-12-28 06:56:00     -285.0\n",
       "2022-12-28 06:57:00     -285.0\n",
       "2022-12-28 06:58:00     -285.0\n",
       "2022-12-28 06:59:00     -285.0\n",
       "2022-12-28 07:00:00     -285.0\n",
       "2022-12-28 07:01:00     -285.0\n",
       "2022-12-28 07:02:00     -285.0\n",
       "2022-12-28 07:03:00     -285.0\n",
       "2022-12-28 07:04:00     -285.0\n",
       "2022-12-28 07:05:00     -285.0\n",
       "2022-12-28 07:06:00     -285.0\n",
       "2022-12-28 07:07:00     -285.0\n",
       "2022-12-28 07:08:00     -285.0\n",
       "2022-12-28 07:09:00     -285.0\n",
       "2022-12-28 07:10:00     -285.0\n",
       "2022-12-28 07:11:00     -285.0\n",
       "2022-12-28 07:13:00     -285.0\n",
       "2022-12-28 07:14:00     -285.0\n",
       "2022-12-28 07:15:00     -285.0\n",
       "2022-12-28 07:17:00     -285.0\n",
       "Name: eval_reward, dtype: float64"
      ]
     },
     "execution_count": 166,
     "metadata": {},
     "output_type": "execute_result"
    }
   ],
   "source": [
    "\n",
    "cs.pr_log['eval_reward'].iloc[400:450]"
   ]
  },
  {
   "cell_type": "code",
   "execution_count": 162,
   "metadata": {},
   "outputs": [
    {
     "data": {
      "text/plain": [
       "<AxesSubplot:xlabel='day'>"
      ]
     },
     "execution_count": 162,
     "metadata": {},
     "output_type": "execute_result"
    },
    {
     "data": {
      "image/png": "[encoded data removed]",
      "text/plain": [
       "<Figure size 432x288 with 1 Axes>"
      ]
     },
     "metadata": {
      "needs_background": "light"
     },
     "output_type": "display_data"
    }
   ],
   "source": [
    "cs.pr_log['eval_reward'].plot()"
   ]
  },
  {
   "attachments": {},
   "cell_type": "markdown",
   "metadata": {},
   "source": [
    "### simulator ミスってそう"
   ]
  },
  {
   "cell_type": "code",
   "execution_count": 172,
   "metadata": {},
   "outputs": [
    {
     "name": "stdout",
     "output_type": "stream",
     "text": [
      "   total_profit  profit rate  trade_count  max_profit  min_profit  \\\n",
      "1        -285.0        -11.4            4      4693.0    -14844.0   \n",
      "\n",
      "   mean_profit  cant_buy_count  \n",
      "1     -2152.25               0  \n",
      "\n",
      "trigger_count : 0\n"
     ]
    },
    {
     "data": {
      "text/plain": [
       "<Figure size 432x288 with 0 Axes>"
      ]
     },
     "metadata": {},
     "output_type": "display_data"
    },
    {
     "data": {
      "image/png": "[encoded data removed]",
      "text/plain": [
       "<Figure size 720x432 with 1 Axes>"
      ]
     },
     "metadata": {
      "needs_background": "light"
     },
     "output_type": "display_data"
    }
   ],
   "source": [
    "cs = CeilSimulation(alpha=0.5,beta=0.1,width=60,hold_day=1000)\n",
    "cs.simulate(df4.iloc[500:1000],start_year=2021,end_year=2022,is_validate=False)"
   ]
  },
  {
   "cell_type": "code",
   "execution_count": 134,
   "metadata": {},
   "outputs": [
    {
     "data": {
      "text/plain": [
       "<Figure size 432x288 with 0 Axes>"
      ]
     },
     "metadata": {},
     "output_type": "display_data"
    },
    {
     "data": {
      "image/png": "[encoded data removed]",
      "text/plain": [
       "<Figure size 1440x432 with 1 Axes>"
      ]
     },
     "metadata": {
      "needs_background": "light"
     },
     "output_type": "display_data"
    }
   ],
   "source": [
    "cs.show_ceil_chart()"
   ]
  },
  {
   "cell_type": "code",
   "execution_count": null,
   "metadata": {},
   "outputs": [],
   "source": [
    "\n",
    "stride = 105\n",
    "\n",
    "\n",
    "for i in range(0,8,2):\n",
    "    best_prf = -10**7\n",
    "    best_alpha_beta_list = [0.9,0.1]\n",
    "    print(\" i :\",i)\n",
    "    print(\"-----------------------------------\")\n",
    "    for alpha in [0.2,0.3,0.4,0.5,0.6,0.7,0.8,0.9]:\n",
    "        for beta in  [0.2,0.3,0.4,0.5]:\n",
    "            # try:\n",
    "            if alpha<=beta:continue\n",
    "            cs = CeilSimulation(alpha=alpha,beta=beta,width=20,hold_day=1000)\n",
    "            cs.simulate(df_.iloc[i*stride:(i+1)*stride],start_year=2021,end_year=2022,is_validate=True)\n",
    "            prf = cs.trade_log['total_profit'].values[0]\n",
    "            if best_prf<prf:\n",
    "                best_prf = prf\n",
    "                best_alpha_beta_list = [alpha,beta]\n",
    "                print(\"best_prf\",best_prf)\n",
    "                \n",
    "            # except Exception as e:\n",
    "            #     print(\"alpha :\",alpha,'beta :',beta)\n",
    "            #     print(e)\n",
    "                \n",
    "    try:\n",
    "        alpha = best_alpha_beta_list[0]\n",
    "        beat = best_alpha_beta_list[1]\n",
    "        print(\"alpha :\",alpha)\n",
    "        print(\"beta  :\",beta)\n",
    "        cs = CeilSimulation(alpha=alpha,beta=beta,width=20,hold_day=1000)\n",
    "        cs.simulate(df_.iloc[(i+1)*stride:(i+2)*stride],start_year=2021,end_year=2022,is_validate=False)\n",
    "\n",
    "        \n",
    "    except Exception as e:\n",
    "        print(e)\n",
    "        print(\"here\")"
   ]
  },
  {
   "cell_type": "markdown",
   "metadata": {},
   "source": [
    "## 1時間でparams 更新していくオンライン学習"
   ]
  },
  {
   "cell_type": "code",
   "execution_count": 89,
   "metadata": {},
   "outputs": [
    {
     "data": {
      "text/html": [
       "<div>\n",
       "<style scoped>\n",
       "    .dataframe tbody tr th:only-of-type {\n",
       "        vertical-align: middle;\n",
       "    }\n",
       "\n",
       "    .dataframe tbody tr th {\n",
       "        vertical-align: top;\n",
       "    }\n",
       "\n",
       "    .dataframe thead th {\n",
       "        text-align: right;\n",
       "    }\n",
       "</style>\n",
       "<table border=\"1\" class=\"dataframe\">\n",
       "  <thead>\n",
       "    <tr style=\"text-align: right;\">\n",
       "      <th></th>\n",
       "      <th>open</th>\n",
       "      <th>high</th>\n",
       "      <th>low</th>\n",
       "      <th>close</th>\n",
       "      <th>volume</th>\n",
       "    </tr>\n",
       "    <tr>\n",
       "      <th>day</th>\n",
       "      <th></th>\n",
       "      <th></th>\n",
       "      <th></th>\n",
       "      <th></th>\n",
       "      <th></th>\n",
       "    </tr>\n",
       "  </thead>\n",
       "  <tbody>\n",
       "    <tr>\n",
       "      <th>2022-12-23 18:10:00</th>\n",
       "      <td>2238330.0</td>\n",
       "      <td>2238446.0</td>\n",
       "      <td>2238330.0</td>\n",
       "      <td>2238446.0</td>\n",
       "      <td>0.031480</td>\n",
       "    </tr>\n",
       "    <tr>\n",
       "      <th>2022-12-23 18:11:00</th>\n",
       "      <td>2238106.0</td>\n",
       "      <td>2238106.0</td>\n",
       "      <td>2237654.0</td>\n",
       "      <td>2237654.0</td>\n",
       "      <td>0.137240</td>\n",
       "    </tr>\n",
       "    <tr>\n",
       "      <th>2022-12-23 18:12:00</th>\n",
       "      <td>2237373.0</td>\n",
       "      <td>2237814.0</td>\n",
       "      <td>2237214.0</td>\n",
       "      <td>2237620.0</td>\n",
       "      <td>0.105430</td>\n",
       "    </tr>\n",
       "    <tr>\n",
       "      <th>2022-12-23 18:13:00</th>\n",
       "      <td>2237542.0</td>\n",
       "      <td>2237680.0</td>\n",
       "      <td>2237300.0</td>\n",
       "      <td>2237300.0</td>\n",
       "      <td>0.020000</td>\n",
       "    </tr>\n",
       "    <tr>\n",
       "      <th>2022-12-23 18:14:00</th>\n",
       "      <td>2237001.0</td>\n",
       "      <td>2237452.0</td>\n",
       "      <td>2237001.0</td>\n",
       "      <td>2237452.0</td>\n",
       "      <td>0.015000</td>\n",
       "    </tr>\n",
       "    <tr>\n",
       "      <th>...</th>\n",
       "      <td>...</td>\n",
       "      <td>...</td>\n",
       "      <td>...</td>\n",
       "      <td>...</td>\n",
       "      <td>...</td>\n",
       "    </tr>\n",
       "    <tr>\n",
       "      <th>2022-12-24 18:02:00</th>\n",
       "      <td>2241944.0</td>\n",
       "      <td>2242514.0</td>\n",
       "      <td>2241906.0</td>\n",
       "      <td>2241925.0</td>\n",
       "      <td>0.072165</td>\n",
       "    </tr>\n",
       "    <tr>\n",
       "      <th>2022-12-24 18:03:00</th>\n",
       "      <td>2242316.0</td>\n",
       "      <td>2242316.0</td>\n",
       "      <td>2241799.0</td>\n",
       "      <td>2241799.0</td>\n",
       "      <td>0.032926</td>\n",
       "    </tr>\n",
       "    <tr>\n",
       "      <th>2022-12-24 18:05:00</th>\n",
       "      <td>2244500.0</td>\n",
       "      <td>2244500.0</td>\n",
       "      <td>2244119.0</td>\n",
       "      <td>2244161.0</td>\n",
       "      <td>3.282765</td>\n",
       "    </tr>\n",
       "    <tr>\n",
       "      <th>2022-12-24 18:06:00</th>\n",
       "      <td>2243000.0</td>\n",
       "      <td>2243000.0</td>\n",
       "      <td>2243000.0</td>\n",
       "      <td>2243000.0</td>\n",
       "      <td>0.100000</td>\n",
       "    </tr>\n",
       "    <tr>\n",
       "      <th>2022-12-24 18:09:00</th>\n",
       "      <td>2242230.0</td>\n",
       "      <td>2242230.0</td>\n",
       "      <td>2241775.0</td>\n",
       "      <td>2242181.0</td>\n",
       "      <td>0.162000</td>\n",
       "    </tr>\n",
       "  </tbody>\n",
       "</table>\n",
       "<p>1053 rows × 5 columns</p>\n",
       "</div>"
      ],
      "text/plain": [
       "                          open       high        low      close    volume\n",
       "day                                                                      \n",
       "2022-12-23 18:10:00  2238330.0  2238446.0  2238330.0  2238446.0  0.031480\n",
       "2022-12-23 18:11:00  2238106.0  2238106.0  2237654.0  2237654.0  0.137240\n",
       "2022-12-23 18:12:00  2237373.0  2237814.0  2237214.0  2237620.0  0.105430\n",
       "2022-12-23 18:13:00  2237542.0  2237680.0  2237300.0  2237300.0  0.020000\n",
       "2022-12-23 18:14:00  2237001.0  2237452.0  2237001.0  2237452.0  0.015000\n",
       "...                        ...        ...        ...        ...       ...\n",
       "2022-12-24 18:02:00  2241944.0  2242514.0  2241906.0  2241925.0  0.072165\n",
       "2022-12-24 18:03:00  2242316.0  2242316.0  2241799.0  2241799.0  0.032926\n",
       "2022-12-24 18:05:00  2244500.0  2244500.0  2244119.0  2244161.0  3.282765\n",
       "2022-12-24 18:06:00  2243000.0  2243000.0  2243000.0  2243000.0  0.100000\n",
       "2022-12-24 18:09:00  2242230.0  2242230.0  2241775.0  2242181.0  0.162000\n",
       "\n",
       "[1053 rows x 5 columns]"
      ]
     },
     "execution_count": 89,
     "metadata": {},
     "output_type": "execute_result"
    }
   ],
   "source": [
    "df_"
   ]
  },
  {
   "cell_type": "code",
   "execution_count": null,
   "metadata": {},
   "outputs": [],
   "source": [
    "%autoreload\n",
    "\n",
    "cs_log_dict = {}\n",
    "for alpha in [0.2,0.3,0.4,0.5,0.6,0.7,0.8,0.9,1.0]:\n",
    "    for beta in [0.1,0.2,0.3,0.4,0.5,0.6,0.7,0.8,0.9]:\n",
    "        if alpha<=beta:continue\n",
    "        for width in [20]:\n",
    "            cs = CeilSimulation(alpha=alpha,beta=beta,width=width,hold_day=1000)\n",
    "            cs.simulate(df_,start_year=2021,end_year=2022,is_validate=True)\n",
    "            name_ = str(alpha)+'_'+str(beta)+'_'+str(width)\n",
    "            cs_log_dict[name_] = cs.trade_log\n",
    "            "
   ]
  },
  {
   "cell_type": "code",
   "execution_count": 79,
   "metadata": {},
   "outputs": [
    {
     "name": "stdout",
     "output_type": "stream",
     "text": [
      "best prf key : 0.5_0.1_60\n",
      "best prf     : 293.0\n"
     ]
    }
   ],
   "source": [
    "best_prf = -10**7\n",
    "best_prf_key = ''\n",
    "\n",
    "for i,key in enumerate(cs_log_dict):\n",
    "    cs_log = cs_log_dict[key]\n",
    "    prf = cs_log['total_profit'].values[0]\n",
    "    # print(prf)\n",
    "    # break\n",
    "    if prf>best_prf:\n",
    "        best_prf = prf\n",
    "        best_prf_key = key\n",
    "        \n",
    "print(\"best prf key :\",best_prf_key)\n",
    "print(\"best prf     :\",best_prf)"
   ]
  },
  {
   "cell_type": "code",
   "execution_count": 51,
   "metadata": {},
   "outputs": [
    {
     "data": {
      "text/html": [
       "<div>\n",
       "<style scoped>\n",
       "    .dataframe tbody tr th:only-of-type {\n",
       "        vertical-align: middle;\n",
       "    }\n",
       "\n",
       "    .dataframe tbody tr th {\n",
       "        vertical-align: top;\n",
       "    }\n",
       "\n",
       "    .dataframe thead th {\n",
       "        text-align: right;\n",
       "    }\n",
       "</style>\n",
       "<table border=\"1\" class=\"dataframe\">\n",
       "  <thead>\n",
       "    <tr style=\"text-align: right;\">\n",
       "      <th></th>\n",
       "      <th>total_profit</th>\n",
       "      <th>profit rate</th>\n",
       "      <th>trade_count</th>\n",
       "      <th>max_profit</th>\n",
       "      <th>min_profit</th>\n",
       "      <th>mean_profit</th>\n",
       "      <th>cant_buy_count</th>\n",
       "    </tr>\n",
       "  </thead>\n",
       "  <tbody>\n",
       "    <tr>\n",
       "      <th>1</th>\n",
       "      <td>713.0</td>\n",
       "      <td>28.52</td>\n",
       "      <td>46</td>\n",
       "      <td>1612.0</td>\n",
       "      <td>-2723.0</td>\n",
       "      <td>352.978261</td>\n",
       "      <td>0</td>\n",
       "    </tr>\n",
       "  </tbody>\n",
       "</table>\n",
       "</div>"
      ],
      "text/plain": [
       "   total_profit  profit rate  trade_count  max_profit  min_profit  \\\n",
       "1         713.0        28.52           46      1612.0     -2723.0   \n",
       "\n",
       "   mean_profit  cant_buy_count  \n",
       "1   352.978261               0  "
      ]
     },
     "execution_count": 51,
     "metadata": {},
     "output_type": "execute_result"
    }
   ],
   "source": [
    "# 25日のデータ\n",
    "# 最高収益\n",
    "cs_log_dict['0.7_0.2_20']"
   ]
  },
  {
   "cell_type": "code",
   "execution_count": 39,
   "metadata": {},
   "outputs": [
    {
     "data": {
      "text/html": [
       "<div>\n",
       "<style scoped>\n",
       "    .dataframe tbody tr th:only-of-type {\n",
       "        vertical-align: middle;\n",
       "    }\n",
       "\n",
       "    .dataframe tbody tr th {\n",
       "        vertical-align: top;\n",
       "    }\n",
       "\n",
       "    .dataframe thead th {\n",
       "        text-align: right;\n",
       "    }\n",
       "</style>\n",
       "<table border=\"1\" class=\"dataframe\">\n",
       "  <thead>\n",
       "    <tr style=\"text-align: right;\">\n",
       "      <th></th>\n",
       "      <th>total_profit</th>\n",
       "      <th>profit rate</th>\n",
       "      <th>trade_count</th>\n",
       "      <th>max_profit</th>\n",
       "      <th>min_profit</th>\n",
       "      <th>mean_profit</th>\n",
       "      <th>cant_buy_count</th>\n",
       "    </tr>\n",
       "  </thead>\n",
       "  <tbody>\n",
       "    <tr>\n",
       "      <th>1</th>\n",
       "      <td>4339.0</td>\n",
       "      <td>173.56</td>\n",
       "      <td>23</td>\n",
       "      <td>4784.0</td>\n",
       "      <td>-3495.0</td>\n",
       "      <td>891.304348</td>\n",
       "      <td>0</td>\n",
       "    </tr>\n",
       "  </tbody>\n",
       "</table>\n",
       "</div>"
      ],
      "text/plain": [
       "   total_profit  profit rate  trade_count  max_profit  min_profit  \\\n",
       "1        4339.0       173.56           23      4784.0     -3495.0   \n",
       "\n",
       "   mean_profit  cant_buy_count  \n",
       "1   891.304348               0  "
      ]
     },
     "execution_count": 39,
     "metadata": {},
     "output_type": "execute_result"
    }
   ],
   "source": [
    "# 24日のデータ\n",
    "# 最高収益\n",
    "cs_log_dict['0.9_0.2_50']"
   ]
  },
  {
   "cell_type": "markdown",
   "metadata": {},
   "source": [
    "## 新システム\n",
    "\n"
   ]
  },
  {
   "cell_type": "markdown",
   "metadata": {},
   "source": [
    "## メモ\n",
    "購入, 売り価格はやっぱり指値注文にした方がよい気がする"
   ]
  },
  {
   "cell_type": "code",
   "execution_count": null,
   "metadata": {},
   "outputs": [],
   "source": [
    "\n",
    "limit_ = 30\n",
    "i = 0\n",
    "price_list = []\n",
    "index_list = []\n",
    "open_list = []\n",
    "high_list = []\n",
    "low_list = []\n",
    "close_list = []\n",
    "volume_list = []\n",
    "\n",
    "while i<limit_:\n",
    "    i+=1\n",
    "    last_price = ticker_info()['last']\n",
    "    price_list.append(last_price)\n",
    "    # print(\"price :\",last_price) \n",
    "    time.sleep(60)\n",
    "\n",
    "\n",
    "\n",
    "\n",
    "\n",
    "trade_count = 0\n",
    "profit = 0\n",
    "total_profit = 0\n",
    "pos = 'none'\n",
    "remain_btc = float(balance_info()['info']['btc'])\n",
    "jpy_before = float(balance_info()['info']['jpy'])\n",
    "ma_short = 5\n",
    "ma_long = 25\n",
    "\n",
    "while True:\n",
    "    \n",
    "    \n",
    "    try:\n",
    "        \n",
    "        time.sleep(57)\n",
    "        price_list.pop(0)\n",
    "        price_list.append(ticker_info()['last'])\n",
    "        price_df = pd.Series(price_list)\n",
    "        short_line = price_df.rolling(ma_short).mean()\n",
    "        long_line = price_df.rolling(ma_long).mean()\n",
    "        # print(\"price_list \",price_list)\n",
    "        print(\"short_line :\",short_line.tail().tolist())\n",
    "        print(\"long_line  :\",long_line.tail().tolist())\n",
    "        print(\"price_list :\",price_list[:-5])\n",
    "        index_ = len(price_df) - 1\n",
    "        buy_flag = is_buyable(short_line,long_line,index_)\n",
    "        sell_flag = is_sellable(short_line,long_line,index_)\n",
    "        print(\"is_buyable\",buy_flag)\n",
    "        print(\"is_sellable \",sell_flag)\n",
    "        print(\"pos \",pos)\n",
    "        \n",
    "        \n",
    "        if pos=='none':\n",
    "\n",
    "        # short_line = [ 100, 110, 120, 130, 140]\n",
    "        # long_line  = [ 110, 112, 119,]\n",
    "            \n",
    "            if buy_flag:\n",
    "                # buy_market() #未実装\n",
    "                # デモ用\n",
    "                orderbook = OrderBook()\n",
    "                sell_nariyuki = orderbook['asks'][0][0]\n",
    "                index_buy = sell_nariyuki\n",
    "                pos = 'entry'\n",
    "                logger.info('buy')\n",
    "            \n",
    "\n",
    "            # time.sleep(6)\n",
    "            \n",
    "        if pos=='entry':\n",
    "            # 買えたかどうかチェック\n",
    "            # is_buy, is_sell = get_status(sell_amount)\n",
    "            # message = 'is_buy : '+str(is_buy)+' '+'is_sell : '+str(is_sell)\n",
    "            \n",
    "            if sell_flag:\n",
    "                # sell_market() #未実装\n",
    "                # デモ用\n",
    "                orderbook = OrderBook()\n",
    "                buy_nariyuki  = orderbook['bids'][0][0]\n",
    "                index_sell = buy_nariyuki\n",
    "                pos = 'none'\n",
    "                prf = index_sell - index_buy\n",
    "                total_profit += prf\n",
    "                logger.info('profit :{0}'.format(prf))\n",
    "                logger.info('total profit :{0}'.format(total_profit))\n",
    "                \n",
    "        # time.sleep(2)\n",
    "        \n",
    "    except KeyboardInterrupt:\n",
    "        logger.info('Finish trade.')\n",
    "        send_line_notify('Finish')\n",
    "        break\n",
    "    \n",
    "    except Exception as e :\n",
    "        print(e)\n",
    "        # エラーが起きた際, ラインに通知が行くようにすると便利\n",
    "        send_line_notify(e)\n",
    "        break\n",
    "    \n",
    "jpy_after = float(balance_info()['info']['jpy'])\n",
    "logger.info('Total Profit :{0}'.format(jpy_after-jpy_before))\n",
    "order_now = OpenOrder()\n",
    "order_now\n",
    "# 104727行目　おかしい\n"
   ]
  },
  {
   "attachments": {},
   "cell_type": "markdown",
   "metadata": {},
   "source": [
    "long_line も short_line も \\\n",
    "右肩下がりのとき, 回シグナルでる　そういうときはやめる \\\n",
    "short_line 微分係数 0 の時売却"
   ]
  },
  {
   "cell_type": "markdown",
   "metadata": {},
   "source": [
    "## データ取得"
   ]
  },
  {
   "cell_type": "code",
   "execution_count": 76,
   "metadata": {},
   "outputs": [],
   "source": [
    "orderbook = OrderBook()\n",
    "# 成り行き売り注文だったら約定すると思われる価格\n",
    "buy_nariyuki  = orderbook['bids'][0][0]\n",
    "# 成り行き買い注文だったら約定すると思われる価格\n",
    "sell_nariyuki = orderbook['asks'][0][0]"
   ]
  },
  {
   "cell_type": "code",
   "execution_count": null,
   "metadata": {},
   "outputs": [],
   "source": [
    "orderbook['asks']"
   ]
  },
  {
   "cell_type": "code",
   "execution_count": null,
   "metadata": {},
   "outputs": [],
   "source": [
    "limit_ = 20\n",
    "i = 0\n",
    "price_list = []\n",
    "\n",
    "while i<limit_:\n",
    "    i+=1\n",
    "    last_price = ticker_info()['last']\n",
    "    price_list.append(last_price)\n",
    "    print(\"price :\",last_price) \n",
    "    time.sleep(60)"
   ]
  },
  {
   "cell_type": "code",
   "execution_count": 7,
   "metadata": {},
   "outputs": [
    {
     "data": {
      "text/plain": [
       "{'symbol': 'BTC/JPY',\n",
       " 'timestamp': 1671760664000,\n",
       " 'datetime': '2022-12-23T01:57:44.000Z',\n",
       " 'high': 2234746.0,\n",
       " 'low': 2197001.0,\n",
       " 'bid': 2227527.0,\n",
       " 'bidVolume': None,\n",
       " 'ask': 2228062.0,\n",
       " 'askVolume': None,\n",
       " 'vwap': None,\n",
       " 'open': None,\n",
       " 'close': 2227609.0,\n",
       " 'last': 2227609.0,\n",
       " 'previousClose': None,\n",
       " 'change': None,\n",
       " 'percentage': None,\n",
       " 'average': None,\n",
       " 'baseVolume': 1330.31840349,\n",
       " 'quoteVolume': None,\n",
       " 'info': {'last': '2227609.0',\n",
       "  'bid': '2227527.0',\n",
       "  'ask': '2228062.0',\n",
       "  'high': '2234746.0',\n",
       "  'low': '2197001.0',\n",
       "  'volume': '1330.31840349',\n",
       "  'timestamp': '1671760664'}}"
      ]
     },
     "execution_count": 7,
     "metadata": {},
     "output_type": "execute_result"
    }
   ],
   "source": [
    "ticker_info()"
   ]
  },
  {
   "cell_type": "code",
   "execution_count": 8,
   "metadata": {},
   "outputs": [
    {
     "data": {
      "text/plain": [
       "[[1671760860000, 2227313.0, 2227313.0, 2226871.0, 2226888.0, 0.74227]]"
      ]
     },
     "execution_count": 8,
     "metadata": {},
     "output_type": "execute_result"
    }
   ],
   "source": [
    "coincheck.fetch_ohlcv(symbol=SYMBOL,timeframe='1m')"
   ]
  },
  {
   "cell_type": "code",
   "execution_count": 88,
   "metadata": {},
   "outputs": [],
   "source": [
    "result = get_ohlcv(limit=500,since=base)"
   ]
  },
  {
   "cell_type": "code",
   "execution_count": 105,
   "metadata": {},
   "outputs": [
    {
     "data": {
      "text/plain": [
       "540"
      ]
     },
     "execution_count": 105,
     "metadata": {},
     "output_type": "execute_result"
    }
   ],
   "source": [
    "60*9"
   ]
  },
  {
   "cell_type": "code",
   "execution_count": 103,
   "metadata": {},
   "outputs": [
    {
     "data": {
      "text/plain": [
       "1440"
      ]
     },
     "execution_count": 103,
     "metadata": {},
     "output_type": "execute_result"
    }
   ],
   "source": [
    "24*60"
   ]
  },
  {
   "cell_type": "code",
   "execution_count": 104,
   "metadata": {},
   "outputs": [
    {
     "data": {
      "text/plain": [
       "60.0"
      ]
     },
     "execution_count": 104,
     "metadata": {},
     "output_type": "execute_result"
    }
   ],
   "source": [
    "86400/1440"
   ]
  },
  {
   "cell_type": "code",
   "execution_count": null,
   "metadata": {},
   "outputs": [],
   "source": [
    "# 1day : 86400\n",
    "\"\"\"\n",
    " 1day -> 24 * 60 = 1440 min\n",
    "\"\"\""
   ]
  },
  {
   "cell_type": "code",
   "execution_count": 115,
   "metadata": {},
   "outputs": [
    {
     "data": {
      "text/plain": [
       "2229021.0"
      ]
     },
     "execution_count": 115,
     "metadata": {},
     "output_type": "execute_result"
    }
   ],
   "source": [
    "result[0][1]"
   ]
  },
  {
   "cell_type": "code",
   "execution_count": 148,
   "metadata": {},
   "outputs": [
    {
     "data": {
      "text/plain": [
       "1671762499"
      ]
     },
     "execution_count": 148,
     "metadata": {},
     "output_type": "execute_result"
    }
   ],
   "source": [
    "base"
   ]
  },
  {
   "cell_type": "code",
   "execution_count": 157,
   "metadata": {},
   "outputs": [
    {
     "data": {
      "text/plain": [
       "1671781005.852507"
      ]
     },
     "execution_count": 157,
     "metadata": {},
     "output_type": "execute_result"
    }
   ],
   "source": [
    "time.time()"
   ]
  },
  {
   "cell_type": "markdown",
   "metadata": {},
   "source": [
    "## 一分足　チャート　記録"
   ]
  },
  {
   "cell_type": "code",
   "execution_count": 245,
   "metadata": {},
   "outputs": [],
   "source": [
    "result = coincheck.fetch_ohlcv(\n",
    "        symbol=SYMBOL,\n",
    "        timeframe='1m',\n",
    "        )\n",
    "\n",
    "index_list = []\n",
    "open_list = []\n",
    "high_list = []\n",
    "low_list = []\n",
    "close_list = []\n",
    "volume_list = []\n",
    "start_time = time.time()\n",
    "now_time = time.time()\n",
    "\n",
    "while now_time - start_time < 86400:\n",
    "\n",
    "        time.sleep(60)\n",
    "        now_time = time.time()\n",
    "        result = get_ohlcv()\n",
    "        last_result = result[-1]\n",
    "        dt = int(str(last_result[0])[:-3])\n",
    "        index_ = datetime.datetime.fromtimestamp(dt) \n",
    "        open_ = last_result[1]\n",
    "        high_ = last_result[2]\n",
    "        low_ = last_result[3]\n",
    "        close_ = last_result[4]\n",
    "        volume_ = last_result[5]\n",
    "        \n",
    "        index_list.append(index_)\n",
    "        open_list.append(open_)\n",
    "        high_list.append(high_)\n",
    "        low_list.append(low_)\n",
    "        close_list.append(close_)\n",
    "        volume_list.append(volume_)\n",
    "        \n",
    "\n",
    "col_dict = {\n",
    "        'index':index_list,\n",
    "        'open_':open_list,\n",
    "        'high_':high_list,\n",
    "        'low_':low_list,\n",
    "        'close_':close_list,\n",
    "        'volume_':volume_list\n",
    "}\n",
    "\n",
    "# 逐次保存するように変更する\n",
    "df_ = pd.DataFrame(col_dict)\n",
    "path_ = '/Users/Owner/Desktop/BitCoin/Data/'\n",
    "date_ = str(datetime.datetime.fromtimestamp(time.time()))[:10]\n",
    "df_.to_csv(path_+'min1_'+date_+'.csv')\n"
   ]
  },
  {
   "cell_type": "code",
   "execution_count": 244,
   "metadata": {},
   "outputs": [
    {
     "data": {
      "text/plain": [
       "86400"
      ]
     },
     "execution_count": 244,
     "metadata": {},
     "output_type": "execute_result"
    }
   ],
   "source": [
    "60*60*24"
   ]
  },
  {
   "cell_type": "code",
   "execution_count": 227,
   "metadata": {},
   "outputs": [
    {
     "data": {
      "text/plain": [
       "10.00082516670227"
      ]
     },
     "execution_count": 227,
     "metadata": {},
     "output_type": "execute_result"
    }
   ],
   "source": [
    "start_time = time.time()\t\t\n",
    "time.sleep(10)\n",
    "end_time = time.time()\n",
    "\n",
    "end_time - start_time"
   ]
  },
  {
   "cell_type": "code",
   "execution_count": 237,
   "metadata": {},
   "outputs": [
    {
     "name": "stdout",
     "output_type": "stream",
     "text": [
      "2022-12-23\n"
     ]
    }
   ],
   "source": [
    "print(str(datetime.datetime.fromtimestamp(time.time()))[:10])"
   ]
  },
  {
   "cell_type": "code",
   "execution_count": 221,
   "metadata": {},
   "outputs": [
    {
     "data": {
      "text/plain": [
       "{'index': [datetime.datetime(2022, 12, 23, 17, 45),\n",
       "  datetime.datetime(2022, 12, 23, 17, 45)],\n",
       " 'open_': [2237387.0, 2237387.0],\n",
       " 'high_': [2237387.0, 2237387.0],\n",
       " 'low_': [2237121.0, 2237121.0],\n",
       " 'close_': [2237121.0, 2237121.0],\n",
       " 'volume_': [0.19000000000000003, 0.19000000000000003]}"
      ]
     },
     "execution_count": 221,
     "metadata": {},
     "output_type": "execute_result"
    }
   ],
   "source": [
    "col_dict"
   ]
  },
  {
   "cell_type": "code",
   "execution_count": 222,
   "metadata": {},
   "outputs": [],
   "source": [
    "df_ = pd.DataFrame(col_dict)"
   ]
  },
  {
   "cell_type": "code",
   "execution_count": 224,
   "metadata": {},
   "outputs": [
    {
     "data": {
      "text/html": [
       "<div>\n",
       "<style scoped>\n",
       "    .dataframe tbody tr th:only-of-type {\n",
       "        vertical-align: middle;\n",
       "    }\n",
       "\n",
       "    .dataframe tbody tr th {\n",
       "        vertical-align: top;\n",
       "    }\n",
       "\n",
       "    .dataframe thead th {\n",
       "        text-align: right;\n",
       "    }\n",
       "</style>\n",
       "<table border=\"1\" class=\"dataframe\">\n",
       "  <thead>\n",
       "    <tr style=\"text-align: right;\">\n",
       "      <th></th>\n",
       "      <th>index</th>\n",
       "      <th>open_</th>\n",
       "      <th>high_</th>\n",
       "      <th>low_</th>\n",
       "      <th>close_</th>\n",
       "      <th>volume_</th>\n",
       "    </tr>\n",
       "  </thead>\n",
       "  <tbody>\n",
       "    <tr>\n",
       "      <th>0</th>\n",
       "      <td>2022-12-23 17:45:00</td>\n",
       "      <td>2237387.0</td>\n",
       "      <td>2237387.0</td>\n",
       "      <td>2237121.0</td>\n",
       "      <td>2237121.0</td>\n",
       "      <td>0.19</td>\n",
       "    </tr>\n",
       "    <tr>\n",
       "      <th>1</th>\n",
       "      <td>2022-12-23 17:45:00</td>\n",
       "      <td>2237387.0</td>\n",
       "      <td>2237387.0</td>\n",
       "      <td>2237121.0</td>\n",
       "      <td>2237121.0</td>\n",
       "      <td>0.19</td>\n",
       "    </tr>\n",
       "  </tbody>\n",
       "</table>\n",
       "</div>"
      ],
      "text/plain": [
       "                index      open_      high_       low_     close_  volume_\n",
       "0 2022-12-23 17:45:00  2237387.0  2237387.0  2237121.0  2237121.0     0.19\n",
       "1 2022-12-23 17:45:00  2237387.0  2237387.0  2237121.0  2237121.0     0.19"
      ]
     },
     "execution_count": 224,
     "metadata": {},
     "output_type": "execute_result"
    }
   ],
   "source": [
    "df_"
   ]
  },
  {
   "cell_type": "code",
   "execution_count": 211,
   "metadata": {},
   "outputs": [
    {
     "data": {
      "text/plain": [
       "datetime.datetime(2022, 12, 23, 16, 26)"
      ]
     },
     "execution_count": 211,
     "metadata": {},
     "output_type": "execute_result"
    }
   ],
   "source": [
    "index_ = str(result2[0][0])\n",
    "index_ = index_[:-3]\n",
    "index_ = int(index_)\n",
    "dt = datetime.datetime.fromtimestamp(index_)\n",
    "dt"
   ]
  },
  {
   "cell_type": "code",
   "execution_count": 75,
   "metadata": {},
   "outputs": [
    {
     "name": "stdout",
     "output_type": "stream",
     "text": [
      "9\n"
     ]
    }
   ],
   "source": [
    "print(len(result))"
   ]
  },
  {
   "cell_type": "markdown",
   "metadata": {},
   "source": [
    "# Unix 時間取得\n",
    "参考 : https://tools.m-bsys.com/dev_tools/unix_time.php"
   ]
  },
  {
   "cell_type": "code",
   "execution_count": 31,
   "metadata": {},
   "outputs": [
    {
     "data": {
      "text/plain": [
       "datetime.datetime(1970, 1, 1, 9, 0)"
      ]
     },
     "execution_count": 31,
     "metadata": {},
     "output_type": "execute_result"
    }
   ],
   "source": [
    "import datetime\n",
    "\n",
    "dt = datetime.datetime.fromtimestamp(0)\n",
    "dt"
   ]
  },
  {
   "cell_type": "code",
   "execution_count": null,
   "metadata": {},
   "outputs": [],
   "source": [
    "# 11:25:24 -> 1671762324\n",
    "# 11:26:07 -> 1671762368"
   ]
  },
  {
   "cell_type": "markdown",
   "metadata": {},
   "source": [
    "## 新システム"
   ]
  },
  {
   "cell_type": "code",
   "execution_count": 173,
   "metadata": {},
   "outputs": [],
   "source": [
    "path_list = [\n",
    "'/Users/Owner/Desktop/BitCoin/Data/min1_2022-12-24.csv',\n",
    "'/Users/Owner/Desktop/BitCoin/Data/min1_2022-12-25.csv',\n",
    "'/Users/Owner/Desktop/BitCoin/Data/min1_2022-12-27.csv',\n",
    "'/Users/Owner/Desktop/BitCoin/Data/min1_2022-12-28.csv',\n",
    "'/Users/Owner/Desktop/BitCoin/Data/min1_2022-12-29.csv',\n",
    "'/Users/Owner/Desktop/BitCoin/Data/min1_2022-12-30.csv',\n",
    "'/Users/Owner/Desktop/BitCoin/Data/min1_2022-12-31.csv'\n",
    "]\n",
    "\n",
    "df1 = load_csv_for_1min(path_min1)\n",
    "\n",
    "df_list = []\n",
    "for path_ in path_list:\n",
    "    df_list.append(load_csv_for_1min(path_))"
   ]
  },
  {
   "cell_type": "code",
   "execution_count": 176,
   "metadata": {},
   "outputs": [
    {
     "data": {
      "text/plain": [
       "7"
      ]
     },
     "execution_count": 176,
     "metadata": {},
     "output_type": "execute_result"
    }
   ],
   "source": [
    "len(df_list)"
   ]
  },
  {
   "cell_type": "code",
   "execution_count": 180,
   "metadata": {},
   "outputs": [
    {
     "data": {
      "text/plain": [
       "3.550380228136882"
      ]
     },
     "execution_count": 180,
     "metadata": {},
     "output_type": "execute_result"
    }
   ],
   "source": [
    "df_tmp = df_list[0]\n",
    "df_tmp['close'].diff().mean()"
   ]
  },
  {
   "cell_type": "markdown",
   "metadata": {},
   "source": [
    "### ここ１週間の差分の平均"
   ]
  },
  {
   "cell_type": "code",
   "execution_count": 186,
   "metadata": {},
   "outputs": [
    {
     "data": {
      "image/png": "[encoded data removed]",
      "text/plain": [
       "<Figure size 432x288 with 1 Axes>"
      ]
     },
     "metadata": {
      "needs_background": "light"
     },
     "output_type": "display_data"
    },
    {
     "data": {
      "image/png": "[encoded data removed]",
      "text/plain": [
       "<Figure size 432x288 with 1 Axes>"
      ]
     },
     "metadata": {
      "needs_background": "light"
     },
     "output_type": "display_data"
    },
    {
     "data": {
      "image/png": "[encoded data removed]",
      "text/plain": [
       "<Figure size 432x288 with 1 Axes>"
      ]
     },
     "metadata": {
      "needs_background": "light"
     },
     "output_type": "display_data"
    },
    {
     "data": {
      "image/png": "[encoded data removed]",
      "text/plain": [
       "<Figure size 432x288 with 1 Axes>"
      ]
     },
     "metadata": {
      "needs_background": "light"
     },
     "output_type": "display_data"
    },
    {
     "data": {
      "image/png": "[encoded data removed]",
      "text/plain": [
       "<Figure size 432x288 with 1 Axes>"
      ]
     },
     "metadata": {
      "needs_background": "light"
     },
     "output_type": "display_data"
    },
    {
     "data": {
      "image/png": "[encoded data removed]",
      "text/plain": [
       "<Figure size 432x288 with 1 Axes>"
      ]
     },
     "metadata": {
      "needs_background": "light"
     },
     "output_type": "display_data"
    },
    {
     "data": {
      "image/png": "[encoded data removed]",
      "text/plain": [
       "<Figure size 432x288 with 1 Axes>"
      ]
     },
     "metadata": {
      "needs_background": "light"
     },
     "output_type": "display_data"
    },
    {
     "data": {
      "text/plain": [
       "-6.275604980740956"
      ]
     },
     "execution_count": 186,
     "metadata": {},
     "output_type": "execute_result"
    }
   ],
   "source": [
    "mean_ = 0\n",
    "for df_ in df_list:\n",
    "    mean_ += df_['close'].diff().mean()\n",
    "    plt.clf()\n",
    "    plt.plot(df_['close'])\n",
    "    plt.show()\n",
    "    \n",
    "mean_/len(df_list)"
   ]
  },
  {
   "cell_type": "markdown",
   "metadata": {},
   "source": [
    "### つまり, 平均的に6円ほど下落"
   ]
  },
  {
   "cell_type": "code",
   "execution_count": 185,
   "metadata": {},
   "outputs": [
    {
     "data": {
      "text/plain": [
       "0.03"
      ]
     },
     "execution_count": 185,
     "metadata": {},
     "output_type": "execute_result"
    }
   ],
   "source": [
    "6*0.005"
   ]
  },
  {
   "cell_type": "code",
   "execution_count": null,
   "metadata": {},
   "outputs": [],
   "source": [
    "\n",
    "trade_count = 0\n",
    "profit = 0\n",
    "total_profit = 0\n",
    "pos = 'none'\n",
    "remain_btc = float(balance_info()['info']['btc'])\n",
    "jpy_before = float(balance_info()['info']['jpy'])\n",
    "\n",
    "\n",
    "while True:\n",
    "    \n",
    "    if pos=='none':\n",
    "        \n",
    "        # sell_amount はこれでいいよな？\n",
    "        sell_amount = BTC_AMOUNT\n",
    "        \n",
    "        # spread が小さくないと, あらぬ値段で約定しかねない\n",
    "        if spread<SPREAD:\n",
    "            \n",
    "            sell_market(btc_amount=BTC_AMOUNT) \n",
    "            time.sleep(5)\n",
    "            # さすがに100%売れると思うけど...\n",
    "            _,is_sell = get_status(sell_amount)\n",
    "            \n",
    "            if is_sell:\n",
    "                pos = 'entry'\n",
    "        \n",
    "    if pos=='entry':\n",
    "        \n",
    "        is_profit_taking = judge_profit()\n",
    "        \n",
    "        if is_profit_taking and spread<SPREAD:\n",
    "            \n",
    "            buy_market(btc_amount=BTC_AMOUNT)\n",
    "            time.sleep(5)\n",
    "            # さすがに100%かえるよな?\n",
    "            is_buy,_ =  get_status(sell_amount)\n",
    "            \n",
    "            if is_buy:\n",
    "                pos = 'none'\n",
    "                b_info = balance_info()\n",
    "                \n",
    "                logger.info(\"-------------------\")\n",
    "                logger.info('Done trade')\n",
    "                logger.info('sell price  :{0}'.format(int(sell_price)))\n",
    "                logger.info('buy price   :{0}'.format(int(buy_price)))\n",
    "                logger.info('profit      :{0}'.format(profit))\n",
    "                logger.info('trade_count :{0}'.format(trade_count))\n",
    "                logger.info('free        :{0}'.format(b_info['free']['BTC']))\n",
    "                logger.info('used        :{0}'.format(b_info['used']['BTC']))\n",
    "                logger.info('total       :{0}'.format(b_info['total']['BTC']))\n",
    "                logger.info('Total profit:{0}'.format(total_profit))\n",
    "                logger.info('spread      :{0}'.format(spread))\n",
    "                logger.info('jpy diff    :{0}'.format(jpy_diff))\n",
    "                logger.info('pct_rate    :{0}'.format(pct_rate))\n",
    "                logger.info('trade_bias  :{0}'.format(trade_bias))\n",
    "                logger.info('volume_hour :{0}'.format(volume_hour))\n",
    "                logger.info(\"-------------------\")\n",
    "            \n",
    "            \n",
    "    \n",
    "    "
   ]
  }
 ],
 "metadata": {
  "kernelspec": {
   "display_name": "Python 3.9.13 64-bit (windows store)",
   "language": "python",
   "name": "python3"
  },
  "language_info": {
   "codemirror_mode": {
    "name": "ipython",
    "version": 3
   },
   "file_extension": ".py",
   "mimetype": "text/x-python",
   "name": "python",
   "nbconvert_exporter": "python",
   "pygments_lexer": "ipython3",
   "version": "3.9.13"
  },
  "orig_nbformat": 4,
  "vscode": {
   "interpreter": {
    "hash": "d6ca01a9d29b8f49b2398e47ff0a4f0d82a4b97eff954d8fa800ff949016a671"
   }
  }
 },
 "nbformat": 4,
 "nbformat_minor": 2
}
